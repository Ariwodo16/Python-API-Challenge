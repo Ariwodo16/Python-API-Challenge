{
 "cells": [
  {
   "cell_type": "markdown",
   "metadata": {},
   "source": [
    "# WeatherPy\n",
    "----\n",
    "\n",
    "#### Note\n",
    "* Instructions have been included for each segment. You do not have to follow them exactly, but they are included to help you think through the steps."
   ]
  },
  {
   "cell_type": "code",
   "execution_count": 1,
   "metadata": {
    "scrolled": true
   },
   "outputs": [],
   "source": [
    "# Dependencies and Setup\n",
    "import matplotlib.pyplot as plt\n",
    "import pandas as pd\n",
    "import numpy as np\n",
    "import requests\n",
    "import time\n",
    "from scipy.stats import linregress\n",
    "from pprint import pprint\n",
    "import json\n",
    "\n",
    "# Import API key\n",
    "from api_keys import weather_api_key\n",
    "\n",
    "# Incorporated citipy to determine city based on latitude and longitude\n",
    "from citipy import citipy\n",
    "\n",
    "# Output File (CSV)\n",
    "output_data_file = \"output_data/cities.csv\"\n",
    "\n",
    "# Range of latitudes and longitudes\n",
    "lat_range = (-90, 90)\n",
    "lng_range = (-180, 180)"
   ]
  },
  {
   "cell_type": "markdown",
   "metadata": {},
   "source": [
    "## Generate Cities List"
   ]
  },
  {
   "cell_type": "code",
   "execution_count": 2,
   "metadata": {},
   "outputs": [
    {
     "data": {
      "text/plain": [
       "638"
      ]
     },
     "execution_count": 2,
     "metadata": {},
     "output_type": "execute_result"
    }
   ],
   "source": [
    "# List for holding lat_lngs and cities\n",
    "lat_lngs = []\n",
    "cities = []\n",
    "\n",
    "# Create a set of random lat and lng combinations\n",
    "lats = np.random.uniform(lat_range[0], lat_range[1], size=1500)\n",
    "lngs = np.random.uniform(lng_range[0], lng_range[1], size=1500)\n",
    "lat_lngs = zip(lats, lngs)\n",
    "\n",
    "# Identify nearest city for each lat, lng combination\n",
    "for lat_lng in lat_lngs:\n",
    "    city = citipy.nearest_city(lat_lng[0], lat_lng[1]).city_name\n",
    "    \n",
    "    # If the city is unique, then add it to a our cities list\n",
    "    if city not in cities:\n",
    "        cities.append(city)\n",
    "\n",
    "# Print the city count to confirm sufficient count\n",
    "len(cities)"
   ]
  },
  {
   "cell_type": "markdown",
   "metadata": {},
   "source": [
    "### Perform API Calls\n",
    "* Perform a weather check on each city using a series of successive API calls.\n",
    "* Include a print log of each city as it'sbeing processed (with the city number and city name).\n"
   ]
  },
  {
   "cell_type": "code",
   "execution_count": 3,
   "metadata": {},
   "outputs": [],
   "source": [
    "# Save config information\n",
    "url = \"http://api.openweathermap.org/data/2.5/weather?\"\n",
    "units = \"imperial\"\n",
    "\n",
    "# Build query URL\n",
    "queryURL = f\"{url}appid={weather_api_key}&units={units}&q=\"\n",
    "\n",
    "response = requests.get(queryURL + city).json()"
   ]
  },
  {
   "cell_type": "code",
   "execution_count": 4,
   "metadata": {
    "scrolled": true
   },
   "outputs": [
    {
     "name": "stdout",
     "output_type": "stream",
     "text": [
      "Beginning Data Retrieval\n",
      "-------------------------\n",
      "Processing Record 2 of set 1 | Albany\n",
      "Processing Record 3 of set 1 | Hilo\n",
      "Processing Record 4 of set 1 | Nome\n",
      "Processing Record 5 of set 1 | Carnarvon\n",
      "Processing Record 6 of set 1 | Puerto Ayora\n",
      "Processing Record 7 of set 1 | Semporna\n",
      "Processing Record 8 of set 1 | Rikitea\n",
      "Processing Record 9 of set 1 | Haines Junction\n",
      "Processing Record 10 of set 1 | Arraial do Cabo\n",
      "Processing Record 11 of set 1 | New Norfolk\n",
      "Processing Record 12 of set 1 | Bata\n",
      "Processing Record 13 of set 1 | Cayenne\n",
      "Processing Record 14 of set 1 | Belyy Yar\n",
      "Processing Record 15 of set 1 | Chui\n",
      "Processing Record 16 of set 1 | Bluff\n",
      "city not found. Skipping ...\n",
      "Processing Record 17 of set 1 | Kuandian\n",
      "Processing Record 18 of set 1 | Yellowknife\n",
      "Processing Record 19 of set 1 | Aklavik\n",
      "Processing Record 20 of set 1 | Mataura\n",
      "Processing Record 21 of set 1 | Escuinapa\n",
      "Processing Record 22 of set 1 | Tāybād\n",
      "city not found. Skipping ...\n",
      "Processing Record 23 of set 1 | Cape Town\n",
      "Processing Record 24 of set 1 | Jalu\n",
      "Processing Record 25 of set 1 | Ushuaia\n",
      "Processing Record 26 of set 1 | Departamento de Maldonado\n",
      "Processing Record 27 of set 1 | Vaini\n",
      "city not found. Skipping ...\n",
      "Processing Record 28 of set 1 | Urdoma\n",
      "Processing Record 29 of set 1 | Naifaru\n",
      "Processing Record 30 of set 1 | Punta Arenas\n",
      "Processing Record 31 of set 1 | Grindavik\n",
      "Processing Record 32 of set 1 | Caconda\n",
      "Processing Record 33 of set 1 | Santa Cruz Cabrália\n",
      "Processing Record 34 of set 1 | Kapaa\n",
      "Processing Record 35 of set 1 | Vredendal\n",
      "Processing Record 36 of set 1 | Makakilo City\n",
      "Processing Record 37 of set 1 | Codrington\n",
      "Processing Record 38 of set 1 | Pokosnoye\n",
      "Processing Record 39 of set 1 | Lavrentiya\n",
      "Processing Record 40 of set 1 | Hasaki\n",
      "Processing Record 41 of set 1 | Fortuna\n",
      "Processing Record 42 of set 1 | Pandan\n",
      "Processing Record 43 of set 1 | Atuona\n",
      "Processing Record 44 of set 1 | Hamīrpur\n",
      "Processing Record 45 of set 1 | Bubaque\n",
      "Processing Record 46 of set 1 | Cherskiy\n",
      "Processing Record 47 of set 1 | Pangnirtung\n",
      "Processing Record 48 of set 1 | Ziro\n",
      "Processing Record 49 of set 1 | Mayo\n",
      "Processing Record 50 of set 1 | East London\n",
      "Processing Record 0 of set 2 | Khovd\n",
      "Processing Record 1 of set 2 | Marsh Harbour\n",
      "Processing Record 2 of set 2 | Jamestown\n",
      "Processing Record 3 of set 2 | Westport\n",
      "Processing Record 4 of set 2 | Lompoc\n",
      "Processing Record 5 of set 2 | Hong Kong\n",
      "city not found. Skipping ...\n",
      "Processing Record 6 of set 2 | Guerrero Negro\n",
      "Processing Record 7 of set 2 | Atbasar\n",
      "Processing Record 8 of set 2 | Port Blair\n",
      "Processing Record 9 of set 2 | Nikolskoye\n",
      "Processing Record 10 of set 2 | Imbituba\n",
      "Processing Record 11 of set 2 | Neiafu\n",
      "Processing Record 12 of set 2 | Miraflores\n",
      "Processing Record 13 of set 2 | Bethel\n",
      "city not found. Skipping ...\n",
      "Processing Record 14 of set 2 | Longyearbyen\n",
      "Processing Record 15 of set 2 | Barrow\n",
      "Processing Record 16 of set 2 | Padang\n",
      "Processing Record 17 of set 2 | Adré\n",
      "Processing Record 18 of set 2 | Inhambane\n",
      "Processing Record 19 of set 2 | Busselton\n",
      "city not found. Skipping ...\n",
      "Processing Record 20 of set 2 | Kānkon\n",
      "Processing Record 21 of set 2 | Porto-Novo\n",
      "Processing Record 22 of set 2 | Makokou\n",
      "Processing Record 23 of set 2 | Moussoro\n",
      "Processing Record 24 of set 2 | Novaya Igirma\n",
      "Processing Record 25 of set 2 | Avarua\n",
      "Processing Record 26 of set 2 | College\n",
      "Processing Record 27 of set 2 | Kavieng\n",
      "city not found. Skipping ...\n",
      "Processing Record 28 of set 2 | Ostrovnoy\n",
      "city not found. Skipping ...\n",
      "Processing Record 29 of set 2 | Strezhevoy\n",
      "Processing Record 30 of set 2 | Saint Paul Harbor\n",
      "city not found. Skipping ...\n",
      "Processing Record 31 of set 2 | Roald\n",
      "Processing Record 32 of set 2 | Joshīmath\n",
      "Processing Record 33 of set 2 | Mattru\n",
      "Processing Record 34 of set 2 | Babu\n",
      "Processing Record 35 of set 2 | Mahébourg\n",
      "Processing Record 36 of set 2 | Changping\n",
      "Processing Record 37 of set 2 | Lethem\n",
      "city not found. Skipping ...\n",
      "Processing Record 38 of set 2 | Warmbad\n",
      "Processing Record 39 of set 2 | Asekeyevo\n",
      "Processing Record 40 of set 2 | Chipata\n",
      "Processing Record 41 of set 2 | Languyan\n",
      "Processing Record 42 of set 2 | Sabang\n",
      "Processing Record 43 of set 2 | Abu Dhabi\n",
      "Processing Record 44 of set 2 | Tasiilaq\n",
      "Processing Record 45 of set 2 | Altay\n",
      "Processing Record 46 of set 2 | Baykit\n",
      "Processing Record 47 of set 2 | Khani\n",
      "Processing Record 48 of set 2 | Jertih\n",
      "Processing Record 49 of set 2 | Laguna\n",
      "Processing Record 50 of set 2 | Asino\n",
      "Processing Record 0 of set 3 | Qaanaaq\n",
      "Processing Record 1 of set 3 | Naryan-Mar\n",
      "Processing Record 2 of set 3 | Itaituba\n",
      "Processing Record 3 of set 3 | Hithadhoo\n",
      "Processing Record 4 of set 3 | Tessalit\n",
      "Processing Record 5 of set 3 | Lebu\n",
      "Processing Record 6 of set 3 | Aripuanã\n",
      "Processing Record 7 of set 3 | Port Elizabeth\n",
      "Processing Record 8 of set 3 | Pochutla\n",
      "Processing Record 9 of set 3 | Kiunga\n",
      "Processing Record 10 of set 3 | Butaritari\n",
      "Processing Record 11 of set 3 | Northam\n",
      "Processing Record 12 of set 3 | Bathsheba\n",
      "Processing Record 13 of set 3 | Anshun\n",
      "Processing Record 14 of set 3 | Cidreira\n",
      "Processing Record 15 of set 3 | Torbay\n",
      "Processing Record 16 of set 3 | Tuktoyaktuk\n",
      "Processing Record 17 of set 3 | Port Alfred\n",
      "Processing Record 18 of set 3 | Provideniya\n",
      "Processing Record 19 of set 3 | Isangel\n",
      "Processing Record 20 of set 3 | Nabire\n",
      "Processing Record 21 of set 3 | Hobart\n",
      "Processing Record 22 of set 3 | Xixiang\n",
      "Processing Record 23 of set 3 | Darnah\n",
      "Processing Record 24 of set 3 | Kieta\n",
      "Processing Record 25 of set 3 | Dunedin\n",
      "Processing Record 26 of set 3 | Bobo-Dioulasso\n",
      "Processing Record 27 of set 3 | Ahipara\n",
      "Processing Record 28 of set 3 | Takoradze\n",
      "city not found. Skipping ...\n",
      "Processing Record 29 of set 3 | Port Lincoln\n",
      "Processing Record 30 of set 3 | Ulladulla\n",
      "Processing Record 31 of set 3 | Mana\n",
      "Processing Record 32 of set 3 | Lata\n",
      "Processing Record 33 of set 3 | Hunchun\n",
      "Processing Record 34 of set 3 | Castro\n",
      "Processing Record 35 of set 3 | Pacific Grove\n",
      "Processing Record 36 of set 3 | San Rafael\n",
      "Processing Record 37 of set 3 | Saint-Augustin\n",
      "Processing Record 38 of set 3 | Tutayev\n",
      "Processing Record 39 of set 3 | Conil\n",
      "Processing Record 40 of set 3 | Saint-Joseph\n",
      "Processing Record 41 of set 3 | San Jose\n",
      "Processing Record 42 of set 3 | Mount Isa\n",
      "Processing Record 43 of set 3 | Saint-Philippe\n",
      "Processing Record 44 of set 3 | Kruisfontein\n",
      "Processing Record 45 of set 3 | Aykhal\n",
      "city not found. Skipping ...\n",
      "Processing Record 46 of set 3 | Jacqueville\n",
      "Processing Record 47 of set 3 | Finschhafen\n",
      "Processing Record 48 of set 3 | Flinders\n",
      "Processing Record 49 of set 3 | Demak\n",
      "city not found. Skipping ...\n",
      "Processing Record 50 of set 3 | Myre\n",
      "Processing Record 0 of set 4 | Constitución\n",
      "Processing Record 1 of set 4 | Bredasdorp\n",
      "city not found. Skipping ...\n",
      "Processing Record 2 of set 4 | San Cristobal\n",
      "Processing Record 3 of set 4 | Porto Velho\n",
      "Processing Record 4 of set 4 | Bengkulu\n",
      "Processing Record 5 of set 4 | Teya\n",
      "Processing Record 6 of set 4 | Hermanus\n",
      "Processing Record 7 of set 4 | Asău\n",
      "Processing Record 8 of set 4 | Geraldton\n",
      "Processing Record 9 of set 4 | Klaksvík\n",
      "Processing Record 10 of set 4 | Tonj\n",
      "Processing Record 11 of set 4 | Huarmey\n",
      "Processing Record 12 of set 4 | Souillac\n",
      "Processing Record 13 of set 4 | Burkburnett\n",
      "Processing Record 14 of set 4 | São Filipe\n",
      "Processing Record 15 of set 4 | Letka\n",
      "city not found. Skipping ...\n",
      "Processing Record 16 of set 4 | Tucumcari\n",
      "Processing Record 17 of set 4 | Dalbandin\n",
      "Processing Record 18 of set 4 | Paita\n",
      "city not found. Skipping ...\n",
      "city not found. Skipping ...\n",
      "Processing Record 19 of set 4 | Hay River\n",
      "city not found. Skipping ...\n",
      "Processing Record 20 of set 4 | Dikson\n",
      "Processing Record 21 of set 4 | Lima\n",
      "Processing Record 22 of set 4 | Nueva Loja\n",
      "Processing Record 23 of set 4 | Chokurdakh\n",
      "Processing Record 24 of set 4 | Biloela\n",
      "Processing Record 25 of set 4 | Mae Chan\n",
      "Processing Record 26 of set 4 | Norman Wells\n",
      "city not found. Skipping ...\n",
      "Processing Record 27 of set 4 | Deputatsky\n",
      "Processing Record 28 of set 4 | Pemba\n",
      "Processing Record 29 of set 4 | George\n",
      "Processing Record 30 of set 4 | Saint George\n",
      "Processing Record 31 of set 4 | Kaitangata\n",
      "Processing Record 32 of set 4 | Kannad\n",
      "Processing Record 33 of set 4 | Udayagiri\n",
      "Processing Record 34 of set 4 | Tiksi\n"
     ]
    },
    {
     "name": "stdout",
     "output_type": "stream",
     "text": [
      "Processing Record 35 of set 4 | Ushtobe\n",
      "Processing Record 36 of set 4 | Mezen'\n",
      "Processing Record 37 of set 4 | George Town\n",
      "city not found. Skipping ...\n",
      "Processing Record 38 of set 4 | Xichang\n",
      "Processing Record 39 of set 4 | Dillon\n",
      "Processing Record 40 of set 4 | Upernavik\n",
      "Processing Record 41 of set 4 | Rawson\n",
      "Processing Record 42 of set 4 | Palatka\n",
      "city not found. Skipping ...\n",
      "Processing Record 43 of set 4 | Xining\n",
      "Processing Record 44 of set 4 | Kiryat Gat\n",
      "Processing Record 45 of set 4 | Sidi Ali\n",
      "Processing Record 46 of set 4 | Cabo San Lucas\n",
      "Processing Record 47 of set 4 | Atar\n",
      "Processing Record 48 of set 4 | Moba\n",
      "Processing Record 49 of set 4 | Barra do Corda\n",
      "Processing Record 50 of set 4 | Yatou\n",
      "Processing Record 0 of set 5 | Saskylakh\n",
      "Processing Record 1 of set 5 | Ossora\n",
      "Processing Record 2 of set 5 | Alyangula\n",
      "Processing Record 3 of set 5 | Jijiga\n",
      "Processing Record 4 of set 5 | Teruel\n",
      "Processing Record 5 of set 5 | Hamilton\n",
      "Processing Record 6 of set 5 | Heiligenhafen\n",
      "Processing Record 7 of set 5 | Terråk\n",
      "Processing Record 8 of set 5 | Kahului\n",
      "Processing Record 9 of set 5 | Alofi\n",
      "Processing Record 10 of set 5 | Ratnagiri\n",
      "Processing Record 11 of set 5 | Christchurch\n",
      "Processing Record 12 of set 5 | Tautira\n",
      "Processing Record 13 of set 5 | Benicarló\n",
      "Processing Record 14 of set 5 | Batagay\n",
      "Processing Record 15 of set 5 | Salmo\n",
      "Processing Record 16 of set 5 | Faanui\n",
      "Processing Record 17 of set 5 | Tutóia\n",
      "Processing Record 18 of set 5 | Berlevåg\n",
      "Processing Record 19 of set 5 | San Andrés\n",
      "Processing Record 20 of set 5 | Mount Gambier\n",
      "Processing Record 21 of set 5 | Broome\n",
      "Processing Record 22 of set 5 | Noumea\n",
      "Processing Record 23 of set 5 | Bulawayo\n",
      "Processing Record 24 of set 5 | Udachny\n",
      "Processing Record 25 of set 5 | Tagusao\n",
      "Processing Record 26 of set 5 | Ponta do Sol\n",
      "Processing Record 27 of set 5 | Biltine\n",
      "Processing Record 28 of set 5 | Pevek\n",
      "city not found. Skipping ...\n",
      "city not found. Skipping ...\n",
      "city not found. Skipping ...\n",
      "Processing Record 29 of set 5 | Katsuura\n",
      "Processing Record 30 of set 5 | Japura\n",
      "Processing Record 31 of set 5 | San Quintín\n",
      "Processing Record 32 of set 5 | Capiíbary\n",
      "Processing Record 33 of set 5 | Yar-Sale\n",
      "Processing Record 34 of set 5 | Vallenar\n",
      "Processing Record 35 of set 5 | Jalalabad\n",
      "Processing Record 36 of set 5 | Abay\n",
      "Processing Record 37 of set 5 | Congonhas\n",
      "Processing Record 38 of set 5 | Kumul\n",
      "Processing Record 39 of set 5 | Koregaon\n",
      "city not found. Skipping ...\n",
      "Processing Record 40 of set 5 | Kiruna\n",
      "Processing Record 41 of set 5 | Bodden Town\n",
      "Processing Record 42 of set 5 | Goderich\n",
      "Processing Record 43 of set 5 | São José da Coroa Grande\n",
      "city not found. Skipping ...\n",
      "Processing Record 44 of set 5 | Narsaq\n",
      "city not found. Skipping ...\n",
      "Processing Record 45 of set 5 | Lagoa\n",
      "Processing Record 46 of set 5 | Rudnogorsk\n",
      "Processing Record 47 of set 5 | Mar del Plata\n",
      "Processing Record 48 of set 5 | Dudinka\n",
      "Processing Record 49 of set 5 | Maketu\n",
      "Processing Record 50 of set 5 | Lexington\n",
      "Processing Record 0 of set 6 | General Roca\n",
      "Processing Record 1 of set 6 | Mossamedes\n",
      "city not found. Skipping ...\n",
      "Processing Record 2 of set 6 | Hokitika\n",
      "Processing Record 3 of set 6 | Dafeng\n",
      "Processing Record 4 of set 6 | Saldanha\n",
      "Processing Record 5 of set 6 | Morondava\n",
      "Processing Record 6 of set 6 | Arrondissement de Clermont\n",
      "Processing Record 7 of set 6 | Ribeira Grande\n",
      "Processing Record 8 of set 6 | Kasempa\n",
      "Processing Record 9 of set 6 | Kalabo\n",
      "Processing Record 10 of set 6 | Mahajanga\n",
      "Processing Record 11 of set 6 | Prome\n",
      "Processing Record 12 of set 6 | Coyhaique\n",
      "city not found. Skipping ...\n",
      "Processing Record 13 of set 6 | Bambous Virieux\n",
      "Processing Record 14 of set 6 | Swanton\n",
      "Processing Record 15 of set 6 | Luanda\n",
      "Processing Record 16 of set 6 | Mwadui\n",
      "city not found. Skipping ...\n",
      "Processing Record 17 of set 6 | Lakselv\n",
      "Processing Record 18 of set 6 | Keti Bandar\n",
      "Processing Record 19 of set 6 | Auki\n",
      "Processing Record 20 of set 6 | Poum\n",
      "Processing Record 21 of set 6 | Nosy Varika\n",
      "Processing Record 22 of set 6 | Dubbo\n",
      "Processing Record 23 of set 6 | Ilulissat\n",
      "Processing Record 24 of set 6 | Acarí\n",
      "Processing Record 25 of set 6 | Mozhaysk\n",
      "city not found. Skipping ...\n",
      "Processing Record 26 of set 6 | Chapais\n",
      "Processing Record 27 of set 6 | Jiuquan\n",
      "Processing Record 28 of set 6 | Biak\n",
      "Processing Record 29 of set 6 | Homa Bay\n",
      "Processing Record 30 of set 6 | Huambo\n",
      "city not found. Skipping ...\n",
      "Processing Record 31 of set 6 | Mendoza\n",
      "Processing Record 32 of set 6 | Trairi\n",
      "Processing Record 33 of set 6 | Salinas\n",
      "Processing Record 34 of set 6 | Dunmore East\n",
      "Processing Record 35 of set 6 | Mapiripán\n",
      "city not found. Skipping ...\n",
      "Processing Record 36 of set 6 | Apple Valley\n",
      "Processing Record 37 of set 6 | Verkhoyansk\n",
      "Processing Record 38 of set 6 | Kavaratti\n",
      "Processing Record 39 of set 6 | Pishin\n",
      "Processing Record 40 of set 6 | Zhezkazgan\n",
      "Processing Record 41 of set 6 | Nanortalik\n",
      "Processing Record 42 of set 6 | Esperance\n",
      "Processing Record 43 of set 6 | Ancud\n",
      "Processing Record 44 of set 6 | Tuatapere\n",
      "Processing Record 45 of set 6 | Porkhov\n",
      "Processing Record 46 of set 6 | Sakaiminato\n",
      "Processing Record 47 of set 6 | High Level\n",
      "Processing Record 48 of set 6 | Raahe\n",
      "Processing Record 49 of set 6 | Okhotsk\n",
      "Processing Record 50 of set 6 | Aranos\n",
      "Processing Record 0 of set 7 | Srednekolymsk\n",
      "Processing Record 1 of set 7 | Insar\n",
      "Processing Record 2 of set 7 | Hede\n",
      "Processing Record 3 of set 7 | Greeley\n",
      "Processing Record 4 of set 7 | Iqaluit\n",
      "Processing Record 5 of set 7 | Rocha\n",
      "Processing Record 6 of set 7 | Alice Springs\n",
      "Processing Record 7 of set 7 | Ust-Nera\n",
      "Processing Record 8 of set 7 | Abalak\n",
      "Processing Record 9 of set 7 | Kiama\n",
      "Processing Record 10 of set 7 | Thompson\n",
      "Processing Record 11 of set 7 | Richards Bay\n",
      "Processing Record 12 of set 7 | Khatanga\n",
      "Processing Record 13 of set 7 | Hofn\n",
      "Processing Record 14 of set 7 | Pitsunda\n",
      "Processing Record 15 of set 7 | Rossland\n",
      "Processing Record 16 of set 7 | Itamarandiba\n",
      "Processing Record 17 of set 7 | Knysna\n",
      "Processing Record 18 of set 7 | Severo-Kuril'sk\n",
      "Processing Record 19 of set 7 | Mezdra\n",
      "Processing Record 20 of set 7 | Turka\n",
      "Processing Record 21 of set 7 | Araouane\n",
      "Processing Record 22 of set 7 | Panama City\n",
      "Processing Record 23 of set 7 | Brae\n",
      "Processing Record 24 of set 7 | Qaqortoq\n",
      "Processing Record 25 of set 7 | Creel\n",
      "Processing Record 26 of set 7 | Muros\n",
      "Processing Record 27 of set 7 | Lüderitz\n",
      "Processing Record 28 of set 7 | Makkah al Mukarramah\n",
      "Processing Record 29 of set 7 | Yichun\n",
      "Processing Record 30 of set 7 | Santo Tomas\n",
      "Processing Record 31 of set 7 | Iwaki\n",
      "Processing Record 32 of set 7 | Sarkand\n",
      "Processing Record 33 of set 7 | Cusco\n",
      "Processing Record 34 of set 7 | Ulaangom\n",
      "Processing Record 35 of set 7 | Ozinki\n",
      "Processing Record 36 of set 7 | Tete\n",
      "city not found. Skipping ...\n",
      "Processing Record 37 of set 7 | Airai\n",
      "Processing Record 38 of set 7 | Tiznit Province\n",
      "Processing Record 39 of set 7 | Ambanja\n",
      "Processing Record 40 of set 7 | Xai-Xai\n",
      "Processing Record 41 of set 7 | Yamada\n",
      "Processing Record 42 of set 7 | Bonavista\n",
      "Processing Record 43 of set 7 | Palestine\n",
      "city not found. Skipping ...\n",
      "Processing Record 44 of set 7 | Salalah\n",
      "city not found. Skipping ...\n",
      "Processing Record 45 of set 7 | Bakchar\n",
      "Processing Record 46 of set 7 | Lüleburgaz\n",
      "Processing Record 47 of set 7 | Madarounfa\n",
      "Processing Record 48 of set 7 | Makat\n",
      "Processing Record 49 of set 7 | La Providencia\n",
      "Processing Record 50 of set 7 | Maningrida\n",
      "Processing Record 0 of set 8 | Ketchikan\n",
      "Processing Record 1 of set 8 | Vila Franca do Campo\n",
      "Processing Record 2 of set 8 | Thunder Bay\n",
      "Processing Record 3 of set 8 | Rushden\n",
      "Processing Record 4 of set 8 | Alpena\n",
      "Processing Record 5 of set 8 | Iquique\n",
      "Processing Record 6 of set 8 | Newport\n",
      "Processing Record 7 of set 8 | Santa Rita\n",
      "Processing Record 8 of set 8 | Weihai\n",
      "Processing Record 9 of set 8 | Diamantino\n",
      "Processing Record 10 of set 8 | Palu\n",
      "Processing Record 11 of set 8 | Rock Springs\n",
      "Processing Record 12 of set 8 | Arrondissement de Rennes\n",
      "Processing Record 13 of set 8 | Cururupu\n",
      "Processing Record 14 of set 8 | Cabedelo\n",
      "Processing Record 15 of set 8 | São Félix do Xingu\n",
      "Processing Record 16 of set 8 | Plettenberg Bay\n",
      "Processing Record 17 of set 8 | Hūn\n",
      "Processing Record 18 of set 8 | Presidente Venceslau\n"
     ]
    },
    {
     "name": "stdout",
     "output_type": "stream",
     "text": [
      "Processing Record 19 of set 8 | Batticaloa\n",
      "Processing Record 20 of set 8 | Acaraú\n",
      "Processing Record 21 of set 8 | Coos Bay\n",
      "Processing Record 22 of set 8 | Pisz\n",
      "Processing Record 23 of set 8 | Kerema\n",
      "Processing Record 24 of set 8 | Doha\n",
      "Processing Record 25 of set 8 | Domoni\n",
      "Processing Record 26 of set 8 | Yam\n",
      "Processing Record 27 of set 8 | Harper\n",
      "city not found. Skipping ...\n",
      "Processing Record 28 of set 8 | Magaria\n",
      "Processing Record 29 of set 8 | Hambantota\n",
      "Processing Record 30 of set 8 | Horki\n",
      "city not found. Skipping ...\n",
      "Processing Record 31 of set 8 | Kargasok\n",
      "Processing Record 32 of set 8 | Ust-Kuyga\n",
      "Processing Record 33 of set 8 | Yanam\n",
      "Processing Record 34 of set 8 | Ola\n",
      "Processing Record 35 of set 8 | Pangody\n",
      "Processing Record 36 of set 8 | Jiayuguan City\n",
      "Processing Record 37 of set 8 | Marzuq\n",
      "city not found. Skipping ...\n",
      "Processing Record 38 of set 8 | Wanning\n",
      "Processing Record 39 of set 8 | Bilma\n",
      "Processing Record 40 of set 8 | Malya\n",
      "Processing Record 41 of set 8 | Cape Coast\n",
      "Processing Record 42 of set 8 | Parabel'\n",
      "city not found. Skipping ...\n",
      "Processing Record 43 of set 8 | Cairns\n",
      "Processing Record 44 of set 8 | Los Llanos de Aridane\n",
      "Processing Record 45 of set 8 | Stolac\n",
      "Processing Record 46 of set 8 | Pitelino\n",
      "Processing Record 47 of set 8 | Port-Gentil\n",
      "Processing Record 48 of set 8 | Port Hardy\n",
      "Processing Record 49 of set 8 | Linares\n",
      "Processing Record 50 of set 8 | Tabatinga\n",
      "city not found. Skipping ...\n",
      "Processing Record 0 of set 9 | Khor\n",
      "city not found. Skipping ...\n",
      "city not found. Skipping ...\n",
      "Processing Record 1 of set 9 | Clyde River\n",
      "Processing Record 2 of set 9 | Coswig\n",
      "Processing Record 3 of set 9 | Xapuri\n",
      "Processing Record 4 of set 9 | Laas\n",
      "Processing Record 5 of set 9 | Bondowoso\n",
      "Processing Record 6 of set 9 | Sakaraha\n",
      "Processing Record 7 of set 9 | Pingdingshan\n",
      "Processing Record 8 of set 9 | Kungurtug\n",
      "Processing Record 9 of set 9 | Svetlaya\n",
      "Processing Record 10 of set 9 | Valparaíso\n",
      "Processing Record 11 of set 9 | Gwembe\n",
      "Processing Record 12 of set 9 | Samarai\n",
      "Processing Record 13 of set 9 | Tateyama\n",
      "Processing Record 14 of set 9 | Kautokeino\n",
      "Processing Record 15 of set 9 | Shebunino\n",
      "Processing Record 16 of set 9 | Humberto de Campos\n",
      "Processing Record 17 of set 9 | Leningradskiy\n",
      "Processing Record 18 of set 9 | Linxia Chengguanzhen\n",
      "Processing Record 19 of set 9 | Fort Morgan\n",
      "Processing Record 20 of set 9 | Jodiya\n",
      "city not found. Skipping ...\n",
      "Processing Record 21 of set 9 | Pālang\n",
      "city not found. Skipping ...\n",
      "Processing Record 22 of set 9 | Kazanskoye\n",
      "Processing Record 23 of set 9 | Marsá Maţrūḩ\n",
      "Processing Record 24 of set 9 | Vanavara\n",
      "Processing Record 25 of set 9 | Kuching\n",
      "Processing Record 26 of set 9 | Buchanan\n",
      "Processing Record 27 of set 9 | Bintulu\n",
      "Processing Record 28 of set 9 | Umeå\n",
      "Processing Record 29 of set 9 | Matara\n",
      "Processing Record 30 of set 9 | Emiliano Zapata\n",
      "Processing Record 31 of set 9 | Nova Vodolaha\n",
      "Processing Record 32 of set 9 | Mahanoro\n",
      "Processing Record 33 of set 9 | Philadelphia\n",
      "city not found. Skipping ...\n",
      "Processing Record 34 of set 9 | Ereymentau\n",
      "Processing Record 35 of set 9 | Pisco\n",
      "Processing Record 36 of set 9 | Assiut\n",
      "Processing Record 37 of set 9 | Mariental\n",
      "Processing Record 38 of set 9 | Mareeba\n",
      "Processing Record 39 of set 9 | Tiarei\n",
      "Processing Record 40 of set 9 | Lorengau\n",
      "city not found. Skipping ...\n",
      "city not found. Skipping ...\n",
      "Processing Record 41 of set 9 | Senno\n",
      "Processing Record 42 of set 9 | Sabzawār\n",
      "Processing Record 43 of set 9 | Aleksandrov Gay\n",
      "Processing Record 44 of set 9 | Ambon City\n",
      "Processing Record 45 of set 9 | Mahuva\n",
      "Processing Record 46 of set 9 | Tarata\n",
      "Processing Record 47 of set 9 | Wasilla\n",
      "Processing Record 48 of set 9 | Suruç\n",
      "Processing Record 49 of set 9 | Shalinskoye\n",
      "Processing Record 50 of set 9 | Husavik\n",
      "Processing Record 0 of set 10 | Banda Aceh\n",
      "Processing Record 1 of set 10 | Sungai Penuh\n",
      "Processing Record 2 of set 10 | Ciudad del Carmen\n",
      "Processing Record 3 of set 10 | Syktyvkar\n",
      "Processing Record 4 of set 10 | Dandong\n",
      "Processing Record 5 of set 10 | Dumas\n",
      "Processing Record 6 of set 10 | Pitimbu\n",
      "Processing Record 7 of set 10 | Pemberton\n",
      "Processing Record 8 of set 10 | Westlock\n",
      "Processing Record 9 of set 10 | Suntar\n",
      "Processing Record 10 of set 10 | Pyaozerskiy\n",
      "city not found. Skipping ...\n",
      "Processing Record 11 of set 10 | Bida\n",
      "Processing Record 12 of set 10 | Omboué\n",
      "Processing Record 13 of set 10 | Tommot\n",
      "Processing Record 14 of set 10 | Abhā\n",
      "Processing Record 15 of set 10 | Tigre\n",
      "Processing Record 16 of set 10 | Carbonia\n",
      "Processing Record 17 of set 10 | Topeka\n",
      "Processing Record 18 of set 10 | Dvinskoy Bereznik\n",
      "Processing Record 19 of set 10 | Opunake\n",
      "Processing Record 20 of set 10 | Kurumkan\n",
      "Processing Record 21 of set 10 | Bontang\n",
      "Processing Record 22 of set 10 | Catuday\n",
      "Processing Record 23 of set 10 | Batagay-Alyta\n",
      "Processing Record 24 of set 10 | Sørland\n",
      "Processing Record 25 of set 10 | Mitsamiouli\n",
      "Processing Record 26 of set 10 | Arrondissement de Montbrison\n",
      "Processing Record 27 of set 10 | Comodoro Rivadavia\n",
      "Processing Record 28 of set 10 | Buraidah\n",
      "Processing Record 29 of set 10 | Lázaro Cárdenas\n",
      "city not found. Skipping ...\n",
      "Processing Record 30 of set 10 | Nishihara\n",
      "Processing Record 31 of set 10 | Dauphin\n",
      "Processing Record 32 of set 10 | Fairview\n",
      "Processing Record 33 of set 10 | Wajir\n",
      "Processing Record 34 of set 10 | Alamosa\n",
      "Processing Record 35 of set 10 | Jiangyou\n",
      "Processing Record 36 of set 10 | Kedrovyy\n",
      "Processing Record 37 of set 10 | Alghero\n",
      "Processing Record 38 of set 10 | Olinda\n",
      "Processing Record 39 of set 10 | West Helena\n",
      "Processing Record 40 of set 10 | Algiers\n",
      "Processing Record 41 of set 10 | Port Hedland\n",
      "Processing Record 42 of set 10 | Patabog\n",
      "Processing Record 43 of set 10 | Usinsk\n",
      "Processing Record 44 of set 10 | Solnechnyy\n",
      "Processing Record 45 of set 10 | Brownsville\n",
      "Processing Record 46 of set 10 | Raja\n",
      "Processing Record 47 of set 10 | San Patricio\n",
      "Processing Record 48 of set 10 | Sioux Lookout\n",
      "Processing Record 49 of set 10 | Bambanglipuro\n",
      "city not found. Skipping ...\n",
      "Processing Record 50 of set 10 | Eufaula\n",
      "Processing Record 0 of set 11 | Valley City\n",
      "Processing Record 1 of set 11 | Córdoba\n",
      "Processing Record 2 of set 11 | Timon\n",
      "Processing Record 3 of set 11 | Sindgi\n",
      "Processing Record 4 of set 11 | Tegul'det\n",
      "Processing Record 5 of set 11 | Casper\n",
      "Processing Record 6 of set 11 | Krasnoarmiys'k\n",
      "Processing Record 7 of set 11 | Redmond\n",
      "Processing Record 8 of set 11 | Montepuez\n",
      "Processing Record 9 of set 11 | Kabinda\n",
      "Processing Record 10 of set 11 | Sur\n",
      "Processing Record 11 of set 11 | Labuhan\n",
      "Processing Record 12 of set 11 | Alginet\n",
      "Processing Record 13 of set 11 | Arua\n",
      "Processing Record 14 of set 11 | Nikolayevsk-on-Amur\n",
      "Processing Record 15 of set 11 | Aguachica\n",
      "Processing Record 16 of set 11 | Korla\n",
      "Processing Record 17 of set 11 | Vardø\n",
      "Processing Record 18 of set 11 | Payo\n",
      "Processing Record 19 of set 11 | Nushki\n",
      "Processing Record 20 of set 11 | Walvis Bay\n",
      "Processing Record 21 of set 11 | Burns Lake\n",
      "Processing Record 22 of set 11 | Kasongo-Lunda\n",
      "city not found. Skipping ...\n",
      "Processing Record 23 of set 11 | Tafo\n",
      "Processing Record 24 of set 11 | Kapiri Mposhi\n",
      "Processing Record 25 of set 11 | Anadyr\n",
      "Processing Record 26 of set 11 | Bismarck\n",
      "Processing Record 27 of set 11 | Tilichiki\n",
      "Processing Record 28 of set 11 | Wuwei\n",
      "city not found. Skipping ...\n",
      "Processing Record 29 of set 11 | Kodinsk\n",
      "Processing Record 30 of set 11 | Parrita\n",
      "Processing Record 31 of set 11 | Cockburn Town\n",
      "Processing Record 32 of set 11 | Nur-Sultan\n",
      "Processing Record 33 of set 11 | Yerofey Pavlovich\n",
      "Processing Record 34 of set 11 | Evensk\n",
      "Processing Record 35 of set 11 | Itarema\n",
      "Processing Record 36 of set 11 | Shingū\n",
      "Processing Record 37 of set 11 | Havelock\n",
      "Processing Record 38 of set 11 | Yining\n",
      "Processing Record 39 of set 11 | Tura\n",
      "Processing Record 40 of set 11 | Tanout\n",
      "Processing Record 41 of set 11 | Thinadhoo\n",
      "Processing Record 42 of set 11 | Youkounkoun\n",
      "Processing Record 43 of set 11 | Manicoré\n",
      "Processing Record 44 of set 11 | São João da Barra\n",
      "Processing Record 45 of set 11 | Hualmay\n",
      "Processing Record 46 of set 11 | Sfântu Gheorghe\n",
      "Processing Record 47 of set 11 | Kyra\n",
      "Processing Record 48 of set 11 | Humaitá\n",
      "city not found. Skipping ...\n",
      "Processing Record 49 of set 11 | Burlington\n"
     ]
    },
    {
     "name": "stdout",
     "output_type": "stream",
     "text": [
      "Processing Record 50 of set 11 | Pedra Azul\n",
      "city not found. Skipping ...\n",
      "Processing Record 0 of set 12 | Riyadh\n",
      "Processing Record 1 of set 12 | Tromsø\n",
      "Processing Record 2 of set 12 | Nuuk\n",
      "Processing Record 3 of set 12 | Waingapu\n",
      "Processing Record 4 of set 12 | Caravelas\n",
      "Processing Record 5 of set 12 | Ocampo\n",
      "Processing Record 6 of set 12 | Manta\n",
      "Processing Record 7 of set 12 | Ciudad Bolivar\n",
      "Processing Record 8 of set 12 | Touros\n",
      "Processing Record 9 of set 12 | Atambua\n",
      "Processing Record 10 of set 12 | Sangīn\n",
      "Processing Record 11 of set 12 | Ucluelet\n",
      "Processing Record 12 of set 12 | Manggar\n",
      "Processing Record 13 of set 12 | Talnakh\n",
      "Processing Record 14 of set 12 | Kushiro\n",
      "Processing Record 15 of set 12 | Åmot\n",
      "Processing Record 16 of set 12 | Kūdligi\n",
      "Processing Record 17 of set 12 | Mujiayingzi\n",
      "city not found. Skipping ...\n",
      "Processing Record 18 of set 12 | Dem'yanovo\n",
      "Processing Record 19 of set 12 | Peniche\n",
      "Processing Record 20 of set 12 | Markova\n",
      "Processing Record 21 of set 12 | Sorong\n",
      "Processing Record 22 of set 12 | Quelimane\n",
      "-------------------------\n",
      "Data Retrieval Complete\n",
      "-------------------------\n"
     ]
    }
   ],
   "source": [
    "# set up empty lists for needed characters\n",
    "city_id = []\n",
    "city_name = []\n",
    "cloudiness = []\n",
    "country = []\n",
    "date = []\n",
    "humidity = []\n",
    "lat = []\n",
    "lng = []\n",
    "max_temp = []\n",
    "wind_speed = []\n",
    "processingRecord = 0\n",
    "setNumber = 1\n",
    "\n",
    "#start processing record at 1\n",
    "processingRecord = 1\n",
    "setNumber = 1\n",
    "\n",
    "print(\"Beginning Data Retrieval\")\n",
    "print(\"-------------------------\")\n",
    "\n",
    "# loop through each city\n",
    "for city in cities:\n",
    "    \n",
    "#Exception handling\n",
    "    try:\n",
    "        response = requests.get(queryURL + city).json()\n",
    "        city_id.append(response['id'])\n",
    "        city_name.append(response['name']) \n",
    "        cloudiness.append(response['clouds']['all'])\n",
    "        country.append(response['sys']['country'])\n",
    "        date.append(response['dt'])\n",
    "        humidity.append(response['main']['humidity']) \n",
    "        lat.append(response['coord']['lat'])\n",
    "        lng.append(response['coord']['lon'])\n",
    "        max_temp.append(response['main']['temp_max']) \n",
    "        wind_speed.append(response['wind']['speed'])\n",
    "        cityResponse = response['name']   \n",
    "        if processingRecord > 49:\n",
    "            processingRecord = 0\n",
    "            setNumber +=1\n",
    "    \n",
    "        else:\n",
    "            processingRecord +=1\n",
    "\n",
    "        print(f\"Processing Record {processingRecord} of set {setNumber} | {cityResponse}\")\n",
    "        \n",
    "    except:\n",
    "        print(\"city not found. Skipping ...\")\n",
    "    continue\n",
    "    \n",
    "print(\"-------------------------\")\n",
    "print(\"Data Retrieval Complete\")\n",
    "print(\"-------------------------\")"
   ]
  },
  {
   "cell_type": "markdown",
   "metadata": {},
   "source": [
    "### Convert Raw Data to DataFrame\n",
    "* Export the city data into a .csv.\n",
    "* Display the DataFrame"
   ]
  },
  {
   "cell_type": "code",
   "execution_count": 5,
   "metadata": {},
   "outputs": [
    {
     "data": {
      "text/html": [
       "<div>\n",
       "<style scoped>\n",
       "    .dataframe tbody tr th:only-of-type {\n",
       "        vertical-align: middle;\n",
       "    }\n",
       "\n",
       "    .dataframe tbody tr th {\n",
       "        vertical-align: top;\n",
       "    }\n",
       "\n",
       "    .dataframe thead th {\n",
       "        text-align: right;\n",
       "    }\n",
       "</style>\n",
       "<table border=\"1\" class=\"dataframe\">\n",
       "  <thead>\n",
       "    <tr style=\"text-align: right;\">\n",
       "      <th></th>\n",
       "      <th>City ID</th>\n",
       "      <th>City Name</th>\n",
       "      <th>Cloudiness</th>\n",
       "      <th>Country</th>\n",
       "      <th>Date</th>\n",
       "      <th>Humidity</th>\n",
       "      <th>Latitude</th>\n",
       "      <th>Longitude</th>\n",
       "      <th>Max Temperature</th>\n",
       "      <th>Wind Speed</th>\n",
       "    </tr>\n",
       "  </thead>\n",
       "  <tbody>\n",
       "    <tr>\n",
       "      <th>0</th>\n",
       "      <td>5106841</td>\n",
       "      <td>Albany</td>\n",
       "      <td>99</td>\n",
       "      <td>US</td>\n",
       "      <td>1658773761</td>\n",
       "      <td>75</td>\n",
       "      <td>42.6001</td>\n",
       "      <td>-73.9662</td>\n",
       "      <td>84.38</td>\n",
       "      <td>12.68</td>\n",
       "    </tr>\n",
       "    <tr>\n",
       "      <th>1</th>\n",
       "      <td>5855927</td>\n",
       "      <td>Hilo</td>\n",
       "      <td>40</td>\n",
       "      <td>US</td>\n",
       "      <td>1658773937</td>\n",
       "      <td>70</td>\n",
       "      <td>19.7297</td>\n",
       "      <td>-155.0900</td>\n",
       "      <td>79.11</td>\n",
       "      <td>3.44</td>\n",
       "    </tr>\n",
       "    <tr>\n",
       "      <th>2</th>\n",
       "      <td>5870133</td>\n",
       "      <td>Nome</td>\n",
       "      <td>100</td>\n",
       "      <td>US</td>\n",
       "      <td>1658773771</td>\n",
       "      <td>87</td>\n",
       "      <td>64.5011</td>\n",
       "      <td>-165.4064</td>\n",
       "      <td>51.87</td>\n",
       "      <td>18.41</td>\n",
       "    </tr>\n",
       "    <tr>\n",
       "      <th>3</th>\n",
       "      <td>2074865</td>\n",
       "      <td>Carnarvon</td>\n",
       "      <td>0</td>\n",
       "      <td>AU</td>\n",
       "      <td>1658773937</td>\n",
       "      <td>38</td>\n",
       "      <td>-24.8667</td>\n",
       "      <td>113.6333</td>\n",
       "      <td>61.97</td>\n",
       "      <td>8.97</td>\n",
       "    </tr>\n",
       "    <tr>\n",
       "      <th>4</th>\n",
       "      <td>3652764</td>\n",
       "      <td>Puerto Ayora</td>\n",
       "      <td>73</td>\n",
       "      <td>EC</td>\n",
       "      <td>1658773937</td>\n",
       "      <td>90</td>\n",
       "      <td>-0.7393</td>\n",
       "      <td>-90.3518</td>\n",
       "      <td>78.76</td>\n",
       "      <td>8.01</td>\n",
       "    </tr>\n",
       "  </tbody>\n",
       "</table>\n",
       "</div>"
      ],
      "text/plain": [
       "   City ID     City Name  Cloudiness Country        Date  Humidity  Latitude  \\\n",
       "0  5106841        Albany          99      US  1658773761        75   42.6001   \n",
       "1  5855927          Hilo          40      US  1658773937        70   19.7297   \n",
       "2  5870133          Nome         100      US  1658773771        87   64.5011   \n",
       "3  2074865     Carnarvon           0      AU  1658773937        38  -24.8667   \n",
       "4  3652764  Puerto Ayora          73      EC  1658773937        90   -0.7393   \n",
       "\n",
       "   Longitude  Max Temperature  Wind Speed  \n",
       "0   -73.9662            84.38       12.68  \n",
       "1  -155.0900            79.11        3.44  \n",
       "2  -165.4064            51.87       18.41  \n",
       "3   113.6333            61.97        8.97  \n",
       "4   -90.3518            78.76        8.01  "
      ]
     },
     "execution_count": 5,
     "metadata": {},
     "output_type": "execute_result"
    }
   ],
   "source": [
    "weatherDict = {\n",
    "    \"City ID\":city_id, \n",
    "    \"City Name\":city_name, \n",
    "    \"Cloudiness\":cloudiness,\n",
    "    \"Country\":country, \n",
    "    \"Date\":date, \n",
    "    \"Humidity\":humidity,\n",
    "    \"Latitude\":lat,\n",
    "    \"Longitude\":lng, \n",
    "    \"Max Temperature\":max_temp,\n",
    "    \"Wind Speed\":wind_speed\n",
    "}\n",
    "weatherDict = pd.DataFrame(weatherDict)\n",
    "weatherDict.head()"
   ]
  },
  {
   "cell_type": "code",
   "execution_count": 6,
   "metadata": {},
   "outputs": [
    {
     "data": {
      "text/plain": [
       "City ID            582\n",
       "City Name          582\n",
       "Cloudiness         582\n",
       "Country            582\n",
       "Date               582\n",
       "Humidity           582\n",
       "Latitude           582\n",
       "Longitude          582\n",
       "Max Temperature    582\n",
       "Wind Speed         582\n",
       "dtype: int64"
      ]
     },
     "execution_count": 6,
     "metadata": {},
     "output_type": "execute_result"
    }
   ],
   "source": [
    "weatherDict.count()"
   ]
  },
  {
   "cell_type": "code",
   "execution_count": 7,
   "metadata": {},
   "outputs": [],
   "source": [
    "weatherDict.to_csv(\"output_data/weatherDict.csv\")"
   ]
  },
  {
   "cell_type": "markdown",
   "metadata": {},
   "source": [
    "## Inspect the data and remove the cities where the humidity > 100%.\n",
    "----\n",
    "Skip this step if there are no cities that have humidity > 100%. "
   ]
  },
  {
   "cell_type": "code",
   "execution_count": 8,
   "metadata": {},
   "outputs": [
    {
     "data": {
      "text/html": [
       "<div>\n",
       "<style scoped>\n",
       "    .dataframe tbody tr th:only-of-type {\n",
       "        vertical-align: middle;\n",
       "    }\n",
       "\n",
       "    .dataframe tbody tr th {\n",
       "        vertical-align: top;\n",
       "    }\n",
       "\n",
       "    .dataframe thead th {\n",
       "        text-align: right;\n",
       "    }\n",
       "</style>\n",
       "<table border=\"1\" class=\"dataframe\">\n",
       "  <thead>\n",
       "    <tr style=\"text-align: right;\">\n",
       "      <th></th>\n",
       "      <th>City ID</th>\n",
       "      <th>Cloudiness</th>\n",
       "      <th>Date</th>\n",
       "      <th>Humidity</th>\n",
       "      <th>Latitude</th>\n",
       "      <th>Longitude</th>\n",
       "      <th>Max Temperature</th>\n",
       "      <th>Wind Speed</th>\n",
       "    </tr>\n",
       "  </thead>\n",
       "  <tbody>\n",
       "    <tr>\n",
       "      <th>count</th>\n",
       "      <td>5.730000e+02</td>\n",
       "      <td>573.000000</td>\n",
       "      <td>5.730000e+02</td>\n",
       "      <td>573.000000</td>\n",
       "      <td>573.000000</td>\n",
       "      <td>573.000000</td>\n",
       "      <td>573.000000</td>\n",
       "      <td>573.000000</td>\n",
       "    </tr>\n",
       "    <tr>\n",
       "      <th>mean</th>\n",
       "      <td>2.641626e+06</td>\n",
       "      <td>54.722513</td>\n",
       "      <td>1.658774e+09</td>\n",
       "      <td>70.551483</td>\n",
       "      <td>20.474608</td>\n",
       "      <td>19.570460</td>\n",
       "      <td>70.439686</td>\n",
       "      <td>7.885271</td>\n",
       "    </tr>\n",
       "    <tr>\n",
       "      <th>std</th>\n",
       "      <td>1.611715e+06</td>\n",
       "      <td>40.312565</td>\n",
       "      <td>9.255107e+01</td>\n",
       "      <td>21.920539</td>\n",
       "      <td>33.393980</td>\n",
       "      <td>88.877397</td>\n",
       "      <td>14.014330</td>\n",
       "      <td>5.162564</td>\n",
       "    </tr>\n",
       "    <tr>\n",
       "      <th>min</th>\n",
       "      <td>7.218100e+04</td>\n",
       "      <td>0.000000</td>\n",
       "      <td>1.658773e+09</td>\n",
       "      <td>12.000000</td>\n",
       "      <td>-54.800000</td>\n",
       "      <td>-175.200000</td>\n",
       "      <td>32.520000</td>\n",
       "      <td>0.000000</td>\n",
       "    </tr>\n",
       "    <tr>\n",
       "      <th>25%</th>\n",
       "      <td>1.504019e+06</td>\n",
       "      <td>12.000000</td>\n",
       "      <td>1.658774e+09</td>\n",
       "      <td>58.000000</td>\n",
       "      <td>-7.470600</td>\n",
       "      <td>-58.579600</td>\n",
       "      <td>60.930000</td>\n",
       "      <td>3.980000</td>\n",
       "    </tr>\n",
       "    <tr>\n",
       "      <th>50%</th>\n",
       "      <td>2.163355e+06</td>\n",
       "      <td>62.000000</td>\n",
       "      <td>1.658774e+09</td>\n",
       "      <td>77.000000</td>\n",
       "      <td>24.687700</td>\n",
       "      <td>24.971800</td>\n",
       "      <td>71.760000</td>\n",
       "      <td>6.850000</td>\n",
       "    </tr>\n",
       "    <tr>\n",
       "      <th>75%</th>\n",
       "      <td>3.622537e+06</td>\n",
       "      <td>100.000000</td>\n",
       "      <td>1.658774e+09</td>\n",
       "      <td>88.000000</td>\n",
       "      <td>49.154100</td>\n",
       "      <td>96.370000</td>\n",
       "      <td>80.220000</td>\n",
       "      <td>11.390000</td>\n",
       "    </tr>\n",
       "    <tr>\n",
       "      <th>max</th>\n",
       "      <td>8.079926e+06</td>\n",
       "      <td>100.000000</td>\n",
       "      <td>1.658774e+09</td>\n",
       "      <td>99.000000</td>\n",
       "      <td>78.218600</td>\n",
       "      <td>178.416700</td>\n",
       "      <td>102.880000</td>\n",
       "      <td>29.930000</td>\n",
       "    </tr>\n",
       "  </tbody>\n",
       "</table>\n",
       "</div>"
      ],
      "text/plain": [
       "            City ID  Cloudiness          Date    Humidity    Latitude  \\\n",
       "count  5.730000e+02  573.000000  5.730000e+02  573.000000  573.000000   \n",
       "mean   2.641626e+06   54.722513  1.658774e+09   70.551483   20.474608   \n",
       "std    1.611715e+06   40.312565  9.255107e+01   21.920539   33.393980   \n",
       "min    7.218100e+04    0.000000  1.658773e+09   12.000000  -54.800000   \n",
       "25%    1.504019e+06   12.000000  1.658774e+09   58.000000   -7.470600   \n",
       "50%    2.163355e+06   62.000000  1.658774e+09   77.000000   24.687700   \n",
       "75%    3.622537e+06  100.000000  1.658774e+09   88.000000   49.154100   \n",
       "max    8.079926e+06  100.000000  1.658774e+09   99.000000   78.218600   \n",
       "\n",
       "        Longitude  Max Temperature  Wind Speed  \n",
       "count  573.000000       573.000000  573.000000  \n",
       "mean    19.570460        70.439686    7.885271  \n",
       "std     88.877397        14.014330    5.162564  \n",
       "min   -175.200000        32.520000    0.000000  \n",
       "25%    -58.579600        60.930000    3.980000  \n",
       "50%     24.971800        71.760000    6.850000  \n",
       "75%     96.370000        80.220000   11.390000  \n",
       "max    178.416700       102.880000   29.930000  "
      ]
     },
     "execution_count": 8,
     "metadata": {},
     "output_type": "execute_result"
    }
   ],
   "source": [
    "maxHumid = weatherDict.loc[weatherDict['Humidity'] != 100]\n",
    "maxHumid.describe()"
   ]
  },
  {
   "cell_type": "code",
   "execution_count": 9,
   "metadata": {},
   "outputs": [
    {
     "data": {
      "text/plain": [
       "City ID            573\n",
       "City Name          573\n",
       "Cloudiness         573\n",
       "Country            573\n",
       "Date               573\n",
       "Humidity           573\n",
       "Latitude           573\n",
       "Longitude          573\n",
       "Max Temperature    573\n",
       "Wind Speed         573\n",
       "dtype: int64"
      ]
     },
     "execution_count": 9,
     "metadata": {},
     "output_type": "execute_result"
    }
   ],
   "source": [
    "#  Get the indices of cities that have humidity over 100%.\n",
    "maxHumid.count()"
   ]
  },
  {
   "cell_type": "code",
   "execution_count": 10,
   "metadata": {},
   "outputs": [],
   "source": [
    "# Make a new DataFrame equal to the city data to drop all humidity outliers by index.\n",
    "# Passing \"inplace=False\" will make a copy of the city_data DataFrame, which we call \"clean_city_data\".\n"
   ]
  },
  {
   "cell_type": "code",
   "execution_count": 11,
   "metadata": {},
   "outputs": [
    {
     "data": {
      "text/html": [
       "<div>\n",
       "<style scoped>\n",
       "    .dataframe tbody tr th:only-of-type {\n",
       "        vertical-align: middle;\n",
       "    }\n",
       "\n",
       "    .dataframe tbody tr th {\n",
       "        vertical-align: top;\n",
       "    }\n",
       "\n",
       "    .dataframe thead th {\n",
       "        text-align: right;\n",
       "    }\n",
       "</style>\n",
       "<table border=\"1\" class=\"dataframe\">\n",
       "  <thead>\n",
       "    <tr style=\"text-align: right;\">\n",
       "      <th></th>\n",
       "      <th>City ID</th>\n",
       "      <th>City Name</th>\n",
       "      <th>Cloudiness</th>\n",
       "      <th>Country</th>\n",
       "      <th>Date</th>\n",
       "      <th>Humidity</th>\n",
       "      <th>Latitude</th>\n",
       "      <th>Longitude</th>\n",
       "      <th>Max Temperature</th>\n",
       "      <th>Wind Speed</th>\n",
       "    </tr>\n",
       "  </thead>\n",
       "  <tbody>\n",
       "    <tr>\n",
       "      <th>0</th>\n",
       "      <td>5106841</td>\n",
       "      <td>Albany</td>\n",
       "      <td>99</td>\n",
       "      <td>US</td>\n",
       "      <td>1658773761</td>\n",
       "      <td>75</td>\n",
       "      <td>42.6001</td>\n",
       "      <td>-73.9662</td>\n",
       "      <td>84.38</td>\n",
       "      <td>12.68</td>\n",
       "    </tr>\n",
       "    <tr>\n",
       "      <th>1</th>\n",
       "      <td>5855927</td>\n",
       "      <td>Hilo</td>\n",
       "      <td>40</td>\n",
       "      <td>US</td>\n",
       "      <td>1658773937</td>\n",
       "      <td>70</td>\n",
       "      <td>19.7297</td>\n",
       "      <td>-155.0900</td>\n",
       "      <td>79.11</td>\n",
       "      <td>3.44</td>\n",
       "    </tr>\n",
       "    <tr>\n",
       "      <th>2</th>\n",
       "      <td>5870133</td>\n",
       "      <td>Nome</td>\n",
       "      <td>100</td>\n",
       "      <td>US</td>\n",
       "      <td>1658773771</td>\n",
       "      <td>87</td>\n",
       "      <td>64.5011</td>\n",
       "      <td>-165.4064</td>\n",
       "      <td>51.87</td>\n",
       "      <td>18.41</td>\n",
       "    </tr>\n",
       "    <tr>\n",
       "      <th>3</th>\n",
       "      <td>2074865</td>\n",
       "      <td>Carnarvon</td>\n",
       "      <td>0</td>\n",
       "      <td>AU</td>\n",
       "      <td>1658773937</td>\n",
       "      <td>38</td>\n",
       "      <td>-24.8667</td>\n",
       "      <td>113.6333</td>\n",
       "      <td>61.97</td>\n",
       "      <td>8.97</td>\n",
       "    </tr>\n",
       "    <tr>\n",
       "      <th>4</th>\n",
       "      <td>3652764</td>\n",
       "      <td>Puerto Ayora</td>\n",
       "      <td>73</td>\n",
       "      <td>EC</td>\n",
       "      <td>1658773937</td>\n",
       "      <td>90</td>\n",
       "      <td>-0.7393</td>\n",
       "      <td>-90.3518</td>\n",
       "      <td>78.76</td>\n",
       "      <td>8.01</td>\n",
       "    </tr>\n",
       "  </tbody>\n",
       "</table>\n",
       "</div>"
      ],
      "text/plain": [
       "   City ID     City Name  Cloudiness Country        Date  Humidity  Latitude  \\\n",
       "0  5106841        Albany          99      US  1658773761        75   42.6001   \n",
       "1  5855927          Hilo          40      US  1658773937        70   19.7297   \n",
       "2  5870133          Nome         100      US  1658773771        87   64.5011   \n",
       "3  2074865     Carnarvon           0      AU  1658773937        38  -24.8667   \n",
       "4  3652764  Puerto Ayora          73      EC  1658773937        90   -0.7393   \n",
       "\n",
       "   Longitude  Max Temperature  Wind Speed  \n",
       "0   -73.9662            84.38       12.68  \n",
       "1  -155.0900            79.11        3.44  \n",
       "2  -165.4064            51.87       18.41  \n",
       "3   113.6333            61.97        8.97  \n",
       "4   -90.3518            78.76        8.01  "
      ]
     },
     "execution_count": 11,
     "metadata": {},
     "output_type": "execute_result"
    }
   ],
   "source": [
    "maxHumid.head()"
   ]
  },
  {
   "cell_type": "markdown",
   "metadata": {},
   "source": [
    "## Plotting the Data\n",
    "* Use proper labeling of the plots using plot titles (including date of analysis) and axes labels.\n",
    "* Save the plotted figures as .pngs."
   ]
  },
  {
   "cell_type": "markdown",
   "metadata": {},
   "source": [
    "## Latitude vs. Temperature Plot"
   ]
  },
  {
   "cell_type": "code",
   "execution_count": 12,
   "metadata": {
    "scrolled": true
   },
   "outputs": [
    {
     "data": {
      "image/png": "[encoded data removed]",
      "text/plain": [
       "<Figure size 432x288 with 1 Axes>"
      ]
     },
     "metadata": {
      "needs_background": "light"
     },
     "output_type": "display_data"
    }
   ],
   "source": [
    "plt.scatter(maxHumid[\"Latitude\"], maxHumid[\"Max Temperature\"])\n",
    "plt.title(\"City Latitude vs Max Temperature (7/21/22)\")\n",
    "plt.xlabel(\"Latitude\")\n",
    "plt.ylabel(\"Max Temperature (F)\")\n",
    "plt.grid()\n",
    "plt.show()"
   ]
  },
  {
   "cell_type": "markdown",
   "metadata": {},
   "source": [
    "## Latitude vs. Humidity Plot"
   ]
  },
  {
   "cell_type": "code",
   "execution_count": 13,
   "metadata": {},
   "outputs": [
    {
     "data": {
      "image/png": "[encoded data removed]",
      "text/plain": [
       "<Figure size 432x288 with 1 Axes>"
      ]
     },
     "metadata": {
      "needs_background": "light"
     },
     "output_type": "display_data"
    }
   ],
   "source": [
    "plt.scatter(maxHumid[\"Latitude\"], maxHumid[\"Humidity\"])\n",
    "plt.title(\"City Latitude vs Humidity (7/21/22)\")\n",
    "plt.xlabel(\"Latitude\")\n",
    "plt.ylabel(\"Humidity (%)\")\n",
    "plt.grid()\n",
    "plt.show()"
   ]
  },
  {
   "cell_type": "markdown",
   "metadata": {},
   "source": [
    "## Latitude vs. Cloudiness Plot"
   ]
  },
  {
   "cell_type": "code",
   "execution_count": 14,
   "metadata": {},
   "outputs": [
    {
     "data": {
      "image/png": "[encoded data removed]",
      "text/plain": [
       "<Figure size 432x288 with 1 Axes>"
      ]
     },
     "metadata": {
      "needs_background": "light"
     },
     "output_type": "display_data"
    }
   ],
   "source": [
    "plt.scatter(maxHumid[\"Latitude\"], maxHumid[\"Cloudiness\"])\n",
    "plt.title(\"City Latitude vs Cloudiness (7/21/22)\")\n",
    "plt.xlabel(\"Latitude\")\n",
    "plt.ylabel(\"Cloudiness (%)\")\n",
    "plt.grid()\n",
    "plt.show()"
   ]
  },
  {
   "cell_type": "markdown",
   "metadata": {},
   "source": [
    "## Latitude vs. Wind Speed Plot"
   ]
  },
  {
   "cell_type": "code",
   "execution_count": 15,
   "metadata": {},
   "outputs": [
    {
     "data": {
      "image/png": "[encoded data removed]",
      "text/plain": [
       "<Figure size 432x288 with 1 Axes>"
      ]
     },
     "metadata": {
      "needs_background": "light"
     },
     "output_type": "display_data"
    }
   ],
   "source": [
    "plt.scatter(maxHumid[\"Latitude\"], maxHumid[\"Wind Speed\"])\n",
    "plt.title(\"City Latitude vs Wind Speed (7/21/22)\")\n",
    "plt.xlabel(\"Latitude\")\n",
    "plt.ylabel(\"Wind Speed (mph)\")\n",
    "plt.ylim(0,45)\n",
    "plt.grid()\n",
    "plt.show()"
   ]
  },
  {
   "cell_type": "markdown",
   "metadata": {},
   "source": [
    "## Linear Regression"
   ]
  },
  {
   "cell_type": "code",
   "execution_count": 16,
   "metadata": {},
   "outputs": [],
   "source": [
    "north = maxHumid['Latitude'] >= 0\n",
    "northernHem = maxHumid[north]\n",
    "southernHem = maxHumid[~north]"
   ]
  },
  {
   "cell_type": "markdown",
   "metadata": {},
   "source": [
    "####  Northern Hemisphere - Max Temp vs. Latitude Linear Regression"
   ]
  },
  {
   "cell_type": "code",
   "execution_count": 17,
   "metadata": {},
   "outputs": [
    {
     "name": "stdout",
     "output_type": "stream",
     "text": [
      "The r-value is 0.4735034526989445\n"
     ]
    },
    {
     "data": {
      "image/png": "[encoded data removed]",
      "text/plain": [
       "<Figure size 432x288 with 1 Axes>"
      ]
     },
     "metadata": {
      "needs_background": "light"
     },
     "output_type": "display_data"
    }
   ],
   "source": [
    "x_values = northernHem['Latitude']\n",
    "y_values = northernHem['Max Temperature']\n",
    "(slope, intercept, rvalue, pvalue, stderr) = linregress(x_values, y_values)\n",
    "regress_values = x_values * slope + intercept\n",
    "line_eq = \"y = \" + str(round(slope,2)) + \"x + \" + str(round(intercept,2))\n",
    "plt.scatter(x_values,y_values)\n",
    "plt.plot(x_values,regress_values,\"r-\")\n",
    "plt.xlabel('Latitude')\n",
    "plt.ylabel('Max Temp')\n",
    "print(f\"The r-value is {rvalue**2}\")\n",
    "plt.annotate(line_eq,(10,40),fontsize=15,color=\"red\")\n",
    "plt.show()\n"
   ]
  },
  {
   "cell_type": "markdown",
   "metadata": {},
   "source": [
    "There is a negative correlation between the latitude and the maximum temperature in the northern hemisphere. The farther we are from the equator, the colder the temperature seems to get."
   ]
  },
  {
   "cell_type": "markdown",
   "metadata": {},
   "source": [
    "####  Southern Hemisphere - Max Temp vs. Latitude Linear Regression"
   ]
  },
  {
   "cell_type": "code",
   "execution_count": 18,
   "metadata": {
    "scrolled": true
   },
   "outputs": [
    {
     "name": "stdout",
     "output_type": "stream",
     "text": [
      "The r-value is 0.6230949335793045\n"
     ]
    },
    {
     "data": {
      "image/png": "[encoded data removed]",
      "text/plain": [
       "<Figure size 432x288 with 1 Axes>"
      ]
     },
     "metadata": {
      "needs_background": "light"
     },
     "output_type": "display_data"
    }
   ],
   "source": [
    "x_values = southernHem['Latitude']\n",
    "y_values = southernHem['Max Temperature']\n",
    "(slope, intercept, rvalue, pvalue, stderr) = linregress(x_values, y_values)\n",
    "regress_values = x_values * slope + intercept\n",
    "line_eq = \"y = \" + str(round(slope,2)) + \"x + \" + str(round(intercept,2))\n",
    "plt.scatter(x_values,y_values)\n",
    "plt.plot(x_values,regress_values,\"r-\")\n",
    "plt.xlabel('Latitude')\n",
    "plt.ylabel('Max Temp')\n",
    "print(f\"The r-value is {rvalue**2}\")\n",
    "plt.annotate(line_eq,(-50,80),fontsize=15,color=\"red\")\n",
    "plt.show()"
   ]
  },
  {
   "cell_type": "markdown",
   "metadata": {},
   "source": [
    "There is a positive correlation between the latitude and the maximum temperature in the southern hemisphere. The closer we get to the equator, the warmer the temperature seems to get."
   ]
  },
  {
   "cell_type": "markdown",
   "metadata": {},
   "source": [
    "####  Northern Hemisphere - Humidity (%) vs. Latitude Linear Regression"
   ]
  },
  {
   "cell_type": "code",
   "execution_count": 20,
   "metadata": {},
   "outputs": [
    {
     "name": "stdout",
     "output_type": "stream",
     "text": [
      "The r-value is 0.018348910097872796\n"
     ]
    },
    {
     "data": {
      "image/png": "[encoded data removed]",
      "text/plain": [
       "<Figure size 432x288 with 1 Axes>"
      ]
     },
     "metadata": {
      "needs_background": "light"
     },
     "output_type": "display_data"
    }
   ],
   "source": [
    "x_values = northernHem['Latitude']\n",
    "y_values = northernHem['Humidity']\n",
    "(slope, intercept, rvalue, pvalue, stderr) = linregress(x_values, y_values)\n",
    "regress_values = x_values * slope + intercept\n",
    "line_eq = \"y = \" + str(round(slope,2)) + \"x + \" + str(round(intercept,2))\n",
    "plt.scatter(x_values,y_values)\n",
    "plt.plot(x_values,regress_values,\"r-\")\n",
    "plt.xlabel('Latitude')\n",
    "plt.ylabel('Humidity')\n",
    "print(f\"The r-value is {rvalue**2}\")\n",
    "plt.annotate(line_eq,(40,10),fontsize=15,color=\"red\")\n",
    "plt.show()\n",
    "#plt.savefig(\"../Images/north_humid_lat.png\")\n"
   ]
  },
  {
   "cell_type": "markdown",
   "metadata": {},
   "source": [
    "####  Southern Hemisphere - Humidity (%) vs. Latitude Linear Regression"
   ]
  },
  {
   "cell_type": "code",
   "execution_count": 21,
   "metadata": {},
   "outputs": [
    {
     "name": "stdout",
     "output_type": "stream",
     "text": [
      "The r-value is 0.056024977067926494\n"
     ]
    },
    {
     "data": {
      "image/png": "[encoded data removed]",
      "text/plain": [
       "<Figure size 432x288 with 1 Axes>"
      ]
     },
     "metadata": {
      "needs_background": "light"
     },
     "output_type": "display_data"
    }
   ],
   "source": [
    "x_values = southernHem['Latitude']\n",
    "y_values = southernHem['Humidity']\n",
    "(slope, intercept, rvalue, pvalue, stderr) = linregress(x_values, y_values)\n",
    "regress_values = x_values * slope + intercept\n",
    "line_eq = \"y = \" + str(round(slope,2)) + \"x + \" + str(round(intercept,2))\n",
    "plt.scatter(x_values,y_values)\n",
    "plt.plot(x_values,regress_values,\"r-\")\n",
    "plt.xlabel('Latitude')\n",
    "plt.ylabel('Humidity')\n",
    "print(f\"The r-value is {rvalue**2}\")\n",
    "plt.annotate(line_eq,(-50,20),fontsize=15,color=\"red\")\n",
    "plt.show()\n",
    "#plt.savefig(\"../Images/south_humid_lat.png\")\n"
   ]
  },
  {
   "cell_type": "markdown",
   "metadata": {},
   "source": [
    "####  Northern Hemisphere - Cloudiness (%) vs. Latitude Linear Regression"
   ]
  },
  {
   "cell_type": "code",
   "execution_count": 27,
   "metadata": {
    "scrolled": true
   },
   "outputs": [
    {
     "name": "stdout",
     "output_type": "stream",
     "text": [
      "The r-value is 0.0003267012791515551\n"
     ]
    },
    {
     "data": {
      "image/png": "[encoded data removed]",
      "text/plain": [
       "<Figure size 432x288 with 1 Axes>"
      ]
     },
     "metadata": {
      "needs_background": "light"
     },
     "output_type": "display_data"
    }
   ],
   "source": [
    "x_values = northernHem['Latitude']\n",
    "y_values = northernHem['Cloudiness']\n",
    "(slope, intercept, rvalue, pvalue, stderr) = linregress(x_values, y_values)\n",
    "regress_values = x_values * slope + intercept\n",
    "line_eq = \"y = \" + str(round(slope,2)) + \"x + \" + str(round(intercept,2))\n",
    "plt.scatter(x_values,y_values)\n",
    "plt.plot(x_values,regress_values,\"r-\")\n",
    "plt.xlabel('Latitude')\n",
    "plt.ylabel('Cloudiness')\n",
    "print(f\"The r-value is {rvalue**2}\")\n",
    "plt.annotate(line_eq,(40,10),fontsize=15,color=\"red\")\n",
    "plt.show()\n",
    "#plt.savefig(\"../Images/north_cloud_lat.png\")\n"
   ]
  },
  {
   "cell_type": "markdown",
   "metadata": {},
   "source": [
    "There is no correlation between the latitude and the cloudiness % in the northern hemisphere. As the latitude goes farther from the equator, the cloudiness data goes in various directions with no direct focal point"
   ]
  },
  {
   "cell_type": "markdown",
   "metadata": {},
   "source": [
    "####  Southern Hemisphere - Cloudiness (%) vs. Latitude Linear Regression"
   ]
  },
  {
   "cell_type": "code",
   "execution_count": 23,
   "metadata": {},
   "outputs": [
    {
     "name": "stdout",
     "output_type": "stream",
     "text": [
      "The r-value is 0.0007733184235139745\n"
     ]
    },
    {
     "data": {
      "image/png": "[encoded data removed]",
      "text/plain": [
       "<Figure size 432x288 with 1 Axes>"
      ]
     },
     "metadata": {
      "needs_background": "light"
     },
     "output_type": "display_data"
    }
   ],
   "source": [
    "x_values = southernHem['Latitude']\n",
    "y_values = southernHem['Cloudiness']\n",
    "(slope, intercept, rvalue, pvalue, stderr) = linregress(x_values, y_values)\n",
    "regress_values = x_values * slope + intercept\n",
    "line_eq = \"y = \" + str(round(slope,2)) + \"x + \" + str(round(intercept,2))\n",
    "plt.scatter(x_values,y_values)\n",
    "plt.plot(x_values,regress_values,\"r-\")\n",
    "plt.xlabel('Latitude')\n",
    "plt.ylabel('Cloudiness')\n",
    "print(f\"The r-value is {rvalue**2}\")\n",
    "plt.annotate(line_eq,(-50,80),fontsize=15,color=\"red\")\n",
    "plt.show()\n",
    "#plt.savefig(\"../Images/south_cloud_lat.png\")\n"
   ]
  },
  {
   "cell_type": "markdown",
   "metadata": {},
   "source": [
    "####  Northern Hemisphere - Wind Speed (mph) vs. Latitude Linear Regression"
   ]
  },
  {
   "cell_type": "code",
   "execution_count": 24,
   "metadata": {},
   "outputs": [
    {
     "name": "stdout",
     "output_type": "stream",
     "text": [
      "The r-value is 1.775200790936172e-05\n"
     ]
    },
    {
     "data": {
      "image/png": "[encoded data removed]",
      "text/plain": [
       "<Figure size 432x288 with 1 Axes>"
      ]
     },
     "metadata": {
      "needs_background": "light"
     },
     "output_type": "display_data"
    }
   ],
   "source": [
    "x_values = northernHem['Latitude']\n",
    "y_values = northernHem['Wind Speed']\n",
    "(slope, intercept, rvalue, pvalue, stderr) = linregress(x_values, y_values)\n",
    "regress_values = x_values * slope + intercept\n",
    "line_eq = \"y = \" + str(round(slope,2)) + \"x + \" + str(round(intercept,2))\n",
    "plt.scatter(x_values,y_values)\n",
    "plt.plot(x_values,regress_values,\"r-\")\n",
    "plt.xlabel('Latitude')\n",
    "plt.ylabel('Wind Speed')\n",
    "print(f\"The r-value is {rvalue**2}\")\n",
    "plt.annotate(line_eq,(40,30),fontsize=15,color=\"red\")\n",
    "plt.show()"
   ]
  },
  {
   "cell_type": "markdown",
   "metadata": {},
   "source": [
    "####  Southern Hemisphere - Wind Speed (mph) vs. Latitude Linear Regression"
   ]
  },
  {
   "cell_type": "code",
   "execution_count": 25,
   "metadata": {},
   "outputs": [
    {
     "name": "stdout",
     "output_type": "stream",
     "text": [
      "The r-value is 0.05847018780055196\n"
     ]
    },
    {
     "data": {
      "image/png": "[encoded data removed]",
      "text/plain": [
       "<Figure size 432x288 with 1 Axes>"
      ]
     },
     "metadata": {
      "needs_background": "light"
     },
     "output_type": "display_data"
    }
   ],
   "source": [
    "x_values = southernHem['Latitude']\n",
    "y_values = southernHem['Wind Speed']\n",
    "(slope, intercept, rvalue, pvalue, stderr) = linregress(x_values, y_values)\n",
    "regress_values = x_values * slope + intercept\n",
    "line_eq = \"y = \" + str(round(slope,2)) + \"x + \" + str(round(intercept,2))\n",
    "plt.scatter(x_values,y_values)\n",
    "plt.plot(x_values,regress_values,\"r-\")\n",
    "plt.xlabel('Latitude')\n",
    "plt.ylabel('Wind Speed')\n",
    "print(f\"The r-value is {rvalue**2}\")\n",
    "plt.annotate(line_eq,(-30,25),fontsize=15,color=\"red\")\n",
    "plt.show()"
   ]
  },
  {
   "cell_type": "code",
   "execution_count": null,
   "metadata": {},
   "outputs": [],
   "source": []
  }
 ],
 "metadata": {
  "anaconda-cloud": {},
  "kernel_info": {
   "name": "python3"
  },
  "kernelspec": {
   "display_name": "Python 3 (ipykernel)",
   "language": "python",
   "name": "python3"
  },
  "language_info": {
   "codemirror_mode": {
    "name": "ipython",
    "version": 3
   },
   "file_extension": ".py",
   "mimetype": "text/x-python",
   "name": "python",
   "nbconvert_exporter": "python",
   "pygments_lexer": "ipython3",
   "version": "3.9.12"
  },
  "latex_envs": {
   "LaTeX_envs_menu_present": true,
   "autoclose": false,
   "autocomplete": true,
   "bibliofile": "biblio.bib",
   "cite_by": "apalike",
   "current_citInitial": 1,
   "eqLabelWithNumbers": true,
   "eqNumInitial": 1,
   "hotkeys": {
    "equation": "Ctrl-E",
    "itemize": "Ctrl-I"
   },
   "labels_anchors": false,
   "latex_user_defs": false,
   "report_style_numbering": false,
   "user_envs_cfg": false
  },
  "nteract": {
   "version": "0.12.3"
  }
 },
 "nbformat": 4,
 "nbformat_minor": 2
}
