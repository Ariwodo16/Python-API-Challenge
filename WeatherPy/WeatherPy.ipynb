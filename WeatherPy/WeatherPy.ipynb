{
 "cells": [
  {
   "cell_type": "markdown",
   "metadata": {},
   "source": [
    "# WeatherPy\n",
    "----\n",
    "\n",
    "#### Note\n",
    "* Instructions have been included for each segment. You do not have to follow them exactly, but they are included to help you think through the steps."
   ]
  },
  {
   "cell_type": "code",
   "execution_count": 54,
   "metadata": {
    "scrolled": true
   },
   "outputs": [],
   "source": [
    "# Dependencies and Setup\n",
    "import matplotlib.pyplot as plt\n",
    "import pandas as pd\n",
    "import numpy as np\n",
    "import requests\n",
    "import time\n",
    "from scipy.stats import linregress\n",
    "from pprint import pprint\n",
    "import json\n",
    "\n",
    "# Import API key\n",
    "from api_keys import weather_api_key\n",
    "\n",
    "# Incorporated citipy to determine city based on latitude and longitude\n",
    "from citipy import citipy\n",
    "\n",
    "# Output File (CSV)\n",
    "output_data_file = \"output_data/cities.csv\"\n",
    "\n",
    "# Range of latitudes and longitudes\n",
    "lat_range = (-90, 90)\n",
    "lng_range = (-180, 180)"
   ]
  },
  {
   "cell_type": "markdown",
   "metadata": {},
   "source": [
    "## Generate Cities List"
   ]
  },
  {
   "cell_type": "code",
   "execution_count": 2,
   "metadata": {},
   "outputs": [
    {
     "data": {
      "text/plain": [
       "603"
      ]
     },
     "execution_count": 2,
     "metadata": {},
     "output_type": "execute_result"
    }
   ],
   "source": [
    "# List for holding lat_lngs and cities\n",
    "lat_lngs = []\n",
    "cities = []\n",
    "\n",
    "# Create a set of random lat and lng combinations\n",
    "lats = np.random.uniform(lat_range[0], lat_range[1], size=1500)\n",
    "lngs = np.random.uniform(lng_range[0], lng_range[1], size=1500)\n",
    "lat_lngs = zip(lats, lngs)\n",
    "\n",
    "# Identify nearest city for each lat, lng combination\n",
    "for lat_lng in lat_lngs:\n",
    "    city = citipy.nearest_city(lat_lng[0], lat_lng[1]).city_name\n",
    "    \n",
    "    # If the city is unique, then add it to a our cities list\n",
    "    if city not in cities:\n",
    "        cities.append(city)\n",
    "\n",
    "# Print the city count to confirm sufficient count\n",
    "len(cities)"
   ]
  },
  {
   "cell_type": "markdown",
   "metadata": {},
   "source": [
    "### Perform API Calls\n",
    "* Perform a weather check on each city using a series of successive API calls.\n",
    "* Include a print log of each city as it'sbeing processed (with the city number and city name).\n"
   ]
  },
  {
   "cell_type": "code",
   "execution_count": 3,
   "metadata": {},
   "outputs": [
    {
     "name": "stdout",
     "output_type": "stream",
     "text": [
      "{\n",
      "    \"cod\": \"404\",\n",
      "    \"message\": \"city not found\"\n",
      "}\n"
     ]
    }
   ],
   "source": [
    "# Save config information\n",
    "url = \"http://api.openweathermap.org/data/2.5/weather?\"\n",
    "units = \"imperial\"\n",
    "\n",
    "# Build query URL\n",
    "queryURL = f\"{url}appid={weather_api_key}&units={units}&q=\"\n",
    "\n",
    "response = requests.get(queryURL + city).json()"
   ]
  },
  {
   "cell_type": "code",
   "execution_count": 4,
   "metadata": {
    "scrolled": true
   },
   "outputs": [
    {
     "name": "stdout",
     "output_type": "stream",
     "text": [
      "Beginning Data Retrieval\n",
      "-------------------------\n",
      "Processing Record 1 of Set 1 | Barrow\n",
      "Processing Record 2 of Set 1 | Rikitea\n",
      "Processing Record 3 of Set 1 | Vaini\n",
      "Processing Record 4 of Set 1 | Shimoda\n",
      "Processing Record 5 of Set 1 | Bethel\n",
      "Processing Record 6 of Set 1 | Namanga\n",
      "Processing Record 7 of Set 1 | Rosário do Sul\n",
      "Processing Record 8 of Set 1 | Mayo\n",
      "Processing Record 9 of Set 1 | Qaanaaq\n",
      "Processing Record 10 of Set 1 | Castro\n",
      "Processing Record 11 of Set 1 | Tura\n",
      "Processing Record 12 of Set 1 | Kavieng\n",
      "Processing Record 13 of Set 1 | Punta Arenas\n",
      "city not found. Skipping ...\n",
      "Processing Record 14 of Set 1 | Busselton\n",
      "city not found. Skipping ...\n",
      "Processing Record 15 of Set 1 | Port Alfred\n",
      "city not found. Skipping ...\n",
      "Processing Record 16 of Set 1 | Ushuaia\n",
      "Processing Record 17 of Set 1 | Paidha\n",
      "Processing Record 18 of Set 1 | Cascais\n",
      "Processing Record 19 of Set 1 | Lubumbashi\n",
      "Processing Record 20 of Set 1 | Kaitangata\n",
      "Processing Record 21 of Set 1 | Chicla\n",
      "city not found. Skipping ...\n",
      "Processing Record 22 of Set 1 | Atuona\n",
      "Processing Record 23 of Set 1 | Cape Town\n",
      "Processing Record 24 of Set 1 | Nanortalik\n",
      "Processing Record 25 of Set 1 | Lavrentiya\n",
      "Processing Record 26 of Set 1 | Kalaīkunda\n",
      "Processing Record 27 of Set 1 | Broome\n",
      "Processing Record 28 of Set 1 | Khatanga\n",
      "Processing Record 29 of Set 1 | Birjand\n",
      "Processing Record 30 of Set 1 | Sinnamary\n",
      "Processing Record 31 of Set 1 | Saint-Philippe\n",
      "Processing Record 32 of Set 1 | Port Elizabeth\n",
      "city not found. Skipping ...\n",
      "Processing Record 33 of Set 1 | Mataura\n",
      "Processing Record 34 of Set 1 | Khanpur\n",
      "city not found. Skipping ...\n",
      "Processing Record 35 of Set 1 | Hilo\n",
      "Processing Record 36 of Set 1 | Tiksi\n",
      "Processing Record 37 of Set 1 | Beira\n",
      "Processing Record 38 of Set 1 | Novoagansk\n",
      "Processing Record 39 of Set 1 | San Cristobal\n",
      "Processing Record 40 of Set 1 | Hasaki\n",
      "Processing Record 41 of Set 1 | Vardø\n",
      "Processing Record 42 of Set 1 | Lagoa\n",
      "city not found. Skipping ...\n",
      "Processing Record 43 of Set 1 | Bluff\n",
      "Processing Record 44 of Set 1 | Batticaloa\n",
      "Processing Record 45 of Set 1 | Iracoubo\n",
      "Processing Record 46 of Set 1 | Hobart\n",
      "Processing Record 47 of Set 1 | Salalah\n",
      "Processing Record 48 of Set 1 | Hofn\n",
      "Processing Record 49 of Set 1 | Albany\n",
      "Processing Record 50 of Set 1 | Ahipara\n",
      "Processing Record 51 of Set 1 | George Town\n",
      "Processing Record 52 of Set 1 | Lorengau\n",
      "Processing Record 53 of Set 1 | Mahébourg\n",
      "Processing Record 54 of Set 1 | Hithadhoo\n",
      "Processing Record 55 of Set 1 | Bathsheba\n",
      "Processing Record 56 of Set 1 | Afrikanda\n",
      "city not found. Skipping ...\n",
      "Processing Record 57 of Set 1 | Northam\n",
      "Processing Record 58 of Set 1 | Arlit\n",
      "Processing Record 59 of Set 1 | Atasū\n",
      "Processing Record 60 of Set 1 | Scarborough\n",
      "Processing Record 61 of Set 1 | Sambava\n",
      "Processing Record 62 of Set 1 | Cap Malheureux\n",
      "Processing Record 63 of Set 1 | Ust-Nera\n",
      "Processing Record 64 of Set 1 | Cayenne\n",
      "Processing Record 65 of Set 1 | Aklavik\n",
      "Processing Record 66 of Set 1 | Port Blair\n",
      "Processing Record 67 of Set 1 | Chui\n",
      "Processing Record 68 of Set 1 | Kiama\n",
      "Processing Record 69 of Set 1 | Tokur\n",
      "Processing Record 70 of Set 1 | Bengkulu\n",
      "Processing Record 71 of Set 1 | Taoudenni\n",
      "Processing Record 72 of Set 1 | Teahupoo\n",
      "Processing Record 73 of Set 1 | Kresek\n",
      "Processing Record 74 of Set 1 | Rassvet\n",
      "Processing Record 75 of Set 1 | Bobon\n",
      "Processing Record 76 of Set 1 | El Tigre\n",
      "Processing Record 77 of Set 1 | New Norfolk\n",
      "city not found. Skipping ...\n",
      "Processing Record 78 of Set 1 | Bharatpur\n",
      "Processing Record 79 of Set 1 | Puerto Ayora\n",
      "Processing Record 80 of Set 1 | Warsaw\n",
      "Processing Record 81 of Set 1 | Chapais\n",
      "Processing Record 82 of Set 1 | Codrington\n",
      "Processing Record 83 of Set 1 | Perelyub\n",
      "Processing Record 84 of Set 1 | Qaqortoq\n",
      "Processing Record 85 of Set 1 | Mattru\n",
      "Processing Record 86 of Set 1 | Chokurdakh\n",
      "Processing Record 87 of Set 1 | Norman Wells\n",
      "Processing Record 88 of Set 1 | Butaritari\n",
      "Processing Record 89 of Set 1 | Praia\n",
      "Processing Record 90 of Set 1 | ‘Ewa Beach\n",
      "Processing Record 91 of Set 1 | Bredasdorp\n",
      "Processing Record 92 of Set 1 | Hambantota\n",
      "Processing Record 93 of Set 1 | Camacupa\n",
      "Processing Record 94 of Set 1 | Camargo\n",
      "Processing Record 95 of Set 1 | Mana\n",
      "city not found. Skipping ...\n",
      "Processing Record 96 of Set 1 | Lüderitz\n",
      "Processing Record 97 of Set 1 | Hermanus\n",
      "Processing Record 98 of Set 1 | Pisco\n",
      "Processing Record 99 of Set 1 | Mount Gambier\n",
      "Processing Record 100 of Set 1 | Thompson\n",
      "Processing Record 101 of Set 1 | Saint Paul Harbor\n",
      "Processing Record 102 of Set 1 | Marzuq\n",
      "Processing Record 103 of Set 1 | Severo-Kuril'sk\n",
      "Processing Record 104 of Set 1 | Kloulklubed\n",
      "city not found. Skipping ...\n",
      "Processing Record 105 of Set 1 | Las Palmas\n",
      "Processing Record 106 of Set 1 | Kholtoson\n",
      "Processing Record 107 of Set 1 | Te Anau\n",
      "Processing Record 108 of Set 1 | Narsaq\n",
      "Processing Record 109 of Set 1 | Gumdag\n",
      "Processing Record 110 of Set 1 | Provideniya\n",
      "city not found. Skipping ...\n",
      "Processing Record 111 of Set 1 | Faanui\n",
      "city not found. Skipping ...\n",
      "Processing Record 112 of Set 1 | Moundsville\n",
      "Processing Record 113 of Set 1 | Talnakh\n",
      "city not found. Skipping ...\n",
      "Processing Record 114 of Set 1 | Bonthe\n",
      "Processing Record 115 of Set 1 | Nambucca Heads\n",
      "Processing Record 116 of Set 1 | Verkh-Usugli\n",
      "Processing Record 117 of Set 1 | Yar-Sale\n",
      "Processing Record 118 of Set 1 | Portobelo\n",
      "Processing Record 119 of Set 1 | Ancud\n",
      "Processing Record 120 of Set 1 | Jefferson City\n",
      "Processing Record 121 of Set 1 | Binzhou\n",
      "Processing Record 122 of Set 1 | Portland\n",
      "Processing Record 123 of Set 1 | Batagay-Alyta\n",
      "Processing Record 124 of Set 1 | Oranjemund\n",
      "Processing Record 125 of Set 1 | Hirado\n",
      "Processing Record 126 of Set 1 | Ballina\n",
      "Processing Record 127 of Set 1 | Longyearbyen\n",
      "Processing Record 128 of Set 1 | Ariquemes\n",
      "Processing Record 129 of Set 1 | Boa Vista\n",
      "Processing Record 130 of Set 1 | Sindor\n",
      "Processing Record 131 of Set 1 | Ribeira Grande\n",
      "Processing Record 132 of Set 1 | Inta\n",
      "Processing Record 133 of Set 1 | Lompoc\n",
      "Processing Record 134 of Set 1 | Port Hedland\n",
      "Processing Record 135 of Set 1 | Yangi Marg`ilon\n",
      "Processing Record 136 of Set 1 | Slavutych\n",
      "city not found. Skipping ...\n",
      "Processing Record 137 of Set 1 | Tuktoyaktuk\n",
      "Processing Record 138 of Set 1 | Bambous Virieux\n",
      "Processing Record 139 of Set 1 | Lebu\n",
      "Processing Record 140 of Set 1 | Sitka\n",
      "Processing Record 141 of Set 1 | Terra Santa\n",
      "Processing Record 142 of Set 1 | Aksarka\n",
      "Processing Record 143 of Set 1 | Fortuna\n",
      "Processing Record 144 of Set 1 | Chimbote\n",
      "Processing Record 145 of Set 1 | Vila Velha\n",
      "Processing Record 146 of Set 1 | Pravda\n",
      "Processing Record 147 of Set 1 | Grand-Santi\n",
      "city not found. Skipping ...\n",
      "Processing Record 148 of Set 1 | Mae Hong Son\n",
      "Processing Record 149 of Set 1 | Kapaa\n",
      "Processing Record 150 of Set 1 | Cabo San Lucas\n",
      "Processing Record 151 of Set 1 | Boyolangu\n",
      "Processing Record 152 of Set 1 | Saskylakh\n",
      "Processing Record 153 of Set 1 | Pevek\n",
      "Processing Record 154 of Set 1 | Barranca\n",
      "Processing Record 155 of Set 1 | Isoka\n",
      "Processing Record 156 of Set 1 | Yellowknife\n",
      "Processing Record 157 of Set 1 | Cidreira\n",
      "Processing Record 158 of Set 1 | Bisalpur\n",
      "Processing Record 159 of Set 1 | Toora-Khem\n",
      "Processing Record 160 of Set 1 | Geraldton\n",
      "Processing Record 161 of Set 1 | Praia\n",
      "Processing Record 162 of Set 1 | Dikson\n",
      "Processing Record 163 of Set 1 | Saint George\n",
      "Processing Record 164 of Set 1 | Monroe\n",
      "Processing Record 165 of Set 1 | Cairns\n",
      "Processing Record 166 of Set 1 | Mandan\n",
      "city not found. Skipping ...\n",
      "Processing Record 167 of Set 1 | Bridlington\n",
      "Processing Record 168 of Set 1 | Biltine\n",
      "Processing Record 169 of Set 1 | San Nicolas\n",
      "Processing Record 170 of Set 1 | Orlovskiy\n",
      "Processing Record 171 of Set 1 | Marabu\n",
      "Processing Record 172 of Set 1 | Ilulissat\n",
      "Processing Record 173 of Set 1 | Santa Vitória\n",
      "Processing Record 174 of Set 1 | Lata\n",
      "Processing Record 175 of Set 1 | Itarema\n",
      "Processing Record 176 of Set 1 | Mar del Plata\n",
      "Processing Record 177 of Set 1 | Tasiilaq\n",
      "Processing Record 178 of Set 1 | Aden\n",
      "Processing Record 179 of Set 1 | Laguna\n",
      "Processing Record 180 of Set 1 | Katsuura\n",
      "Processing Record 181 of Set 1 | Iwanai\n",
      "Processing Record 182 of Set 1 | Airai\n",
      "Processing Record 183 of Set 1 | Kamenka\n",
      "city not found. Skipping ...\n"
     ]
    },
    {
     "name": "stdout",
     "output_type": "stream",
     "text": [
      "city not found. Skipping ...\n",
      "Processing Record 184 of Set 1 | Saldanha\n",
      "Processing Record 185 of Set 1 | Touros\n",
      "city not found. Skipping ...\n",
      "Processing Record 186 of Set 1 | Carutapera\n",
      "Processing Record 187 of Set 1 | Isla Vista\n",
      "Processing Record 188 of Set 1 | Qasigiannguit\n",
      "city not found. Skipping ...\n",
      "Processing Record 189 of Set 1 | Santiago\n",
      "city not found. Skipping ...\n",
      "Processing Record 190 of Set 1 | Saint-Paul\n",
      "Processing Record 191 of Set 1 | Tomatlán\n",
      "city not found. Skipping ...\n",
      "city not found. Skipping ...\n",
      "Processing Record 192 of Set 1 | Lumphat\n",
      "Processing Record 193 of Set 1 | Vao\n",
      "Processing Record 194 of Set 1 | Naze\n",
      "city not found. Skipping ...\n",
      "city not found. Skipping ...\n",
      "Processing Record 195 of Set 1 | Cherskiy\n",
      "Processing Record 196 of Set 1 | Vila\n",
      "Processing Record 197 of Set 1 | New Glasgow\n",
      "Processing Record 198 of Set 1 | Avarua\n",
      "city not found. Skipping ...\n",
      "Processing Record 199 of Set 1 | Boca do Acre\n",
      "Processing Record 200 of Set 1 | Fairbanks\n",
      "Processing Record 201 of Set 1 | Avera\n",
      "Processing Record 202 of Set 1 | Tataouine\n",
      "Processing Record 203 of Set 1 | Port Lincoln\n",
      "Processing Record 204 of Set 1 | Telica\n",
      "Processing Record 205 of Set 1 | Jasper\n",
      "Processing Record 206 of Set 1 | Jamestown\n",
      "Processing Record 207 of Set 1 | Faya\n",
      "Processing Record 208 of Set 1 | Kruisfontein\n",
      "Processing Record 209 of Set 1 | Sheksna\n",
      "Processing Record 210 of Set 1 | Clyde River\n",
      "Processing Record 211 of Set 1 | Upernavik\n",
      "Processing Record 212 of Set 1 | Beringovskiy\n",
      "city not found. Skipping ...\n",
      "Processing Record 213 of Set 1 | San Patricio\n",
      "Processing Record 214 of Set 1 | Rørvik\n",
      "Processing Record 215 of Set 1 | Coyhaique\n",
      "Processing Record 216 of Set 1 | Zeven\n",
      "Processing Record 217 of Set 1 | Smithers\n",
      "Processing Record 218 of Set 1 | Srednekolymsk\n",
      "Processing Record 219 of Set 1 | Blairmore\n",
      "Processing Record 220 of Set 1 | Innisfail\n",
      "Processing Record 221 of Set 1 | Toamasina\n",
      "Processing Record 222 of Set 1 | Vestmannaeyjar\n",
      "Processing Record 223 of Set 1 | Noumea\n",
      "Processing Record 224 of Set 1 | Gramsh\n",
      "Processing Record 225 of Set 1 | Poplar Bluff\n",
      "Processing Record 226 of Set 1 | Bubaque\n",
      "Processing Record 227 of Set 1 | Nikita\n",
      "Processing Record 228 of Set 1 | Rindal\n",
      "Processing Record 229 of Set 1 | Suntar\n",
      "Processing Record 230 of Set 1 | Grindavik\n",
      "city not found. Skipping ...\n",
      "Processing Record 231 of Set 1 | Kashary\n",
      "Processing Record 232 of Set 1 | Rurrenabaque\n",
      "Processing Record 233 of Set 1 | Bilma\n",
      "Processing Record 234 of Set 1 | Nantucket\n",
      "Processing Record 235 of Set 1 | Launceston\n",
      "city not found. Skipping ...\n",
      "Processing Record 236 of Set 1 | Mujiayingzi\n",
      "Processing Record 237 of Set 1 | Fiumicino\n",
      "Processing Record 238 of Set 1 | Ostrovnoy\n",
      "Processing Record 239 of Set 1 | Grootfontein\n",
      "city not found. Skipping ...\n",
      "Processing Record 240 of Set 1 | Gūdūr\n",
      "Processing Record 241 of Set 1 | Bilibino\n",
      "Processing Record 242 of Set 1 | Yuancheng\n",
      "Processing Record 243 of Set 1 | Wewak\n",
      "Processing Record 244 of Set 1 | East London\n",
      "city not found. Skipping ...\n",
      "Processing Record 245 of Set 1 | Tricase\n",
      "Processing Record 246 of Set 1 | Nouadhibou\n",
      "Processing Record 247 of Set 1 | Lake Shasta\n",
      "Processing Record 248 of Set 1 | Bud\n",
      "city not found. Skipping ...\n",
      "Processing Record 249 of Set 1 | Labuan\n",
      "Processing Record 250 of Set 1 | Mercedes\n",
      "Processing Record 251 of Set 1 | Kavaratti\n",
      "Processing Record 252 of Set 1 | Bumbuna\n",
      "Processing Record 253 of Set 1 | Yeppoon\n",
      "Processing Record 254 of Set 1 | Antalaha\n",
      "Processing Record 255 of Set 1 | Flin Flon\n",
      "Processing Record 256 of Set 1 | Kandrian\n",
      "Processing Record 257 of Set 1 | Tessalit\n",
      "city not found. Skipping ...\n",
      "Processing Record 258 of Set 1 | Nikolskoye\n",
      "Processing Record 259 of Set 1 | Skjervøy\n",
      "Processing Record 260 of Set 1 | Ratholo\n",
      "Processing Record 261 of Set 1 | San Quintín\n",
      "Processing Record 262 of Set 1 | Husavik\n",
      "Processing Record 263 of Set 1 | Saint-Pierre\n",
      "Processing Record 264 of Set 1 | Trairi\n",
      "Processing Record 265 of Set 1 | Tuy Hoa\n",
      "Processing Record 266 of Set 1 | Xinqing\n",
      "Processing Record 267 of Set 1 | Bocaiúva\n",
      "Processing Record 268 of Set 1 | Nacala\n",
      "Processing Record 269 of Set 1 | Santa Cruz del Sur\n",
      "Processing Record 270 of Set 1 | Melo\n",
      "Processing Record 271 of Set 1 | São Francisco\n",
      "Processing Record 272 of Set 1 | Ayna\n",
      "Processing Record 273 of Set 1 | Tilichiki\n",
      "Processing Record 274 of Set 1 | Barra de Tecoanapa\n",
      "Processing Record 275 of Set 1 | Teguise\n",
      "Processing Record 276 of Set 1 | Coquimbo\n",
      "Processing Record 277 of Set 1 | Malakal\n",
      "Processing Record 278 of Set 1 | Thinadhoo\n",
      "Processing Record 279 of Set 1 | Comodoro Rivadavia\n",
      "Processing Record 280 of Set 1 | Palmer\n",
      "Processing Record 281 of Set 1 | Kainantu\n",
      "Processing Record 282 of Set 1 | Corumbá\n",
      "Processing Record 283 of Set 1 | Nagrām\n",
      "Processing Record 284 of Set 1 | Kibala\n",
      "city not found. Skipping ...\n",
      "Processing Record 285 of Set 1 | Petropavlovsk-Kamchatskiy\n",
      "Processing Record 286 of Set 1 | Plettenberg Bay\n",
      "Processing Record 287 of Set 1 | Coatesville\n",
      "Processing Record 288 of Set 1 | Ponta do Sol\n",
      "Processing Record 289 of Set 1 | Wakkanai\n",
      "Processing Record 290 of Set 1 | Padang\n",
      "Processing Record 291 of Set 1 | Vallenar\n",
      "Processing Record 292 of Set 1 | Kisangani\n",
      "Processing Record 293 of Set 1 | Muros\n",
      "Processing Record 294 of Set 1 | Iqaluit\n",
      "Processing Record 295 of Set 1 | Neya\n",
      "Processing Record 296 of Set 1 | Mitsamiouli\n",
      "Processing Record 297 of Set 1 | Port Moresby\n",
      "Processing Record 298 of Set 1 | Caucayá\n",
      "Processing Record 299 of Set 1 | Sapele\n",
      "Processing Record 300 of Set 1 | Katobu\n",
      "Processing Record 301 of Set 1 | Sūsangerd\n",
      "Processing Record 302 of Set 1 | Dunedin\n",
      "Processing Record 303 of Set 1 | Vila Franca do Campo\n",
      "Processing Record 304 of Set 1 | Balikpapan\n",
      "city not found. Skipping ...\n",
      "Processing Record 305 of Set 1 | Alappuzha\n",
      "Processing Record 306 of Set 1 | Linda\n",
      "Processing Record 307 of Set 1 | Rocha\n",
      "Processing Record 308 of Set 1 | Oranjestad\n",
      "city not found. Skipping ...\n",
      "Processing Record 309 of Set 1 | Krasnoborsk\n",
      "Processing Record 310 of Set 1 | Yanam\n",
      "Processing Record 311 of Set 1 | Atar\n",
      "Processing Record 312 of Set 1 | Solok\n",
      "Processing Record 313 of Set 1 | Esperance\n",
      "Processing Record 314 of Set 1 | Fare\n",
      "Processing Record 315 of Set 1 | São Filipe\n",
      "Processing Record 316 of Set 1 | Planadas\n",
      "Processing Record 317 of Set 1 | Noyabrsk\n",
      "Processing Record 318 of Set 1 | Antanifotsy\n",
      "Processing Record 319 of Set 1 | Dongsheng\n",
      "city not found. Skipping ...\n",
      "Processing Record 320 of Set 1 | Miles City\n",
      "Processing Record 321 of Set 1 | Mehamn\n",
      "Processing Record 322 of Set 1 | Ninh Binh\n",
      "Processing Record 323 of Set 1 | Charters Towers\n",
      "Processing Record 324 of Set 1 | Voskevan\n",
      "Processing Record 325 of Set 1 | Nago\n",
      "Processing Record 326 of Set 1 | Kahului\n",
      "Processing Record 327 of Set 1 | Sedalia\n",
      "Processing Record 328 of Set 1 | Kimamba\n",
      "Processing Record 329 of Set 1 | Palauig\n",
      "Processing Record 330 of Set 1 | Klaksvík\n",
      "Processing Record 331 of Set 1 | Atambua\n",
      "Processing Record 332 of Set 1 | Ixtapa\n",
      "Processing Record 333 of Set 1 | Arraial do Cabo\n",
      "Processing Record 334 of Set 1 | Vanderhoof\n",
      "Processing Record 335 of Set 1 | Korla\n",
      "Processing Record 336 of Set 1 | Torbay\n",
      "Processing Record 337 of Set 1 | Bairiki Village\n",
      "Processing Record 338 of Set 1 | Oromocto\n",
      "Processing Record 339 of Set 1 | Moose Factory\n",
      "Processing Record 340 of Set 1 | Acatlán\n",
      "Processing Record 341 of Set 1 | Makakilo City\n",
      "Processing Record 342 of Set 1 | Fort William\n",
      "Processing Record 343 of Set 1 | Lishui\n",
      "Processing Record 344 of Set 1 | San Antonio\n",
      "Processing Record 345 of Set 1 | Mkushi\n",
      "Processing Record 346 of Set 1 | Vryburg\n",
      "Processing Record 347 of Set 1 | Huanan\n",
      "Processing Record 348 of Set 1 | Berzovia\n",
      "city not found. Skipping ...\n",
      "Processing Record 349 of Set 1 | Campos dos Goytacazes\n",
      "Processing Record 350 of Set 1 | Les Cayes\n",
      "Processing Record 351 of Set 1 | Kiri Buru\n",
      "Processing Record 352 of Set 1 | Vilcún\n",
      "Processing Record 353 of Set 1 | Pundaguitan\n",
      "Processing Record 354 of Set 1 | Alindao\n",
      "Processing Record 355 of Set 1 | Schisma Eloundas\n",
      "Processing Record 356 of Set 1 | Kwang Binh\n",
      "Processing Record 357 of Set 1 | Santa Maria\n",
      "Processing Record 358 of Set 1 | Knin\n",
      "Processing Record 359 of Set 1 | Wanning\n",
      "Processing Record 360 of Set 1 | Kviteseid\n",
      "Processing Record 361 of Set 1 | Spišské Podhradie\n"
     ]
    },
    {
     "name": "stdout",
     "output_type": "stream",
     "text": [
      "Processing Record 362 of Set 1 | Mishkino\n",
      "Processing Record 363 of Set 1 | Tuatapere\n",
      "Processing Record 364 of Set 1 | Vetlanda\n",
      "Processing Record 365 of Set 1 | Tanabe\n",
      "Processing Record 366 of Set 1 | Praia da Vitória\n",
      "Processing Record 367 of Set 1 | Najrān\n",
      "Processing Record 368 of Set 1 | Acurenam\n",
      "Processing Record 369 of Set 1 | Orlik\n",
      "Processing Record 370 of Set 1 | Russell\n",
      "Processing Record 371 of Set 1 | Alice Springs\n",
      "Processing Record 372 of Set 1 | Winton\n",
      "Processing Record 373 of Set 1 | Wenling\n",
      "Processing Record 374 of Set 1 | Bulgan\n",
      "Processing Record 375 of Set 1 | Richards Bay\n",
      "Processing Record 376 of Set 1 | Dwārka\n",
      "Processing Record 377 of Set 1 | Pudozh\n",
      "Processing Record 378 of Set 1 | Kashgar\n",
      "Processing Record 379 of Set 1 | Kutum\n",
      "Processing Record 380 of Set 1 | Dhidhdhoo\n",
      "city not found. Skipping ...\n",
      "Processing Record 381 of Set 1 | Hobyo\n",
      "Processing Record 382 of Set 1 | Maniwaki\n",
      "Processing Record 383 of Set 1 | Hamilton\n",
      "Processing Record 384 of Set 1 | Maragogi\n",
      "Processing Record 385 of Set 1 | Broken Hill\n",
      "Processing Record 386 of Set 1 | Itarantim\n",
      "Processing Record 387 of Set 1 | Dargaville\n",
      "Processing Record 388 of Set 1 | Otane\n",
      "Processing Record 389 of Set 1 | Obodivka\n",
      "Processing Record 390 of Set 1 | Honiara\n",
      "Processing Record 391 of Set 1 | Christiana\n",
      "Processing Record 392 of Set 1 | Novikovo\n",
      "Processing Record 393 of Set 1 | Babayurt\n",
      "Processing Record 394 of Set 1 | Gushi\n",
      "Processing Record 395 of Set 1 | Ozernovskiy\n",
      "Processing Record 396 of Set 1 | Aswān\n",
      "Processing Record 397 of Set 1 | Kirkcudbright\n",
      "Processing Record 398 of Set 1 | Terrace\n",
      "Processing Record 399 of Set 1 | Bowen\n",
      "Processing Record 400 of Set 1 | Oktyabr'skoye\n",
      "Processing Record 401 of Set 1 | Jardim\n",
      "Processing Record 402 of Set 1 | Queenstown\n",
      "Processing Record 403 of Set 1 | Amapá\n",
      "Processing Record 404 of Set 1 | Sur\n",
      "Processing Record 405 of Set 1 | Nazas\n",
      "Processing Record 406 of Set 1 | Umm Kaddadah\n",
      "Processing Record 407 of Set 1 | Tual\n",
      "Processing Record 408 of Set 1 | Barcelona\n",
      "Processing Record 409 of Set 1 | Nome\n",
      "Processing Record 410 of Set 1 | Wundanyi\n",
      "Processing Record 411 of Set 1 | Djibouti\n",
      "Processing Record 412 of Set 1 | College\n",
      "Processing Record 413 of Set 1 | Chegdomyn\n",
      "Processing Record 414 of Set 1 | Mayumba\n",
      "Processing Record 415 of Set 1 | Berbera\n",
      "city not found. Skipping ...\n",
      "Processing Record 416 of Set 1 | Chokwé\n",
      "Processing Record 417 of Set 1 | Isangel\n",
      "Processing Record 418 of Set 1 | Estelle\n",
      "Processing Record 419 of Set 1 | San Vicente\n",
      "Processing Record 420 of Set 1 | Leh\n",
      "Processing Record 421 of Set 1 | Morant Bay\n",
      "Processing Record 422 of Set 1 | Ozark\n",
      "city not found. Skipping ...\n",
      "Processing Record 423 of Set 1 | Don Luan\n",
      "Processing Record 424 of Set 1 | Costa Rica\n",
      "city not found. Skipping ...\n",
      "Processing Record 425 of Set 1 | Nuevitas\n",
      "Processing Record 426 of Set 1 | Maniitsoq\n",
      "Processing Record 427 of Set 1 | Coahuayana Viejo\n",
      "Processing Record 428 of Set 1 | Vila Praia de Âncora\n",
      "Processing Record 429 of Set 1 | Ratnapura\n",
      "Processing Record 430 of Set 1 | Kalmunai\n",
      "Processing Record 431 of Set 1 | Kaeo\n",
      "Processing Record 432 of Set 1 | Kharan\n",
      "Processing Record 433 of Set 1 | Saint-Leu\n",
      "Processing Record 434 of Set 1 | Kuala Terengganu\n",
      "Processing Record 435 of Set 1 | Beloha\n",
      "Processing Record 436 of Set 1 | Makushino\n",
      "Processing Record 437 of Set 1 | Chicama\n",
      "Processing Record 438 of Set 1 | Bonavista\n",
      "Processing Record 439 of Set 1 | Altamira\n",
      "Processing Record 440 of Set 1 | Karlskrona\n",
      "Processing Record 441 of Set 1 | Kasongo-Lunda\n",
      "Processing Record 442 of Set 1 | Sovetskiy\n",
      "Processing Record 443 of Set 1 | Macao\n",
      "Processing Record 444 of Set 1 | Westport\n",
      "Processing Record 445 of Set 1 | Menzelinsk\n",
      "Processing Record 446 of Set 1 | Khāsh\n",
      "Processing Record 447 of Set 1 | Lucapa\n",
      "Processing Record 448 of Set 1 | Belmonte\n",
      "Processing Record 449 of Set 1 | Aykhal\n",
      "Processing Record 450 of Set 1 | Finschhafen\n",
      "Processing Record 451 of Set 1 | Abhā\n",
      "Processing Record 452 of Set 1 | San Fernando del Valle de Catamarca\n",
      "Processing Record 453 of Set 1 | Goulburn\n",
      "Processing Record 454 of Set 1 | Port Hardy\n",
      "Processing Record 455 of Set 1 | Pyaozerskiy\n",
      "Processing Record 456 of Set 1 | Mulegé\n",
      "Processing Record 457 of Set 1 | Goderich\n",
      "Processing Record 458 of Set 1 | Penzance\n",
      "Processing Record 459 of Set 1 | Almaznyy\n",
      "Processing Record 460 of Set 1 | Dawei\n",
      "Processing Record 461 of Set 1 | Puerto Madryn\n",
      "Processing Record 462 of Set 1 | Murakami\n",
      "Processing Record 463 of Set 1 | Yamada\n",
      "Processing Record 464 of Set 1 | Yulara\n",
      "Processing Record 465 of Set 1 | Tiquicheo\n",
      "Processing Record 466 of Set 1 | Talara\n",
      "city not found. Skipping ...\n",
      "Processing Record 467 of Set 1 | Healdsburg\n",
      "Processing Record 468 of Set 1 | Mount Isa\n",
      "Processing Record 469 of Set 1 | Kochevo\n",
      "Processing Record 470 of Set 1 | Gillette\n",
      "Processing Record 471 of Set 1 | Remiremont\n",
      "Processing Record 472 of Set 1 | Sabha\n",
      "Processing Record 473 of Set 1 | Acapulco de Juárez\n",
      "Processing Record 474 of Set 1 | Lodwar\n",
      "city not found. Skipping ...\n",
      "Processing Record 475 of Set 1 | Autazes\n",
      "Processing Record 476 of Set 1 | Mehrān\n",
      "Processing Record 477 of Set 1 | Solapur\n",
      "Processing Record 478 of Set 1 | Kirkkonummi\n",
      "Processing Record 479 of Set 1 | Kautokeino\n",
      "Processing Record 480 of Set 1 | Thomasville\n",
      "Processing Record 481 of Set 1 | Canindé\n",
      "Processing Record 482 of Set 1 | Hong Kong\n",
      "Processing Record 483 of Set 1 | Walvis Bay\n",
      "Processing Record 484 of Set 1 | Teya\n",
      "Processing Record 485 of Set 1 | Jaciara\n",
      "Processing Record 486 of Set 1 | Beroroha\n",
      "Processing Record 487 of Set 1 | Kulhudhuffushi\n",
      "Processing Record 488 of Set 1 | Cervo\n",
      "Processing Record 489 of Set 1 | Warwick\n",
      "Processing Record 490 of Set 1 | Malé\n",
      "Processing Record 491 of Set 1 | Kapoeta\n",
      "Processing Record 492 of Set 1 | Camacha\n",
      "Processing Record 493 of Set 1 | Endwell\n",
      "Processing Record 494 of Set 1 | Soe\n",
      "Processing Record 495 of Set 1 | Dalby\n",
      "city not found. Skipping ...\n",
      "Processing Record 496 of Set 1 | Baracoa\n",
      "Processing Record 497 of Set 1 | Pecos\n",
      "Processing Record 498 of Set 1 | Natal\n",
      "Processing Record 499 of Set 1 | Coos Bay\n",
      "Processing Record 500 of Set 1 | Karratha\n",
      "Processing Record 501 of Set 1 | Takoradze\n",
      "Processing Record 502 of Set 1 | Port-Gentil\n",
      "Processing Record 503 of Set 1 | Ashland\n",
      "Processing Record 504 of Set 1 | Belém de São Francisco\n",
      "Processing Record 505 of Set 1 | Zeya\n",
      "Processing Record 506 of Set 1 | Poronaysk\n",
      "Processing Record 507 of Set 1 | Kholmogory\n",
      "Processing Record 508 of Set 1 | Komádi\n",
      "Processing Record 509 of Set 1 | Namatanai\n",
      "Processing Record 510 of Set 1 | Esim\n",
      "Processing Record 511 of Set 1 | Sinjār\n",
      "Processing Record 512 of Set 1 | Pimentel\n",
      "Processing Record 513 of Set 1 | Byron Bay\n",
      "Processing Record 514 of Set 1 | San Jose\n",
      "Processing Record 515 of Set 1 | Envira\n",
      "Processing Record 516 of Set 1 | Bontang\n",
      "Processing Record 517 of Set 1 | Christchurch\n",
      "Processing Record 518 of Set 1 | Carnarvon\n",
      "Processing Record 519 of Set 1 | Yurgamysh\n",
      "Processing Record 520 of Set 1 | Kumul\n",
      "Processing Record 521 of Set 1 | Solnechnyy\n",
      "Processing Record 522 of Set 1 | São João da Barra\n",
      "Processing Record 523 of Set 1 | Batemans Bay\n",
      "Processing Record 524 of Set 1 | Skibbereen\n",
      "Processing Record 525 of Set 1 | ‘Āhuimanu\n",
      "city not found. Skipping ...\n",
      "Processing Record 526 of Set 1 | Saurimo\n",
      "city not found. Skipping ...\n",
      "Processing Record 527 of Set 1 | Vostok\n",
      "Processing Record 528 of Set 1 | Evensk\n",
      "Processing Record 529 of Set 1 | Inverell\n",
      "Processing Record 530 of Set 1 | Juradó\n",
      "Processing Record 531 of Set 1 | Prescott\n",
      "Processing Record 532 of Set 1 | Termoli\n",
      "Processing Record 533 of Set 1 | Albert Lea\n",
      "Processing Record 534 of Set 1 | Leningradskiy\n",
      "Processing Record 535 of Set 1 | São Miguel do Araguaia\n",
      "Processing Record 536 of Set 1 | Constitución\n",
      "Processing Record 537 of Set 1 | Kingsville\n",
      "Processing Record 538 of Set 1 | North Branford\n",
      "Processing Record 539 of Set 1 | South Kazakhstan Region\n",
      "Processing Record 540 of Set 1 | Pangnirtung\n",
      "Processing Record 541 of Set 1 | Rosetta\n",
      "Processing Record 542 of Set 1 | Pitimbu\n",
      "Processing Record 543 of Set 1 | Omboué\n",
      "Processing Record 544 of Set 1 | Sept-Îles\n",
      "Processing Record 545 of Set 1 | Mossamedes\n",
      "Processing Record 546 of Set 1 | Tena\n",
      "Processing Record 547 of Set 1 | Whitecourt\n",
      "Processing Record 548 of Set 1 | Kudahuvadhoo\n"
     ]
    },
    {
     "name": "stdout",
     "output_type": "stream",
     "text": [
      "city not found. Skipping ...\n",
      "Processing Record 549 of Set 1 | Kumano\n",
      "Processing Record 550 of Set 1 | Júlio de Castilhos\n",
      "Processing Record 551 of Set 1 | Yangambi\n",
      "Processing Record 552 of Set 1 | Benicarló\n",
      "Processing Record 553 of Set 1 | Andilamena\n",
      "Processing Record 554 of Set 1 | Taltal\n"
     ]
    }
   ],
   "source": [
    "# set up empty lists for needed characters\n",
    "city_id = []\n",
    "city_name = []\n",
    "cloudiness = []\n",
    "country = []\n",
    "date = []\n",
    "humidity = []\n",
    "lat = []\n",
    "lng = []\n",
    "max_temp = []\n",
    "wind_speed = []\n",
    "\n",
    "#start processing record at 1\n",
    "processingRecord = 1\n",
    "\n",
    "print(\"Beginning Data Retrieval\")\n",
    "print(\"-------------------------\")\n",
    "\n",
    "# loop through each city\n",
    "for city in cities:\n",
    "    \n",
    "#Exception handling\n",
    "    try:\n",
    "        response = requests.get(queryURL + city).json()\n",
    "        city_id.append(response['id'])\n",
    "        city_name.append(response['name']) \n",
    "        cloudiness.append(response['clouds']['all'])\n",
    "        country.append(response['sys']['country'])\n",
    "        date.append(response['dt'])\n",
    "        humidity.append(response['main']['humidity']) \n",
    "        lat.append(response['coord']['lat'])\n",
    "        lng.append(response['coord']['lon'])\n",
    "        max_temp.append(response['main']['temp_max']) \n",
    "        wind_speed.append(response['wind']['speed'])\n",
    "        cityResponse = response['name']\n",
    "        print(f\"Processing Record {processingRecord} of Set 1 | {cityResponse}\")\n",
    "              \n",
    "        # increment processing record\n",
    "        processingRecord +=1\n",
    "    \n",
    "    except:\n",
    "        print(\"city not found. Skipping ...\")\n",
    "    continue"
   ]
  },
  {
   "cell_type": "markdown",
   "metadata": {},
   "source": [
    "### Convert Raw Data to DataFrame\n",
    "* Export the city data into a .csv.\n",
    "* Display the DataFrame"
   ]
  },
  {
   "cell_type": "code",
   "execution_count": 16,
   "metadata": {},
   "outputs": [
    {
     "data": {
      "text/html": [
       "<div>\n",
       "<style scoped>\n",
       "    .dataframe tbody tr th:only-of-type {\n",
       "        vertical-align: middle;\n",
       "    }\n",
       "\n",
       "    .dataframe tbody tr th {\n",
       "        vertical-align: top;\n",
       "    }\n",
       "\n",
       "    .dataframe thead th {\n",
       "        text-align: right;\n",
       "    }\n",
       "</style>\n",
       "<table border=\"1\" class=\"dataframe\">\n",
       "  <thead>\n",
       "    <tr style=\"text-align: right;\">\n",
       "      <th></th>\n",
       "      <th>City ID</th>\n",
       "      <th>City Name</th>\n",
       "      <th>Cloudiness</th>\n",
       "      <th>Country</th>\n",
       "      <th>Date</th>\n",
       "      <th>Humidity</th>\n",
       "      <th>Latitude</th>\n",
       "      <th>Longitude</th>\n",
       "      <th>Max Temperature</th>\n",
       "      <th>Wind Speed</th>\n",
       "    </tr>\n",
       "  </thead>\n",
       "  <tbody>\n",
       "    <tr>\n",
       "      <th>0</th>\n",
       "      <td>5880054</td>\n",
       "      <td>Barrow</td>\n",
       "      <td>0</td>\n",
       "      <td>US</td>\n",
       "      <td>1658378208</td>\n",
       "      <td>76</td>\n",
       "      <td>71.2906</td>\n",
       "      <td>-156.7887</td>\n",
       "      <td>46.42</td>\n",
       "      <td>13.80</td>\n",
       "    </tr>\n",
       "    <tr>\n",
       "      <th>1</th>\n",
       "      <td>4030556</td>\n",
       "      <td>Rikitea</td>\n",
       "      <td>0</td>\n",
       "      <td>PF</td>\n",
       "      <td>1658378100</td>\n",
       "      <td>76</td>\n",
       "      <td>-23.1203</td>\n",
       "      <td>-134.9692</td>\n",
       "      <td>73.53</td>\n",
       "      <td>6.02</td>\n",
       "    </tr>\n",
       "    <tr>\n",
       "      <th>2</th>\n",
       "      <td>4032243</td>\n",
       "      <td>Vaini</td>\n",
       "      <td>20</td>\n",
       "      <td>TO</td>\n",
       "      <td>1658378339</td>\n",
       "      <td>83</td>\n",
       "      <td>-21.2000</td>\n",
       "      <td>-175.2000</td>\n",
       "      <td>77.16</td>\n",
       "      <td>8.05</td>\n",
       "    </tr>\n",
       "    <tr>\n",
       "      <th>3</th>\n",
       "      <td>1852357</td>\n",
       "      <td>Shimoda</td>\n",
       "      <td>79</td>\n",
       "      <td>JP</td>\n",
       "      <td>1658378187</td>\n",
       "      <td>79</td>\n",
       "      <td>34.6667</td>\n",
       "      <td>138.9500</td>\n",
       "      <td>82.76</td>\n",
       "      <td>5.53</td>\n",
       "    </tr>\n",
       "    <tr>\n",
       "      <th>4</th>\n",
       "      <td>5282297</td>\n",
       "      <td>Bethel</td>\n",
       "      <td>0</td>\n",
       "      <td>US</td>\n",
       "      <td>1658378116</td>\n",
       "      <td>82</td>\n",
       "      <td>41.3712</td>\n",
       "      <td>-73.4140</td>\n",
       "      <td>79.63</td>\n",
       "      <td>3.49</td>\n",
       "    </tr>\n",
       "  </tbody>\n",
       "</table>\n",
       "</div>"
      ],
      "text/plain": [
       "   City ID City Name  Cloudiness Country        Date  Humidity  Latitude  \\\n",
       "0  5880054    Barrow           0      US  1658378208        76   71.2906   \n",
       "1  4030556   Rikitea           0      PF  1658378100        76  -23.1203   \n",
       "2  4032243     Vaini          20      TO  1658378339        83  -21.2000   \n",
       "3  1852357   Shimoda          79      JP  1658378187        79   34.6667   \n",
       "4  5282297    Bethel           0      US  1658378116        82   41.3712   \n",
       "\n",
       "   Longitude  Max Temperature  Wind Speed  \n",
       "0  -156.7887            46.42       13.80  \n",
       "1  -134.9692            73.53        6.02  \n",
       "2  -175.2000            77.16        8.05  \n",
       "3   138.9500            82.76        5.53  \n",
       "4   -73.4140            79.63        3.49  "
      ]
     },
     "execution_count": 16,
     "metadata": {},
     "output_type": "execute_result"
    }
   ],
   "source": [
    "weatherDict = {\n",
    "    \"City ID\":city_id, \n",
    "    \"City Name\":city_name, \n",
    "    \"Cloudiness\":cloudiness,\n",
    "    \"Country\":country, \n",
    "    \"Date\":date, \n",
    "    \"Humidity\":humidity,\n",
    "    \"Latitude\":lat,\n",
    "    \"Longitude\":lng, \n",
    "    \"Max Temperature\":max_temp,\n",
    "    \"Wind Speed\":wind_speed\n",
    "}\n",
    "weatherDict = pd.DataFrame(weatherDict)\n",
    "weatherDict.head()"
   ]
  },
  {
   "cell_type": "code",
   "execution_count": 22,
   "metadata": {},
   "outputs": [
    {
     "data": {
      "text/plain": [
       "City ID            554\n",
       "City Name          554\n",
       "Cloudiness         554\n",
       "Country            554\n",
       "Date               554\n",
       "Humidity           554\n",
       "Latitude           554\n",
       "Longitude          554\n",
       "Max Temperature    554\n",
       "Wind Speed         554\n",
       "dtype: int64"
      ]
     },
     "execution_count": 22,
     "metadata": {},
     "output_type": "execute_result"
    }
   ],
   "source": [
    "weatherDict.count()"
   ]
  },
  {
   "cell_type": "code",
   "execution_count": 17,
   "metadata": {},
   "outputs": [],
   "source": [
    "weatherDict.to_csv(\"output_data/weatherDict.csv\")"
   ]
  },
  {
   "cell_type": "markdown",
   "metadata": {},
   "source": [
    "## Inspect the data and remove the cities where the humidity > 100%.\n",
    "----\n",
    "Skip this step if there are no cities that have humidity > 100%. "
   ]
  },
  {
   "cell_type": "code",
   "execution_count": 20,
   "metadata": {},
   "outputs": [
    {
     "data": {
      "text/plain": [
       "City ID            546\n",
       "City Name          546\n",
       "Cloudiness         546\n",
       "Country            546\n",
       "Date               546\n",
       "Humidity           546\n",
       "Latitude           546\n",
       "Longitude          546\n",
       "Max Temperature    546\n",
       "Wind Speed         546\n",
       "dtype: int64"
      ]
     },
     "execution_count": 20,
     "metadata": {},
     "output_type": "execute_result"
    }
   ],
   "source": [
    "maxHumid = weatherDict.loc[weatherDict['Humidity'] != 100]\n",
    "#del maxHumid\n"
   ]
  },
  {
   "cell_type": "code",
   "execution_count": 26,
   "metadata": {},
   "outputs": [
    {
     "data": {
      "text/plain": [
       "99"
      ]
     },
     "execution_count": 26,
     "metadata": {},
     "output_type": "execute_result"
    }
   ],
   "source": [
    "#  Get the indices of cities that have humidity over 100%.\n",
    "maxHumid.count()"
   ]
  },
  {
   "cell_type": "code",
   "execution_count": 6,
   "metadata": {},
   "outputs": [],
   "source": [
    "# Make a new DataFrame equal to the city data to drop all humidity outliers by index.\n",
    "# Passing \"inplace=False\" will make a copy of the city_data DataFrame, which we call \"clean_city_data\".\n"
   ]
  },
  {
   "cell_type": "code",
   "execution_count": 27,
   "metadata": {},
   "outputs": [
    {
     "data": {
      "text/html": [
       "<div>\n",
       "<style scoped>\n",
       "    .dataframe tbody tr th:only-of-type {\n",
       "        vertical-align: middle;\n",
       "    }\n",
       "\n",
       "    .dataframe tbody tr th {\n",
       "        vertical-align: top;\n",
       "    }\n",
       "\n",
       "    .dataframe thead th {\n",
       "        text-align: right;\n",
       "    }\n",
       "</style>\n",
       "<table border=\"1\" class=\"dataframe\">\n",
       "  <thead>\n",
       "    <tr style=\"text-align: right;\">\n",
       "      <th></th>\n",
       "      <th>City ID</th>\n",
       "      <th>City Name</th>\n",
       "      <th>Cloudiness</th>\n",
       "      <th>Country</th>\n",
       "      <th>Date</th>\n",
       "      <th>Humidity</th>\n",
       "      <th>Latitude</th>\n",
       "      <th>Longitude</th>\n",
       "      <th>Max Temperature</th>\n",
       "      <th>Wind Speed</th>\n",
       "    </tr>\n",
       "  </thead>\n",
       "  <tbody>\n",
       "    <tr>\n",
       "      <th>0</th>\n",
       "      <td>5880054</td>\n",
       "      <td>Barrow</td>\n",
       "      <td>0</td>\n",
       "      <td>US</td>\n",
       "      <td>1658378208</td>\n",
       "      <td>76</td>\n",
       "      <td>71.2906</td>\n",
       "      <td>-156.7887</td>\n",
       "      <td>46.42</td>\n",
       "      <td>13.80</td>\n",
       "    </tr>\n",
       "    <tr>\n",
       "      <th>1</th>\n",
       "      <td>4030556</td>\n",
       "      <td>Rikitea</td>\n",
       "      <td>0</td>\n",
       "      <td>PF</td>\n",
       "      <td>1658378100</td>\n",
       "      <td>76</td>\n",
       "      <td>-23.1203</td>\n",
       "      <td>-134.9692</td>\n",
       "      <td>73.53</td>\n",
       "      <td>6.02</td>\n",
       "    </tr>\n",
       "    <tr>\n",
       "      <th>2</th>\n",
       "      <td>4032243</td>\n",
       "      <td>Vaini</td>\n",
       "      <td>20</td>\n",
       "      <td>TO</td>\n",
       "      <td>1658378339</td>\n",
       "      <td>83</td>\n",
       "      <td>-21.2000</td>\n",
       "      <td>-175.2000</td>\n",
       "      <td>77.16</td>\n",
       "      <td>8.05</td>\n",
       "    </tr>\n",
       "    <tr>\n",
       "      <th>3</th>\n",
       "      <td>1852357</td>\n",
       "      <td>Shimoda</td>\n",
       "      <td>79</td>\n",
       "      <td>JP</td>\n",
       "      <td>1658378187</td>\n",
       "      <td>79</td>\n",
       "      <td>34.6667</td>\n",
       "      <td>138.9500</td>\n",
       "      <td>82.76</td>\n",
       "      <td>5.53</td>\n",
       "    </tr>\n",
       "    <tr>\n",
       "      <th>4</th>\n",
       "      <td>5282297</td>\n",
       "      <td>Bethel</td>\n",
       "      <td>0</td>\n",
       "      <td>US</td>\n",
       "      <td>1658378116</td>\n",
       "      <td>82</td>\n",
       "      <td>41.3712</td>\n",
       "      <td>-73.4140</td>\n",
       "      <td>79.63</td>\n",
       "      <td>3.49</td>\n",
       "    </tr>\n",
       "  </tbody>\n",
       "</table>\n",
       "</div>"
      ],
      "text/plain": [
       "   City ID City Name  Cloudiness Country        Date  Humidity  Latitude  \\\n",
       "0  5880054    Barrow           0      US  1658378208        76   71.2906   \n",
       "1  4030556   Rikitea           0      PF  1658378100        76  -23.1203   \n",
       "2  4032243     Vaini          20      TO  1658378339        83  -21.2000   \n",
       "3  1852357   Shimoda          79      JP  1658378187        79   34.6667   \n",
       "4  5282297    Bethel           0      US  1658378116        82   41.3712   \n",
       "\n",
       "   Longitude  Max Temperature  Wind Speed  \n",
       "0  -156.7887            46.42       13.80  \n",
       "1  -134.9692            73.53        6.02  \n",
       "2  -175.2000            77.16        8.05  \n",
       "3   138.9500            82.76        5.53  \n",
       "4   -73.4140            79.63        3.49  "
      ]
     },
     "execution_count": 27,
     "metadata": {},
     "output_type": "execute_result"
    }
   ],
   "source": [
    "maxHumid.head()"
   ]
  },
  {
   "cell_type": "markdown",
   "metadata": {},
   "source": [
    "## Plotting the Data\n",
    "* Use proper labeling of the plots using plot titles (including date of analysis) and axes labels.\n",
    "* Save the plotted figures as .pngs."
   ]
  },
  {
   "cell_type": "markdown",
   "metadata": {},
   "source": [
    "## Latitude vs. Temperature Plot"
   ]
  },
  {
   "cell_type": "code",
   "execution_count": 30,
   "metadata": {
    "scrolled": true
   },
   "outputs": [
    {
     "data": {
      "image/png": "[encoded data removed]",
      "text/plain": [
       "<Figure size 432x288 with 1 Axes>"
      ]
     },
     "metadata": {
      "needs_background": "light"
     },
     "output_type": "display_data"
    }
   ],
   "source": [
    "plt.scatter(maxHumid[\"Latitude\"], maxHumid[\"Max Temperature\"])\n",
    "plt.title(\"City Latitude vs Max Temperature (7/21/22)\")\n",
    "plt.xlabel(\"Latitude\")\n",
    "plt.ylabel(\"Max Temperature (F)\")\n",
    "plt.grid()\n",
    "plt.show()"
   ]
  },
  {
   "cell_type": "markdown",
   "metadata": {},
   "source": [
    "## Latitude vs. Humidity Plot"
   ]
  },
  {
   "cell_type": "code",
   "execution_count": 31,
   "metadata": {},
   "outputs": [
    {
     "data": {
      "image/png": "[encoded data removed]",
      "text/plain": [
       "<Figure size 432x288 with 1 Axes>"
      ]
     },
     "metadata": {
      "needs_background": "light"
     },
     "output_type": "display_data"
    }
   ],
   "source": [
    "plt.scatter(maxHumid[\"Latitude\"], maxHumid[\"Humidity\"])\n",
    "plt.title(\"City Latitude vs Humidity (7/21/22)\")\n",
    "plt.xlabel(\"Latitude\")\n",
    "plt.ylabel(\"Humidity (%)\")\n",
    "plt.grid()\n",
    "plt.show()"
   ]
  },
  {
   "cell_type": "markdown",
   "metadata": {},
   "source": [
    "## Latitude vs. Cloudiness Plot"
   ]
  },
  {
   "cell_type": "code",
   "execution_count": 32,
   "metadata": {},
   "outputs": [
    {
     "data": {
      "image/png": "[encoded data removed]",
      "text/plain": [
       "<Figure size 432x288 with 1 Axes>"
      ]
     },
     "metadata": {
      "needs_background": "light"
     },
     "output_type": "display_data"
    }
   ],
   "source": [
    "plt.scatter(maxHumid[\"Latitude\"], maxHumid[\"Cloudiness\"])\n",
    "plt.title(\"City Latitude vs Cloudiness (7/21/22)\")\n",
    "plt.xlabel(\"Latitude\")\n",
    "plt.ylabel(\"Cloudiness (%)\")\n",
    "plt.grid()\n",
    "plt.show()"
   ]
  },
  {
   "cell_type": "markdown",
   "metadata": {},
   "source": [
    "## Latitude vs. Wind Speed Plot"
   ]
  },
  {
   "cell_type": "code",
   "execution_count": 34,
   "metadata": {},
   "outputs": [
    {
     "data": {
      "image/png": "[encoded data removed]",
      "text/plain": [
       "<Figure size 432x288 with 1 Axes>"
      ]
     },
     "metadata": {
      "needs_background": "light"
     },
     "output_type": "display_data"
    }
   ],
   "source": [
    "plt.scatter(maxHumid[\"Latitude\"], maxHumid[\"Wind Speed\"])\n",
    "plt.title(\"City Latitude vs Wind Speed (7/21/22)\")\n",
    "plt.xlabel(\"Latitude\")\n",
    "plt.ylabel(\"Wind Speed (mph)\")\n",
    "plt.ylim(0,45)\n",
    "plt.grid()\n",
    "plt.show()"
   ]
  },
  {
   "cell_type": "markdown",
   "metadata": {},
   "source": [
    "## Linear Regression"
   ]
  },
  {
   "cell_type": "code",
   "execution_count": 42,
   "metadata": {},
   "outputs": [],
   "source": [
    "north = maxHumid['Latitude'] >= 0\n",
    "northernHem = maxHumid[north]\n",
    "southernHem = maxHumid[~north]"
   ]
  },
  {
   "cell_type": "markdown",
   "metadata": {},
   "source": [
    "####  Northern Hemisphere - Max Temp vs. Latitude Linear Regression"
   ]
  },
  {
   "cell_type": "code",
   "execution_count": 78,
   "metadata": {},
   "outputs": [
    {
     "name": "stdout",
     "output_type": "stream",
     "text": [
      "The r-value is 0.4244279304188061\n"
     ]
    },
    {
     "data": {
      "image/png": "[encoded data removed]",
      "text/plain": [
       "<Figure size 432x288 with 1 Axes>"
      ]
     },
     "metadata": {
      "needs_background": "light"
     },
     "output_type": "display_data"
    }
   ],
   "source": [
    "x_values = northernHem['Latitude']\n",
    "y_values = northernHem['Max Temperature']\n",
    "(slope, intercept, rvalue, pvalue, stderr) = linregress(x_values, y_values)\n",
    "regress_values = x_values * slope + intercept\n",
    "line_eq = \"y = \" + str(round(slope,2)) + \"x + \" + str(round(intercept,2))\n",
    "plt.scatter(x_values,y_values)\n",
    "plt.plot(x_values,regress_values,\"r-\")\n",
    "plt.xlabel('Latitude')\n",
    "plt.ylabel('Max Temp')\n",
    "print(f\"The r-value is {rvalue**2}\")\n",
    "plt.annotate(line_eq,(10,40),fontsize=15,color=\"red\")\n",
    "plt.show()\n"
   ]
  },
  {
   "cell_type": "markdown",
   "metadata": {},
   "source": [
    "####  Southern Hemisphere - Max Temp vs. Latitude Linear Regression"
   ]
  },
  {
   "cell_type": "code",
   "execution_count": 79,
   "metadata": {},
   "outputs": [
    {
     "name": "stdout",
     "output_type": "stream",
     "text": [
      "The r-value is 0.5498887345065093\n"
     ]
    },
    {
     "data": {
      "image/png": "[encoded data removed]",
      "text/plain": [
       "<Figure size 432x288 with 1 Axes>"
      ]
     },
     "metadata": {
      "needs_background": "light"
     },
     "output_type": "display_data"
    }
   ],
   "source": [
    "x_values = southernHem['Latitude']\n",
    "y_values = southernHem['Max Temperature']\n",
    "(slope, intercept, rvalue, pvalue, stderr) = linregress(x_values, y_values)\n",
    "regress_values = x_values * slope + intercept\n",
    "line_eq = \"y = \" + str(round(slope,2)) + \"x + \" + str(round(intercept,2))\n",
    "plt.scatter(x_values,y_values)\n",
    "plt.plot(x_values,regress_values,\"r-\")\n",
    "plt.xlabel('Latitude')\n",
    "plt.ylabel('Max Temp')\n",
    "print(f\"The r-value is {rvalue**2}\")\n",
    "plt.annotate(line_eq,(-50,80),fontsize=15,color=\"red\")\n",
    "plt.show()"
   ]
  },
  {
   "cell_type": "markdown",
   "metadata": {},
   "source": [
    "####  Northern Hemisphere - Humidity (%) vs. Latitude Linear Regression"
   ]
  },
  {
   "cell_type": "code",
   "execution_count": 85,
   "metadata": {},
   "outputs": [
    {
     "name": "stdout",
     "output_type": "stream",
     "text": [
      "The r-value is 0.008284034436210461\n"
     ]
    },
    {
     "data": {
      "image/png": "[encoded data removed]",
      "text/plain": [
       "<Figure size 432x288 with 1 Axes>"
      ]
     },
     "metadata": {
      "needs_background": "light"
     },
     "output_type": "display_data"
    }
   ],
   "source": [
    "x_values = northernHem['Latitude']\n",
    "y_values = northernHem['Humidity']\n",
    "(slope, intercept, rvalue, pvalue, stderr) = linregress(x_values, y_values)\n",
    "regress_values = x_values * slope + intercept\n",
    "line_eq = \"y = \" + str(round(slope,2)) + \"x + \" + str(round(intercept,2))\n",
    "plt.scatter(x_values,y_values)\n",
    "plt.plot(x_values,regress_values,\"r-\")\n",
    "plt.xlabel('Latitude')\n",
    "plt.ylabel('Humidity')\n",
    "print(f\"The r-value is {rvalue**2}\")\n",
    "plt.annotate(line_eq,(40,10),fontsize=15,color=\"red\")\n",
    "plt.show()"
   ]
  },
  {
   "cell_type": "markdown",
   "metadata": {},
   "source": [
    "####  Southern Hemisphere - Humidity (%) vs. Latitude Linear Regression"
   ]
  },
  {
   "cell_type": "code",
   "execution_count": 84,
   "metadata": {},
   "outputs": [
    {
     "name": "stdout",
     "output_type": "stream",
     "text": [
      "The r-value is 0.0004133680413989884\n"
     ]
    },
    {
     "data": {
      "image/png": "[encoded data removed]",
      "text/plain": [
       "<Figure size 432x288 with 1 Axes>"
      ]
     },
     "metadata": {
      "needs_background": "light"
     },
     "output_type": "display_data"
    }
   ],
   "source": [
    "x_values = southernHem['Latitude']\n",
    "y_values = southernHem['Humidity']\n",
    "(slope, intercept, rvalue, pvalue, stderr) = linregress(x_values, y_values)\n",
    "regress_values = x_values * slope + intercept\n",
    "line_eq = \"y = \" + str(round(slope,2)) + \"x + \" + str(round(intercept,2))\n",
    "plt.scatter(x_values,y_values)\n",
    "plt.plot(x_values,regress_values,\"r-\")\n",
    "plt.xlabel('Latitude')\n",
    "plt.ylabel('Humidity')\n",
    "print(f\"The r-value is {rvalue**2}\")\n",
    "plt.annotate(line_eq,(-50,20),fontsize=15,color=\"red\")\n",
    "plt.show()"
   ]
  },
  {
   "cell_type": "markdown",
   "metadata": {},
   "source": [
    "####  Northern Hemisphere - Cloudiness (%) vs. Latitude Linear Regression"
   ]
  },
  {
   "cell_type": "code",
   "execution_count": 86,
   "metadata": {},
   "outputs": [
    {
     "name": "stdout",
     "output_type": "stream",
     "text": [
      "The r-value is 2.7220567530530233e-08\n"
     ]
    },
    {
     "data": {
      "image/png": "[encoded data removed]",
      "text/plain": [
       "<Figure size 432x288 with 1 Axes>"
      ]
     },
     "metadata": {
      "needs_background": "light"
     },
     "output_type": "display_data"
    }
   ],
   "source": [
    "x_values = northernHem['Latitude']\n",
    "y_values = northernHem['Cloudiness']\n",
    "(slope, intercept, rvalue, pvalue, stderr) = linregress(x_values, y_values)\n",
    "regress_values = x_values * slope + intercept\n",
    "line_eq = \"y = \" + str(round(slope,2)) + \"x + \" + str(round(intercept,2))\n",
    "plt.scatter(x_values,y_values)\n",
    "plt.plot(x_values,regress_values,\"r-\")\n",
    "plt.xlabel('Latitude')\n",
    "plt.ylabel('Cloudiness')\n",
    "print(f\"The r-value is {rvalue**2}\")\n",
    "plt.annotate(line_eq,(40,10),fontsize=15,color=\"red\")\n",
    "plt.show()"
   ]
  },
  {
   "cell_type": "markdown",
   "metadata": {},
   "source": [
    "####  Southern Hemisphere - Cloudiness (%) vs. Latitude Linear Regression"
   ]
  },
  {
   "cell_type": "code",
   "execution_count": 87,
   "metadata": {},
   "outputs": [
    {
     "name": "stdout",
     "output_type": "stream",
     "text": [
      "The r-value is 0.00019565164643354393\n"
     ]
    },
    {
     "data": {
      "image/png": "[encoded data removed]",
      "text/plain": [
       "<Figure size 432x288 with 1 Axes>"
      ]
     },
     "metadata": {
      "needs_background": "light"
     },
     "output_type": "display_data"
    }
   ],
   "source": [
    "x_values = southernHem['Latitude']\n",
    "y_values = southernHem['Cloudiness']\n",
    "(slope, intercept, rvalue, pvalue, stderr) = linregress(x_values, y_values)\n",
    "regress_values = x_values * slope + intercept\n",
    "line_eq = \"y = \" + str(round(slope,2)) + \"x + \" + str(round(intercept,2))\n",
    "plt.scatter(x_values,y_values)\n",
    "plt.plot(x_values,regress_values,\"r-\")\n",
    "plt.xlabel('Latitude')\n",
    "plt.ylabel('Cloudiness')\n",
    "print(f\"The r-value is {rvalue**2}\")\n",
    "plt.annotate(line_eq,(-50,80),fontsize=15,color=\"red\")\n",
    "plt.show()"
   ]
  },
  {
   "cell_type": "markdown",
   "metadata": {},
   "source": [
    "####  Northern Hemisphere - Wind Speed (mph) vs. Latitude Linear Regression"
   ]
  },
  {
   "cell_type": "code",
   "execution_count": 89,
   "metadata": {},
   "outputs": [
    {
     "name": "stdout",
     "output_type": "stream",
     "text": [
      "The r-value is 0.008427632252024244\n"
     ]
    },
    {
     "data": {
      "image/png": "[encoded data removed]",
      "text/plain": [
       "<Figure size 432x288 with 1 Axes>"
      ]
     },
     "metadata": {
      "needs_background": "light"
     },
     "output_type": "display_data"
    }
   ],
   "source": [
    "x_values = northernHem['Latitude']\n",
    "y_values = northernHem['Wind Speed']\n",
    "(slope, intercept, rvalue, pvalue, stderr) = linregress(x_values, y_values)\n",
    "regress_values = x_values * slope + intercept\n",
    "line_eq = \"y = \" + str(round(slope,2)) + \"x + \" + str(round(intercept,2))\n",
    "plt.scatter(x_values,y_values)\n",
    "plt.plot(x_values,regress_values,\"r-\")\n",
    "plt.xlabel('Latitude')\n",
    "plt.ylabel('Wind Speed')\n",
    "print(f\"The r-value is {rvalue**2}\")\n",
    "plt.annotate(line_eq,(40,30),fontsize=15,color=\"red\")\n",
    "plt.show()"
   ]
  },
  {
   "cell_type": "markdown",
   "metadata": {},
   "source": [
    "####  Southern Hemisphere - Wind Speed (mph) vs. Latitude Linear Regression"
   ]
  },
  {
   "cell_type": "code",
   "execution_count": 91,
   "metadata": {},
   "outputs": [
    {
     "name": "stdout",
     "output_type": "stream",
     "text": [
      "The r-value is 0.08173660993682715\n"
     ]
    },
    {
     "data": {
      "image/png": "[encoded data removed]",
      "text/plain": [
       "<Figure size 432x288 with 1 Axes>"
      ]
     },
     "metadata": {
      "needs_background": "light"
     },
     "output_type": "display_data"
    }
   ],
   "source": [
    "x_values = southernHem['Latitude']\n",
    "y_values = southernHem['Wind Speed']\n",
    "(slope, intercept, rvalue, pvalue, stderr) = linregress(x_values, y_values)\n",
    "regress_values = x_values * slope + intercept\n",
    "line_eq = \"y = \" + str(round(slope,2)) + \"x + \" + str(round(intercept,2))\n",
    "plt.scatter(x_values,y_values)\n",
    "plt.plot(x_values,regress_values,\"r-\")\n",
    "plt.xlabel('Latitude')\n",
    "plt.ylabel('Wind Speed')\n",
    "print(f\"The r-value is {rvalue**2}\")\n",
    "plt.annotate(line_eq,(-30,25),fontsize=15,color=\"red\")\n",
    "plt.show()"
   ]
  }
 ],
 "metadata": {
  "anaconda-cloud": {},
  "kernel_info": {
   "name": "python3"
  },
  "kernelspec": {
   "display_name": "Python 3 (ipykernel)",
   "language": "python",
   "name": "python3"
  },
  "language_info": {
   "codemirror_mode": {
    "name": "ipython",
    "version": 3
   },
   "file_extension": ".py",
   "mimetype": "text/x-python",
   "name": "python",
   "nbconvert_exporter": "python",
   "pygments_lexer": "ipython3",
   "version": "3.9.12"
  },
  "latex_envs": {
   "LaTeX_envs_menu_present": true,
   "autoclose": false,
   "autocomplete": true,
   "bibliofile": "biblio.bib",
   "cite_by": "apalike",
   "current_citInitial": 1,
   "eqLabelWithNumbers": true,
   "eqNumInitial": 1,
   "hotkeys": {
    "equation": "Ctrl-E",
    "itemize": "Ctrl-I"
   },
   "labels_anchors": false,
   "latex_user_defs": false,
   "report_style_numbering": false,
   "user_envs_cfg": false
  },
  "nteract": {
   "version": "0.12.3"
  }
 },
 "nbformat": 4,
 "nbformat_minor": 2
}
