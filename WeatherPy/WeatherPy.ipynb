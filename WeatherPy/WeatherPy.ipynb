{
 "cells": [
  {
   "cell_type": "markdown",
   "metadata": {},
   "source": [
    "# WeatherPy\n",
    "----\n",
    "\n",
    "#### Note\n",
    "* Instructions have been included for each segment. You do not have to follow them exactly, but they are included to help you think through the steps."
   ]
  },
  {
   "cell_type": "code",
   "execution_count": 1,
   "metadata": {
    "scrolled": true
   },
   "outputs": [],
   "source": [
    "# Dependencies and Setup\n",
    "import matplotlib.pyplot as plt\n",
    "import pandas as pd\n",
    "import numpy as np\n",
    "import requests\n",
    "import time\n",
    "from scipy.stats import linregress\n",
    "from pprint import pprint\n",
    "import json\n",
    "\n",
    "# Import API key\n",
    "from api_keys import weather_api_key\n",
    "\n",
    "# Incorporated citipy to determine city based on latitude and longitude\n",
    "from citipy import citipy\n",
    "\n",
    "# Output File (CSV)\n",
    "output_data_file = \"output_data/cities.csv\"\n",
    "\n",
    "# Range of latitudes and longitudes\n",
    "lat_range = (-90, 90)\n",
    "lng_range = (-180, 180)"
   ]
  },
  {
   "cell_type": "markdown",
   "metadata": {},
   "source": [
    "## Generate Cities List"
   ]
  },
  {
   "cell_type": "code",
   "execution_count": 2,
   "metadata": {},
   "outputs": [
    {
     "data": {
      "text/plain": [
       "640"
      ]
     },
     "execution_count": 2,
     "metadata": {},
     "output_type": "execute_result"
    }
   ],
   "source": [
    "# List for holding lat_lngs and cities\n",
    "lat_lngs = []\n",
    "cities = []\n",
    "\n",
    "# Create a set of random lat and lng combinations\n",
    "lats = np.random.uniform(lat_range[0], lat_range[1], size=1500)\n",
    "lngs = np.random.uniform(lng_range[0], lng_range[1], size=1500)\n",
    "lat_lngs = zip(lats, lngs)\n",
    "\n",
    "# Identify nearest city for each lat, lng combination\n",
    "for lat_lng in lat_lngs:\n",
    "    city = citipy.nearest_city(lat_lng[0], lat_lng[1]).city_name\n",
    "    \n",
    "    # If the city is unique, then add it to a our cities list\n",
    "    if city not in cities:\n",
    "        cities.append(city)\n",
    "\n",
    "# Print the city count to confirm sufficient count\n",
    "len(cities)"
   ]
  },
  {
   "cell_type": "markdown",
   "metadata": {},
   "source": [
    "### Perform API Calls\n",
    "* Perform a weather check on each city using a series of successive API calls.\n",
    "* Include a print log of each city as it'sbeing processed (with the city number and city name).\n"
   ]
  },
  {
   "cell_type": "code",
   "execution_count": 3,
   "metadata": {},
   "outputs": [],
   "source": [
    "# Save config information\n",
    "url = \"http://api.openweathermap.org/data/2.5/weather?\"\n",
    "units = \"imperial\"\n",
    "\n",
    "# Build query URL\n",
    "queryURL = f\"{url}appid={weather_api_key}&units={units}&q=\"\n",
    "\n",
    "response = requests.get(queryURL + city).json()"
   ]
  },
  {
   "cell_type": "code",
   "execution_count": 4,
   "metadata": {
    "scrolled": true
   },
   "outputs": [
    {
     "name": "stdout",
     "output_type": "stream",
     "text": [
      "Beginning Data Retrieval\n",
      "-------------------------\n",
      "Processing Record 2 of set 1 | Hobart\n",
      "Processing Record 3 of set 1 | Berlevåg\n",
      "Processing Record 4 of set 1 | Vaini\n",
      "Processing Record 5 of set 1 | Faya\n",
      "Processing Record 6 of set 1 | Ushuaia\n",
      "Processing Record 7 of set 1 | Airai\n",
      "Processing Record 8 of set 1 | Upernavik\n",
      "city not found. Skipping ...\n",
      "Processing Record 9 of set 1 | Sassandra\n",
      "Processing Record 10 of set 1 | Kiryat Gat\n",
      "Processing Record 11 of set 1 | Staryy Nadym\n",
      "Processing Record 12 of set 1 | Yellowknife\n",
      "Processing Record 13 of set 1 | Dikson\n",
      "Processing Record 14 of set 1 | Tuktoyaktuk\n",
      "Processing Record 15 of set 1 | Onega\n",
      "Processing Record 16 of set 1 | Alice Springs\n",
      "Processing Record 17 of set 1 | Mataura\n",
      "Processing Record 18 of set 1 | Albany\n",
      "Processing Record 19 of set 1 | Bafra\n",
      "Processing Record 20 of set 1 | Jamestown\n",
      "Processing Record 21 of set 1 | Torbay\n",
      "city not found. Skipping ...\n",
      "Processing Record 22 of set 1 | Punta Arenas\n",
      "Processing Record 23 of set 1 | Castro\n",
      "Processing Record 24 of set 1 | Stolin\n",
      "city not found. Skipping ...\n",
      "Processing Record 25 of set 1 | Esperance\n",
      "Processing Record 26 of set 1 | Virginia Beach\n",
      "Processing Record 27 of set 1 | Cape Town\n",
      "Processing Record 28 of set 1 | Chanderi\n",
      "Processing Record 29 of set 1 | George Town\n",
      "Processing Record 30 of set 1 | Yumen\n",
      "Processing Record 31 of set 1 | Wichita Falls\n",
      "Processing Record 32 of set 1 | Butaritari\n",
      "Processing Record 33 of set 1 | Shingū\n",
      "Processing Record 34 of set 1 | Busselton\n",
      "Processing Record 35 of set 1 | Lorengau\n",
      "Processing Record 36 of set 1 | Vostok\n",
      "Processing Record 37 of set 1 | Hithadhoo\n",
      "Processing Record 38 of set 1 | Carnarvon\n",
      "Processing Record 39 of set 1 | Tarancón\n",
      "Processing Record 40 of set 1 | Ribeira Grande\n",
      "Processing Record 41 of set 1 | Calamba\n",
      "Processing Record 42 of set 1 | Katsuura\n",
      "Processing Record 43 of set 1 | Talnakh\n",
      "Processing Record 44 of set 1 | Longyearbyen\n",
      "Processing Record 45 of set 1 | Matara\n",
      "Processing Record 46 of set 1 | Bredasdorp\n",
      "Processing Record 47 of set 1 | Baruun-Urt\n",
      "Processing Record 48 of set 1 | Hilo\n",
      "Processing Record 49 of set 1 | Avarua\n",
      "Processing Record 50 of set 1 | Norman Wells\n",
      "city not found. Skipping ...\n",
      "Processing Record 0 of set 2 | Rosetown\n",
      "Processing Record 1 of set 2 | Sivaki\n",
      "city not found. Skipping ...\n",
      "Processing Record 2 of set 2 | Lüderitz\n",
      "Processing Record 3 of set 2 | Saskylakh\n",
      "Processing Record 4 of set 2 | Rikitea\n",
      "city not found. Skipping ...\n",
      "Processing Record 5 of set 2 | Quatre Cocos\n",
      "Processing Record 6 of set 2 | Rawson\n",
      "Processing Record 7 of set 2 | Baykit\n",
      "Processing Record 8 of set 2 | Atuona\n",
      "Processing Record 9 of set 2 | Cidreira\n",
      "Processing Record 10 of set 2 | Kiunga\n",
      "Processing Record 11 of set 2 | Pangnirtung\n",
      "Processing Record 12 of set 2 | Kalmunai\n",
      "Processing Record 13 of set 2 | Yerofey Pavlovich\n",
      "Processing Record 14 of set 2 | Puerto Ayora\n",
      "Processing Record 15 of set 2 | Bilma\n",
      "Processing Record 16 of set 2 | Arraial do Cabo\n",
      "Processing Record 17 of set 2 | Mahon\n",
      "Processing Record 18 of set 2 | Pevek\n",
      "Processing Record 19 of set 2 | Isangel\n",
      "Processing Record 20 of set 2 | Ishim\n",
      "Processing Record 21 of set 2 | Mar del Plata\n",
      "Processing Record 22 of set 2 | Namatanai\n",
      "Processing Record 23 of set 2 | Pachino\n",
      "Processing Record 24 of set 2 | Saint Paul Harbor\n",
      "Processing Record 25 of set 2 | Port Elizabeth\n",
      "Processing Record 26 of set 2 | Aranos\n",
      "Processing Record 27 of set 2 | Toora-Khem\n",
      "city not found. Skipping ...\n",
      "Processing Record 28 of set 2 | São Geraldo do Araguaia\n",
      "Processing Record 29 of set 2 | Chapada dos Guimarães\n",
      "Processing Record 30 of set 2 | San Policarpo\n",
      "Processing Record 31 of set 2 | Zabaykal'sk\n",
      "Processing Record 32 of set 2 | Severo-Kuril'sk\n",
      "Processing Record 33 of set 2 | Aykhal\n",
      "city not found. Skipping ...\n",
      "Processing Record 34 of set 2 | Bluff\n",
      "Processing Record 35 of set 2 | Nikolskoye\n",
      "Processing Record 36 of set 2 | Geraldton\n",
      "Processing Record 37 of set 2 | Port Alfred\n",
      "Processing Record 38 of set 2 | Uusikaupunki\n",
      "Processing Record 39 of set 2 | Necochea\n",
      "Processing Record 40 of set 2 | Qaanaaq\n",
      "city not found. Skipping ...\n",
      "Processing Record 41 of set 2 | Ebenthal\n",
      "Processing Record 42 of set 2 | Hermanus\n",
      "Processing Record 43 of set 2 | Soyo\n",
      "Processing Record 44 of set 2 | Lebu\n",
      "Processing Record 45 of set 2 | Kapaa\n",
      "Processing Record 46 of set 2 | Ixtapa\n",
      "Processing Record 47 of set 2 | Souillac\n",
      "Processing Record 48 of set 2 | Tiksi\n",
      "Processing Record 49 of set 2 | Sungai Raya\n",
      "Processing Record 50 of set 2 | Papara\n",
      "Processing Record 0 of set 3 | Leshukonskoye\n",
      "Processing Record 1 of set 3 | Bajil\n",
      "Processing Record 2 of set 3 | Hambantota\n",
      "Processing Record 3 of set 3 | Jutaí\n",
      "Processing Record 4 of set 3 | Springbok\n",
      "Processing Record 5 of set 3 | Ţahţā\n",
      "Processing Record 6 of set 3 | Hobyo\n",
      "Processing Record 7 of set 3 | Barra dos Coqueiros\n",
      "Processing Record 8 of set 3 | Bushehr\n",
      "Processing Record 9 of set 3 | Phalombe\n",
      "Processing Record 10 of set 3 | Caravelas\n",
      "Processing Record 11 of set 3 | São João da Barra\n",
      "Processing Record 12 of set 3 | Taldan\n",
      "Processing Record 13 of set 3 | Beringovskiy\n",
      "Processing Record 14 of set 3 | Sinnamary\n",
      "Processing Record 15 of set 3 | Fazilpur\n",
      "Processing Record 16 of set 3 | Ilo\n",
      "Processing Record 17 of set 3 | Evensk\n",
      "Processing Record 18 of set 3 | Aklavik\n",
      "city not found. Skipping ...\n",
      "Processing Record 19 of set 3 | Karratha\n",
      "Processing Record 20 of set 3 | Yar-Sale\n",
      "Processing Record 21 of set 3 | Khatanga\n",
      "city not found. Skipping ...\n",
      "Processing Record 22 of set 3 | Mackay\n",
      "Processing Record 23 of set 3 | Garden City\n",
      "Processing Record 24 of set 3 | Yulara\n",
      "Processing Record 25 of set 3 | Tuatapere\n",
      "Processing Record 26 of set 3 | Guerrero Negro\n",
      "Processing Record 27 of set 3 | North Platte\n",
      "city not found. Skipping ...\n",
      "Processing Record 28 of set 3 | Chokurdakh\n",
      "Processing Record 29 of set 3 | Xining\n",
      "Processing Record 30 of set 3 | Puerto del Rosario\n",
      "Processing Record 31 of set 3 | Husavik\n",
      "Processing Record 32 of set 3 | Koulamoutou\n",
      "Processing Record 33 of set 3 | Cam Ranh\n",
      "Processing Record 34 of set 3 | Paamiut\n",
      "Processing Record 35 of set 3 | Cabo San Lucas\n",
      "Processing Record 36 of set 3 | Smithers\n",
      "Processing Record 37 of set 3 | Saryozek\n",
      "Processing Record 38 of set 3 | Mount Gambier\n",
      "Processing Record 39 of set 3 | Cotonou\n",
      "Processing Record 40 of set 3 | Szczecinek\n",
      "Processing Record 41 of set 3 | Pangkalanbuun\n",
      "Processing Record 42 of set 3 | Jaca\n",
      "Processing Record 43 of set 3 | Wau\n",
      "Processing Record 44 of set 3 | Fairbanks\n",
      "Processing Record 45 of set 3 | Ponta do Sol\n",
      "Processing Record 46 of set 3 | Oranjemund\n",
      "Processing Record 47 of set 3 | Belaya Gora\n",
      "Processing Record 48 of set 3 | Kavieng\n",
      "Processing Record 49 of set 3 | La Santisima Trinidad\n",
      "city not found. Skipping ...\n",
      "Processing Record 50 of set 3 | Suntar\n",
      "Processing Record 0 of set 4 | Laas\n",
      "Processing Record 1 of set 4 | Kumul\n",
      "Processing Record 2 of set 4 | Olafsvik\n",
      "Processing Record 3 of set 4 | Kodarmā\n",
      "Processing Record 4 of set 4 | Cherskiy\n",
      "Processing Record 5 of set 4 | Port Blair\n",
      "Processing Record 6 of set 4 | Zaysan\n",
      "Processing Record 7 of set 4 | Barrow\n",
      "Processing Record 8 of set 4 | Hong Kong\n",
      "Processing Record 9 of set 4 | Bengkulu\n",
      "Processing Record 10 of set 4 | Mehamn\n",
      "Processing Record 11 of set 4 | Alofi\n",
      "city not found. Skipping ...\n",
      "Processing Record 12 of set 4 | Clyde River\n",
      "Processing Record 13 of set 4 | Henties Bay\n",
      "Processing Record 14 of set 4 | Kamariótissa\n",
      "Processing Record 15 of set 4 | Enshi\n",
      "Processing Record 16 of set 4 | Dunedin\n",
      "city not found. Skipping ...\n",
      "Processing Record 17 of set 4 | Mahébourg\n",
      "Processing Record 18 of set 4 | Roald\n",
      "Processing Record 19 of set 4 | Alexandria\n",
      "Processing Record 20 of set 4 | Quang Ngai\n",
      "Processing Record 21 of set 4 | Celestún\n",
      "Processing Record 22 of set 4 | Sumbe\n",
      "Processing Record 23 of set 4 | West Plains\n",
      "Processing Record 24 of set 4 | Arona\n",
      "Processing Record 25 of set 4 | Dingle\n",
      "city not found. Skipping ...\n",
      "Processing Record 26 of set 4 | Bahía Blanca\n",
      "Processing Record 27 of set 4 | Ilulissat\n",
      "Processing Record 28 of set 4 | Naze\n",
      "Processing Record 29 of set 4 | Sobolevo\n",
      "Processing Record 30 of set 4 | Ambon City\n",
      "Processing Record 31 of set 4 | Alyangula\n",
      "Processing Record 32 of set 4 | Adwa\n",
      "city not found. Skipping ...\n",
      "Processing Record 33 of set 4 | Champerico\n",
      "city not found. Skipping ...\n",
      "Processing Record 34 of set 4 | Pokhara\n"
     ]
    },
    {
     "name": "stdout",
     "output_type": "stream",
     "text": [
      "Processing Record 35 of set 4 | Lompoc\n",
      "Processing Record 36 of set 4 | Burley\n",
      "Processing Record 37 of set 4 | Pushkinskiye Gory\n",
      "Processing Record 38 of set 4 | Nanortalik\n",
      "Processing Record 39 of set 4 | Ossora\n",
      "Processing Record 40 of set 4 | Puerto Limón\n",
      "Processing Record 41 of set 4 | Yoichi\n",
      "Processing Record 42 of set 4 | Faanui\n",
      "Processing Record 43 of set 4 | Havre-St-Pierre\n",
      "Processing Record 44 of set 4 | Jardim\n",
      "Processing Record 45 of set 4 | Sitka\n",
      "Processing Record 46 of set 4 | Kazachinskoye\n",
      "Processing Record 47 of set 4 | Fortuna\n",
      "Processing Record 48 of set 4 | Dejen\n",
      "Processing Record 49 of set 4 | Saldanha\n",
      "Processing Record 50 of set 4 | Saint-Rémy-de-Provence\n",
      "Processing Record 0 of set 5 | Constitución\n",
      "city not found. Skipping ...\n",
      "Processing Record 1 of set 5 | Jumla\n",
      "Processing Record 2 of set 5 | Muhos\n",
      "city not found. Skipping ...\n",
      "Processing Record 3 of set 5 | San Patricio\n",
      "Processing Record 4 of set 5 | Kalcheva\n",
      "Processing Record 5 of set 5 | Saint-Paul\n",
      "Processing Record 6 of set 5 | Honiara\n",
      "city not found. Skipping ...\n",
      "Processing Record 7 of set 5 | San Andrés\n",
      "Processing Record 8 of set 5 | Juneau\n",
      "Processing Record 9 of set 5 | Mweka\n",
      "Processing Record 10 of set 5 | Ostrovnoy\n",
      "Processing Record 11 of set 5 | Carutapera\n",
      "city not found. Skipping ...\n",
      "Processing Record 12 of set 5 | Ancud\n",
      "Processing Record 13 of set 5 | Canary Islands\n",
      "Processing Record 14 of set 5 | Meulaboh\n",
      "Processing Record 15 of set 5 | Santa Rosa\n",
      "Processing Record 16 of set 5 | Saint-Philippe\n",
      "Processing Record 17 of set 5 | Santa Marta\n",
      "Processing Record 18 of set 5 | Ihosy\n",
      "city not found. Skipping ...\n",
      "Processing Record 19 of set 5 | Okhotsk\n",
      "city not found. Skipping ...\n",
      "city not found. Skipping ...\n",
      "city not found. Skipping ...\n",
      "city not found. Skipping ...\n",
      "city not found. Skipping ...\n",
      "city not found. Skipping ...\n",
      "city not found. Skipping ...\n",
      "city not found. Skipping ...\n",
      "city not found. Skipping ...\n",
      "Processing Record 20 of set 5 | Bonavista\n",
      "city not found. Skipping ...\n",
      "Processing Record 21 of set 5 | Nemuro\n",
      "Processing Record 22 of set 5 | Atasū\n",
      "Processing Record 23 of set 5 | Itapirapuã\n",
      "Processing Record 24 of set 5 | Vila Velha\n",
      "Processing Record 25 of set 5 | Nome\n",
      "Processing Record 26 of set 5 | Coahuayana Viejo\n",
      "Processing Record 27 of set 5 | Tombouctou\n",
      "Processing Record 28 of set 5 | Kibala\n",
      "Processing Record 29 of set 5 | Kholmogory\n",
      "Processing Record 30 of set 5 | Artyom\n",
      "Processing Record 31 of set 5 | Cedar City\n",
      "Processing Record 32 of set 5 | Parabel'\n",
      "Processing Record 33 of set 5 | Tasiilaq\n",
      "Processing Record 34 of set 5 | Ahvāz\n",
      "Processing Record 35 of set 5 | Pacific Grove\n",
      "Processing Record 36 of set 5 | Sibolga\n",
      "Processing Record 37 of set 5 | Margate\n",
      "Processing Record 38 of set 5 | Chu\n",
      "Processing Record 39 of set 5 | Butiama\n",
      "Processing Record 40 of set 5 | Kudat\n",
      "Processing Record 41 of set 5 | Kununurra\n",
      "Processing Record 42 of set 5 | Prince Rupert\n",
      "Processing Record 43 of set 5 | Kampot\n",
      "Processing Record 44 of set 5 | Kahului\n",
      "Processing Record 45 of set 5 | King City\n",
      "Processing Record 46 of set 5 | Chancay\n",
      "Processing Record 47 of set 5 | Nyurba\n",
      "Processing Record 48 of set 5 | Egvekinot\n",
      "Processing Record 49 of set 5 | Ulladulla\n",
      "Processing Record 50 of set 5 | Ajdabiya\n",
      "Processing Record 0 of set 6 | Leningradskiy\n",
      "Processing Record 1 of set 6 | Bathsheba\n",
      "Processing Record 2 of set 6 | Colares\n",
      "Processing Record 3 of set 6 | Ormara\n",
      "Processing Record 4 of set 6 | Caniço\n",
      "Processing Record 5 of set 6 | Tambura\n",
      "Processing Record 6 of set 6 | Mayor Pablo Lagerenza\n",
      "Processing Record 7 of set 6 | Marabu\n",
      "Processing Record 8 of set 6 | Peniche\n",
      "Processing Record 9 of set 6 | Kamaishi\n",
      "Processing Record 10 of set 6 | Puerto Escondido\n",
      "Processing Record 11 of set 6 | Oyabe\n",
      "city not found. Skipping ...\n",
      "Processing Record 12 of set 6 | Atbasar\n",
      "city not found. Skipping ...\n",
      "Processing Record 13 of set 6 | Luancheng\n",
      "Processing Record 14 of set 6 | Roebourne\n",
      "Processing Record 15 of set 6 | East London\n",
      "city not found. Skipping ...\n",
      "Processing Record 16 of set 6 | Carlsbad\n",
      "Processing Record 17 of set 6 | Salta\n",
      "Processing Record 18 of set 6 | New Norfolk\n",
      "Processing Record 19 of set 6 | Bethel\n",
      "Processing Record 20 of set 6 | Port-Gentil\n",
      "Processing Record 21 of set 6 | Djibo\n",
      "Processing Record 22 of set 6 | Cururupu\n",
      "Processing Record 23 of set 6 | Chui\n",
      "Processing Record 24 of set 6 | Narsaq\n",
      "Processing Record 25 of set 6 | College\n",
      "Processing Record 26 of set 6 | Kimbe\n",
      "Processing Record 27 of set 6 | Tirumullaivāsal\n",
      "Processing Record 28 of set 6 | Touros\n",
      "Processing Record 29 of set 6 | Comodoro Rivadavia\n",
      "Processing Record 30 of set 6 | Port Keats\n",
      "Processing Record 31 of set 6 | Pimentel\n",
      "Processing Record 32 of set 6 | Brae\n",
      "Processing Record 33 of set 6 | Ketchikan\n",
      "Processing Record 34 of set 6 | Tigzirt\n",
      "Processing Record 35 of set 6 | Waiouru\n",
      "Processing Record 36 of set 6 | Okha\n",
      "Processing Record 37 of set 6 | Nha Trang\n",
      "Processing Record 38 of set 6 | Morón\n",
      "Processing Record 39 of set 6 | Saint-Joseph\n",
      "Processing Record 40 of set 6 | Kendari\n",
      "Processing Record 41 of set 6 | Najrān\n",
      "city not found. Skipping ...\n",
      "Processing Record 42 of set 6 | Sur\n",
      "Processing Record 43 of set 6 | Bandarbeyla\n",
      "Processing Record 44 of set 6 | Juradó\n",
      "Processing Record 45 of set 6 | Port Lincoln\n",
      "Processing Record 46 of set 6 | Vacha\n",
      "Processing Record 47 of set 6 | Enciso\n",
      "Processing Record 48 of set 6 | Maniitsoq\n",
      "Processing Record 49 of set 6 | Khasan\n",
      "Processing Record 50 of set 6 | Huilong\n",
      "city not found. Skipping ...\n",
      "city not found. Skipping ...\n",
      "Processing Record 0 of set 7 | Grand Gaube\n",
      "Processing Record 1 of set 7 | Domoni\n",
      "Processing Record 2 of set 7 | Sistranda\n",
      "city not found. Skipping ...\n",
      "Processing Record 3 of set 7 | Homer\n",
      "Processing Record 4 of set 7 | Soe\n",
      "Processing Record 5 of set 7 | Neiba\n",
      "Processing Record 6 of set 7 | Harper\n",
      "Processing Record 7 of set 7 | Vardø\n",
      "city not found. Skipping ...\n",
      "Processing Record 8 of set 7 | Colchester\n",
      "Processing Record 9 of set 7 | Walvis Bay\n",
      "Processing Record 10 of set 7 | Koungheul\n",
      "Processing Record 11 of set 7 | Pervomayskiy\n",
      "Processing Record 12 of set 7 | Tual\n",
      "Processing Record 13 of set 7 | Olovyannaya\n",
      "Processing Record 14 of set 7 | Chake Chake\n",
      "Processing Record 15 of set 7 | San Cristobal\n",
      "Processing Record 16 of set 7 | Gushikawa\n",
      "Processing Record 17 of set 7 | Payo\n",
      "city not found. Skipping ...\n",
      "Processing Record 18 of set 7 | Rocha\n",
      "Processing Record 19 of set 7 | Idrinskoye\n",
      "Processing Record 20 of set 7 | Kushmurun\n",
      "Processing Record 21 of set 7 | Ceres\n",
      "Processing Record 22 of set 7 | Chase\n",
      "Processing Record 23 of set 7 | Portland\n",
      "Processing Record 24 of set 7 | Linxia Chengguanzhen\n",
      "Processing Record 25 of set 7 | Visby\n",
      "Processing Record 26 of set 7 | Lagoa\n",
      "Processing Record 27 of set 7 | Greensboro\n",
      "Processing Record 28 of set 7 | Yakeshi\n",
      "Processing Record 29 of set 7 | Narganá\n",
      "Processing Record 30 of set 7 | Horki\n",
      "Processing Record 31 of set 7 | Benguela\n",
      "Processing Record 32 of set 7 | Liverpool\n",
      "Processing Record 33 of set 7 | Abū Zabad\n",
      "city not found. Skipping ...\n",
      "Processing Record 34 of set 7 | San Jerónimo\n",
      "Processing Record 35 of set 7 | Saint-Pierre\n",
      "Processing Record 36 of set 7 | Vólakas\n",
      "Processing Record 37 of set 7 | Sabang\n",
      "Processing Record 38 of set 7 | Newcastle\n",
      "Processing Record 39 of set 7 | Along\n",
      "Processing Record 40 of set 7 | Kuching\n",
      "Processing Record 41 of set 7 | Pobé\n",
      "Processing Record 42 of set 7 | Poprad\n",
      "Processing Record 43 of set 7 | Barra do Garças\n",
      "city not found. Skipping ...\n",
      "Processing Record 44 of set 7 | San Quintín\n",
      "city not found. Skipping ...\n",
      "Processing Record 45 of set 7 | Marawi\n",
      "city not found. Skipping ...\n",
      "Processing Record 46 of set 7 | Hasaki\n",
      "Processing Record 47 of set 7 | Igarka\n",
      "city not found. Skipping ...\n",
      "Processing Record 48 of set 7 | Thompson\n",
      "Processing Record 49 of set 7 | Grand-Santi\n",
      "Processing Record 50 of set 7 | Richards Bay\n",
      "Processing Record 0 of set 8 | Beloha\n",
      "Processing Record 1 of set 8 | Great Yarmouth\n",
      "Processing Record 2 of set 8 | Madison\n",
      "Processing Record 3 of set 8 | Russell\n",
      "Processing Record 4 of set 8 | Korsakov\n",
      "Processing Record 5 of set 8 | Butembo\n",
      "city not found. Skipping ...\n",
      "Processing Record 6 of set 8 | Coquimbo\n",
      "Processing Record 7 of set 8 | Iqaluit\n",
      "Processing Record 8 of set 8 | Kruisfontein\n",
      "city not found. Skipping ...\n"
     ]
    },
    {
     "name": "stdout",
     "output_type": "stream",
     "text": [
      "Processing Record 9 of set 8 | Porto-Novo\n",
      "Processing Record 10 of set 8 | Newcastleton\n",
      "Processing Record 11 of set 8 | Peace River\n",
      "city not found. Skipping ...\n",
      "Processing Record 12 of set 8 | San Borja\n",
      "Processing Record 13 of set 8 | Dakar\n",
      "Processing Record 14 of set 8 | Hamilton\n",
      "Processing Record 15 of set 8 | Zhuhai\n",
      "Processing Record 16 of set 8 | Vila Franca do Campo\n",
      "city not found. Skipping ...\n",
      "Processing Record 17 of set 8 | Nelson Bay\n",
      "Processing Record 18 of set 8 | Mürzzuschlag\n",
      "Processing Record 19 of set 8 | Shitanjing\n",
      "Processing Record 20 of set 8 | Oriximiná\n",
      "Processing Record 21 of set 8 | Bubaque\n",
      "Processing Record 22 of set 8 | Terenos\n",
      "Processing Record 23 of set 8 | Manokwari\n",
      "Processing Record 24 of set 8 | Provideniya\n",
      "Processing Record 25 of set 8 | Burns Lake\n",
      "Processing Record 26 of set 8 | Tautira\n",
      "Processing Record 27 of set 8 | Ouahigouya\n",
      "Processing Record 28 of set 8 | Sulina\n",
      "city not found. Skipping ...\n",
      "Processing Record 29 of set 8 | Ust'-Koksa\n",
      "Processing Record 30 of set 8 | Afrikanda\n",
      "Processing Record 31 of set 8 | Mitchell\n",
      "Processing Record 32 of set 8 | Progreso\n",
      "Processing Record 33 of set 8 | Coaticook\n",
      "Processing Record 34 of set 8 | Krupina\n",
      "Processing Record 35 of set 8 | Tikrit\n",
      "Processing Record 36 of set 8 | Sorong\n",
      "Processing Record 37 of set 8 | Amahai\n",
      "Processing Record 38 of set 8 | Morondava\n",
      "Processing Record 39 of set 8 | Varhaug\n",
      "Processing Record 40 of set 8 | Lakes Entrance\n",
      "Processing Record 41 of set 8 | Trélazé\n",
      "Processing Record 42 of set 8 | Bella Union\n",
      "Processing Record 43 of set 8 | Ferkessédougou\n",
      "Processing Record 44 of set 8 | Philadelphia\n",
      "Processing Record 45 of set 8 | Saint George\n",
      "Processing Record 46 of set 8 | Sète\n",
      "Processing Record 47 of set 8 | Itarema\n",
      "Processing Record 48 of set 8 | Boyolangu\n",
      "city not found. Skipping ...\n",
      "Processing Record 49 of set 8 | Pangody\n",
      "Processing Record 50 of set 8 | Sparks\n",
      "Processing Record 0 of set 9 | Flinders\n",
      "Processing Record 1 of set 9 | Bayan\n",
      "city not found. Skipping ...\n",
      "Processing Record 2 of set 9 | Ligayan\n",
      "Processing Record 3 of set 9 | Maamba\n",
      "Processing Record 4 of set 9 | Javānrūd\n",
      "Processing Record 5 of set 9 | Kavaratti\n",
      "Processing Record 6 of set 9 | Coyula\n",
      "Processing Record 7 of set 9 | Ürümqi\n",
      "Processing Record 8 of set 9 | Guangzhou\n",
      "Processing Record 9 of set 9 | Brownsville\n",
      "Processing Record 10 of set 9 | Omaruru\n",
      "Processing Record 11 of set 9 | Oktyabr'skoye\n",
      "Processing Record 12 of set 9 | Mogzon\n",
      "Processing Record 13 of set 9 | Portsmouth\n",
      "Processing Record 14 of set 9 | Coracora\n",
      "Processing Record 15 of set 9 | Kawalu\n",
      "Processing Record 16 of set 9 | Conceição do Araguaia\n",
      "Processing Record 17 of set 9 | Sambava\n",
      "Processing Record 18 of set 9 | Chuguyevka\n",
      "Processing Record 19 of set 9 | Carauari\n",
      "Processing Record 20 of set 9 | Seoul\n",
      "Processing Record 21 of set 9 | Linjiang\n",
      "Processing Record 22 of set 9 | Kowary\n",
      "Processing Record 23 of set 9 | Tazovsky\n",
      "Processing Record 24 of set 9 | Yangjiang\n",
      "Processing Record 25 of set 9 | Jiquipilas\n",
      "Processing Record 26 of set 9 | Sonqor\n",
      "Processing Record 27 of set 9 | Broome\n",
      "city not found. Skipping ...\n",
      "Processing Record 28 of set 9 | Bonfim\n",
      "Processing Record 29 of set 9 | Torrington\n",
      "Processing Record 30 of set 9 | Hualmay\n",
      "Processing Record 31 of set 9 | Matola\n",
      "Processing Record 32 of set 9 | Kaitong\n",
      "Processing Record 33 of set 9 | Mount Isa\n",
      "Processing Record 34 of set 9 | Preobrazheniye\n",
      "Processing Record 35 of set 9 | Abu Kamal\n",
      "Processing Record 36 of set 9 | Umluj\n",
      "Processing Record 37 of set 9 | Adrar\n",
      "city not found. Skipping ...\n",
      "Processing Record 38 of set 9 | Tigil'\n",
      "Processing Record 39 of set 9 | Amapá\n",
      "Processing Record 40 of set 9 | Nizhniy Kuranakh\n",
      "Processing Record 41 of set 9 | Kaiyuan\n",
      "Processing Record 42 of set 9 | Esso\n",
      "city not found. Skipping ...\n",
      "Processing Record 43 of set 9 | Taltal\n",
      "Processing Record 44 of set 9 | Klaksvík\n",
      "Processing Record 45 of set 9 | East Greenwich\n",
      "Processing Record 46 of set 9 | La Ronge\n",
      "Processing Record 47 of set 9 | Jinchang\n",
      "Processing Record 48 of set 9 | Whitehorse\n",
      "Processing Record 49 of set 9 | Puri\n",
      "Processing Record 50 of set 9 | Isla Vista\n",
      "Processing Record 0 of set 10 | Darhan\n",
      "Processing Record 1 of set 10 | Gravdal\n",
      "Processing Record 2 of set 10 | Gazojak\n",
      "Processing Record 3 of set 10 | Emerald\n",
      "Processing Record 4 of set 10 | Scottsbluff\n",
      "Processing Record 5 of set 10 | Mujiayingzi\n",
      "Processing Record 6 of set 10 | Lesozavodsk\n",
      "Processing Record 7 of set 10 | Patnāgarh\n",
      "Processing Record 8 of set 10 | Lere\n",
      "Processing Record 9 of set 10 | Östersund\n",
      "Processing Record 10 of set 10 | Bumba\n",
      "city not found. Skipping ...\n",
      "Processing Record 11 of set 10 | Mumbwa\n",
      "Processing Record 12 of set 10 | Salinas\n",
      "Processing Record 13 of set 10 | Pecos\n",
      "Processing Record 14 of set 10 | Yichun\n",
      "Processing Record 15 of set 10 | Haines Junction\n",
      "Processing Record 16 of set 10 | Shimoda\n",
      "Processing Record 17 of set 10 | Chifeng\n",
      "Processing Record 18 of set 10 | Redmond\n",
      "Processing Record 19 of set 10 | Cardonal\n",
      "Processing Record 20 of set 10 | Moerai\n",
      "Processing Record 21 of set 10 | Villars-sur-Glâne\n",
      "Processing Record 22 of set 10 | Srednekolymsk\n",
      "Processing Record 23 of set 10 | Ilhabela\n",
      "Processing Record 24 of set 10 | Sakakah\n",
      "city not found. Skipping ...\n",
      "Processing Record 25 of set 10 | Wārāseonī\n",
      "Processing Record 26 of set 10 | Weligama\n",
      "Processing Record 27 of set 10 | Praia da Vitória\n",
      "Processing Record 28 of set 10 | Codrington\n",
      "Processing Record 29 of set 10 | Manyana\n",
      "Processing Record 30 of set 10 | Omboué\n",
      "Processing Record 31 of set 10 | Ust-Kuyga\n",
      "Processing Record 32 of set 10 | Auka\n",
      "Processing Record 33 of set 10 | Hohhot\n",
      "Processing Record 34 of set 10 | Camaná\n",
      "Processing Record 35 of set 10 | Yinchuan\n",
      "Processing Record 36 of set 10 | Ondangwa\n",
      "Processing Record 37 of set 10 | Freeport\n",
      "Processing Record 38 of set 10 | Camabatela\n",
      "Processing Record 39 of set 10 | Sterling\n",
      "Processing Record 40 of set 10 | Atambua\n",
      "Processing Record 41 of set 10 | Khartoum\n",
      "Processing Record 42 of set 10 | Constantine\n",
      "Processing Record 43 of set 10 | Auki\n",
      "Processing Record 44 of set 10 | Morehead\n",
      "Processing Record 45 of set 10 | Mildura\n",
      "city not found. Skipping ...\n",
      "Processing Record 46 of set 10 | Ludvika\n",
      "city not found. Skipping ...\n",
      "Processing Record 47 of set 10 | Birao\n",
      "Processing Record 48 of set 10 | Madang\n",
      "Processing Record 49 of set 10 | Veselynove\n",
      "Processing Record 50 of set 10 | Yeppoon\n",
      "Processing Record 0 of set 11 | Kaitangata\n",
      "Processing Record 1 of set 11 | Tikaitnagar\n",
      "Processing Record 2 of set 11 | Lata\n",
      "Processing Record 3 of set 11 | Bol'shoye Selo\n",
      "Processing Record 4 of set 11 | Huntington\n",
      "Processing Record 5 of set 11 | Sandy Point\n",
      "Processing Record 6 of set 11 | Waingapu\n",
      "Processing Record 7 of set 11 | Sokoni\n",
      "Processing Record 8 of set 11 | Oromocto\n",
      "Processing Record 9 of set 11 | Deputatsky\n",
      "Processing Record 10 of set 11 | Zaqatala\n",
      "Processing Record 11 of set 11 | Tiarei\n",
      "Processing Record 12 of set 11 | Grado\n",
      "Processing Record 13 of set 11 | Neuquén\n",
      "Processing Record 14 of set 11 | Sørland\n",
      "Processing Record 15 of set 11 | Syumsi\n",
      "Processing Record 16 of set 11 | Yerbogachën\n",
      "Processing Record 17 of set 11 | Lavrentiya\n",
      "city not found. Skipping ...\n",
      "Processing Record 18 of set 11 | Sarangani\n",
      "city not found. Skipping ...\n",
      "Processing Record 19 of set 11 | Copiapó\n",
      "Processing Record 20 of set 11 | Bački Petrovac\n",
      "Processing Record 21 of set 11 | Boyuibe\n",
      "Processing Record 22 of set 11 | Bindura\n",
      "Processing Record 23 of set 11 | Beaverlodge\n",
      "Processing Record 24 of set 11 | Changde\n",
      "Processing Record 25 of set 11 | Vao\n",
      "Processing Record 26 of set 11 | Chipinge\n",
      "Processing Record 27 of set 11 | Hirara\n",
      "Processing Record 28 of set 11 | Bowen\n",
      "Processing Record 29 of set 11 | Siirt\n",
      "Processing Record 30 of set 11 | Cayenne\n",
      "Processing Record 31 of set 11 | Olinda\n",
      "Processing Record 32 of set 11 | Fare\n",
      "Processing Record 33 of set 11 | Lanzhou\n",
      "Processing Record 34 of set 11 | Maibong\n",
      "Processing Record 35 of set 11 | Bushenyi\n",
      "Processing Record 36 of set 11 | Barranca\n",
      "Processing Record 37 of set 11 | Labuhan\n",
      "Processing Record 38 of set 11 | Río Gallegos\n",
      "Processing Record 39 of set 11 | Eyl\n",
      "Processing Record 40 of set 11 | Laguna\n",
      "Processing Record 41 of set 11 | Atar\n",
      "Processing Record 42 of set 11 | Salamanca\n",
      "Processing Record 43 of set 11 | Gadung\n"
     ]
    },
    {
     "name": "stdout",
     "output_type": "stream",
     "text": [
      "city not found. Skipping ...\n",
      "Processing Record 44 of set 11 | Ondjiva\n",
      "Processing Record 45 of set 11 | Jalu\n",
      "Processing Record 46 of set 11 | Goa\n",
      "Processing Record 47 of set 11 | Kākināda\n",
      "Processing Record 48 of set 11 | Khani\n",
      "Processing Record 49 of set 11 | Gävle\n",
      "Processing Record 50 of set 11 | Oksovskiy\n",
      "Processing Record 0 of set 12 | Biak\n",
      "Processing Record 1 of set 12 | Imeni Zhelyabova\n",
      "Processing Record 2 of set 12 | Tomohon\n",
      "Processing Record 3 of set 12 | Parrita\n",
      "Processing Record 4 of set 12 | Ryōtsu-minato\n",
      "Processing Record 5 of set 12 | Grasse\n",
      "Processing Record 6 of set 12 | Lensk\n",
      "Processing Record 7 of set 12 | Ayr\n",
      "Processing Record 8 of set 12 | Beisfjord\n",
      "Processing Record 9 of set 12 | Machalí\n",
      "Processing Record 10 of set 12 | Kaabong\n",
      "Processing Record 11 of set 12 | Daru\n",
      "Processing Record 12 of set 12 | Vangaindrano\n",
      "Processing Record 13 of set 12 | Takoradze\n",
      "Processing Record 14 of set 12 | Jasper\n",
      "Processing Record 15 of set 12 | Dhārchula\n",
      "Processing Record 16 of set 12 | Maryborough\n",
      "-------------------------\n",
      "Data Retrieval Complete\n",
      "-------------------------\n"
     ]
    }
   ],
   "source": [
    "# set up empty lists for needed characters\n",
    "city_id = []\n",
    "city_name = []\n",
    "cloudiness = []\n",
    "country = []\n",
    "date = []\n",
    "humidity = []\n",
    "lat = []\n",
    "lng = []\n",
    "max_temp = []\n",
    "wind_speed = []\n",
    "processingRecord = 0\n",
    "setNumber = 1\n",
    "\n",
    "#start processing record at 1\n",
    "processingRecord = 1\n",
    "setNumber = 1\n",
    "\n",
    "print(\"Beginning Data Retrieval\")\n",
    "print(\"-------------------------\")\n",
    "\n",
    "# loop through each city\n",
    "for city in cities:\n",
    "    \n",
    "#Exception handling\n",
    "    try:\n",
    "        response = requests.get(queryURL + city).json()\n",
    "        city_id.append(response['id'])\n",
    "        city_name.append(response['name']) \n",
    "        cloudiness.append(response['clouds']['all'])\n",
    "        country.append(response['sys']['country'])\n",
    "        date.append(response['dt'])\n",
    "        humidity.append(response['main']['humidity']) \n",
    "        lat.append(response['coord']['lat'])\n",
    "        lng.append(response['coord']['lon'])\n",
    "        max_temp.append(response['main']['temp_max']) \n",
    "        wind_speed.append(response['wind']['speed'])\n",
    "        cityResponse = response['name']   \n",
    "        if processingRecord > 49:\n",
    "            processingRecord = 0\n",
    "            setNumber +=1\n",
    "    \n",
    "        else:\n",
    "            processingRecord +=1\n",
    "\n",
    "        print(f\"Processing Record {processingRecord} of set {setNumber} | {cityResponse}\")\n",
    "        \n",
    "    except:\n",
    "        print(\"city not found. Skipping ...\")\n",
    "    continue\n",
    "    \n",
    "print(\"-------------------------\")\n",
    "print(\"Data Retrieval Complete\")\n",
    "print(\"-------------------------\")"
   ]
  },
  {
   "cell_type": "markdown",
   "metadata": {},
   "source": [
    "### Convert Raw Data to DataFrame\n",
    "* Export the city data into a .csv.\n",
    "* Display the DataFrame"
   ]
  },
  {
   "cell_type": "code",
   "execution_count": 5,
   "metadata": {},
   "outputs": [
    {
     "data": {
      "text/html": [
       "<div>\n",
       "<style scoped>\n",
       "    .dataframe tbody tr th:only-of-type {\n",
       "        vertical-align: middle;\n",
       "    }\n",
       "\n",
       "    .dataframe tbody tr th {\n",
       "        vertical-align: top;\n",
       "    }\n",
       "\n",
       "    .dataframe thead th {\n",
       "        text-align: right;\n",
       "    }\n",
       "</style>\n",
       "<table border=\"1\" class=\"dataframe\">\n",
       "  <thead>\n",
       "    <tr style=\"text-align: right;\">\n",
       "      <th></th>\n",
       "      <th>City ID</th>\n",
       "      <th>City Name</th>\n",
       "      <th>Cloudiness</th>\n",
       "      <th>Country</th>\n",
       "      <th>Date</th>\n",
       "      <th>Humidity</th>\n",
       "      <th>Latitude</th>\n",
       "      <th>Longitude</th>\n",
       "      <th>Max Temperature</th>\n",
       "      <th>Wind Speed</th>\n",
       "    </tr>\n",
       "  </thead>\n",
       "  <tbody>\n",
       "    <tr>\n",
       "      <th>0</th>\n",
       "      <td>2163355</td>\n",
       "      <td>Hobart</td>\n",
       "      <td>54</td>\n",
       "      <td>AU</td>\n",
       "      <td>1658862971</td>\n",
       "      <td>95</td>\n",
       "      <td>-42.8794</td>\n",
       "      <td>147.3294</td>\n",
       "      <td>44.46</td>\n",
       "      <td>3.44</td>\n",
       "    </tr>\n",
       "    <tr>\n",
       "      <th>1</th>\n",
       "      <td>780687</td>\n",
       "      <td>Berlevåg</td>\n",
       "      <td>100</td>\n",
       "      <td>NO</td>\n",
       "      <td>1658862836</td>\n",
       "      <td>88</td>\n",
       "      <td>70.8578</td>\n",
       "      <td>29.0864</td>\n",
       "      <td>62.60</td>\n",
       "      <td>2.30</td>\n",
       "    </tr>\n",
       "    <tr>\n",
       "      <th>2</th>\n",
       "      <td>4032243</td>\n",
       "      <td>Vaini</td>\n",
       "      <td>20</td>\n",
       "      <td>TO</td>\n",
       "      <td>1658863132</td>\n",
       "      <td>88</td>\n",
       "      <td>-21.2000</td>\n",
       "      <td>-175.2000</td>\n",
       "      <td>71.76</td>\n",
       "      <td>5.75</td>\n",
       "    </tr>\n",
       "    <tr>\n",
       "      <th>3</th>\n",
       "      <td>110690</td>\n",
       "      <td>Faya</td>\n",
       "      <td>100</td>\n",
       "      <td>SA</td>\n",
       "      <td>1658862891</td>\n",
       "      <td>57</td>\n",
       "      <td>18.3851</td>\n",
       "      <td>42.4509</td>\n",
       "      <td>69.91</td>\n",
       "      <td>4.52</td>\n",
       "    </tr>\n",
       "    <tr>\n",
       "      <th>4</th>\n",
       "      <td>3833367</td>\n",
       "      <td>Ushuaia</td>\n",
       "      <td>20</td>\n",
       "      <td>AR</td>\n",
       "      <td>1658863131</td>\n",
       "      <td>60</td>\n",
       "      <td>-54.8000</td>\n",
       "      <td>-68.3000</td>\n",
       "      <td>38.82</td>\n",
       "      <td>9.22</td>\n",
       "    </tr>\n",
       "  </tbody>\n",
       "</table>\n",
       "</div>"
      ],
      "text/plain": [
       "   City ID City Name  Cloudiness Country        Date  Humidity  Latitude  \\\n",
       "0  2163355    Hobart          54      AU  1658862971        95  -42.8794   \n",
       "1   780687  Berlevåg         100      NO  1658862836        88   70.8578   \n",
       "2  4032243     Vaini          20      TO  1658863132        88  -21.2000   \n",
       "3   110690      Faya         100      SA  1658862891        57   18.3851   \n",
       "4  3833367   Ushuaia          20      AR  1658863131        60  -54.8000   \n",
       "\n",
       "   Longitude  Max Temperature  Wind Speed  \n",
       "0   147.3294            44.46        3.44  \n",
       "1    29.0864            62.60        2.30  \n",
       "2  -175.2000            71.76        5.75  \n",
       "3    42.4509            69.91        4.52  \n",
       "4   -68.3000            38.82        9.22  "
      ]
     },
     "execution_count": 5,
     "metadata": {},
     "output_type": "execute_result"
    }
   ],
   "source": [
    "weatherDict = {\n",
    "    \"City ID\":city_id, \n",
    "    \"City Name\":city_name, \n",
    "    \"Cloudiness\":cloudiness,\n",
    "    \"Country\":country, \n",
    "    \"Date\":date, \n",
    "    \"Humidity\":humidity,\n",
    "    \"Latitude\":lat,\n",
    "    \"Longitude\":lng, \n",
    "    \"Max Temperature\":max_temp,\n",
    "    \"Wind Speed\":wind_speed\n",
    "}\n",
    "weatherDict = pd.DataFrame(weatherDict)\n",
    "weatherDict.head()"
   ]
  },
  {
   "cell_type": "code",
   "execution_count": 6,
   "metadata": {},
   "outputs": [
    {
     "data": {
      "text/plain": [
       "City ID            576\n",
       "City Name          576\n",
       "Cloudiness         576\n",
       "Country            576\n",
       "Date               576\n",
       "Humidity           576\n",
       "Latitude           576\n",
       "Longitude          576\n",
       "Max Temperature    576\n",
       "Wind Speed         576\n",
       "dtype: int64"
      ]
     },
     "execution_count": 6,
     "metadata": {},
     "output_type": "execute_result"
    }
   ],
   "source": [
    "weatherDict.count()"
   ]
  },
  {
   "cell_type": "code",
   "execution_count": 7,
   "metadata": {},
   "outputs": [],
   "source": [
    "weatherDict.to_csv(\"output_data/weatherDict.csv\")"
   ]
  },
  {
   "cell_type": "markdown",
   "metadata": {},
   "source": [
    "## Inspect the data and remove the cities where the humidity > 100%.\n",
    "----\n",
    "Skip this step if there are no cities that have humidity > 100%. "
   ]
  },
  {
   "cell_type": "code",
   "execution_count": 8,
   "metadata": {},
   "outputs": [
    {
     "data": {
      "text/html": [
       "<div>\n",
       "<style scoped>\n",
       "    .dataframe tbody tr th:only-of-type {\n",
       "        vertical-align: middle;\n",
       "    }\n",
       "\n",
       "    .dataframe tbody tr th {\n",
       "        vertical-align: top;\n",
       "    }\n",
       "\n",
       "    .dataframe thead th {\n",
       "        text-align: right;\n",
       "    }\n",
       "</style>\n",
       "<table border=\"1\" class=\"dataframe\">\n",
       "  <thead>\n",
       "    <tr style=\"text-align: right;\">\n",
       "      <th></th>\n",
       "      <th>City ID</th>\n",
       "      <th>Cloudiness</th>\n",
       "      <th>Date</th>\n",
       "      <th>Humidity</th>\n",
       "      <th>Latitude</th>\n",
       "      <th>Longitude</th>\n",
       "      <th>Max Temperature</th>\n",
       "      <th>Wind Speed</th>\n",
       "    </tr>\n",
       "  </thead>\n",
       "  <tbody>\n",
       "    <tr>\n",
       "      <th>count</th>\n",
       "      <td>5.710000e+02</td>\n",
       "      <td>571.000000</td>\n",
       "      <td>5.710000e+02</td>\n",
       "      <td>571.000000</td>\n",
       "      <td>571.000000</td>\n",
       "      <td>571.000000</td>\n",
       "      <td>571.000000</td>\n",
       "      <td>571.000000</td>\n",
       "    </tr>\n",
       "    <tr>\n",
       "      <th>mean</th>\n",
       "      <td>2.658090e+06</td>\n",
       "      <td>53.915937</td>\n",
       "      <td>1.658863e+09</td>\n",
       "      <td>70.311734</td>\n",
       "      <td>20.057916</td>\n",
       "      <td>21.308689</td>\n",
       "      <td>70.497443</td>\n",
       "      <td>7.965464</td>\n",
       "    </tr>\n",
       "    <tr>\n",
       "      <th>std</th>\n",
       "      <td>1.609369e+06</td>\n",
       "      <td>40.965796</td>\n",
       "      <td>1.530250e+02</td>\n",
       "      <td>21.841555</td>\n",
       "      <td>32.991736</td>\n",
       "      <td>90.521047</td>\n",
       "      <td>14.064150</td>\n",
       "      <td>5.452758</td>\n",
       "    </tr>\n",
       "    <tr>\n",
       "      <th>min</th>\n",
       "      <td>5.700000e+04</td>\n",
       "      <td>0.000000</td>\n",
       "      <td>1.658863e+09</td>\n",
       "      <td>8.000000</td>\n",
       "      <td>-54.800000</td>\n",
       "      <td>-179.166700</td>\n",
       "      <td>33.310000</td>\n",
       "      <td>0.000000</td>\n",
       "    </tr>\n",
       "    <tr>\n",
       "      <th>25%</th>\n",
       "      <td>1.549127e+06</td>\n",
       "      <td>7.000000</td>\n",
       "      <td>1.658863e+09</td>\n",
       "      <td>59.000000</td>\n",
       "      <td>-7.695300</td>\n",
       "      <td>-56.856200</td>\n",
       "      <td>61.510000</td>\n",
       "      <td>3.815000</td>\n",
       "    </tr>\n",
       "    <tr>\n",
       "      <th>50%</th>\n",
       "      <td>2.167426e+06</td>\n",
       "      <td>60.000000</td>\n",
       "      <td>1.658863e+09</td>\n",
       "      <td>77.000000</td>\n",
       "      <td>24.800000</td>\n",
       "      <td>25.993100</td>\n",
       "      <td>72.270000</td>\n",
       "      <td>6.820000</td>\n",
       "    </tr>\n",
       "    <tr>\n",
       "      <th>75%</th>\n",
       "      <td>3.531470e+06</td>\n",
       "      <td>100.000000</td>\n",
       "      <td>1.658863e+09</td>\n",
       "      <td>87.000000</td>\n",
       "      <td>46.656700</td>\n",
       "      <td>106.308500</td>\n",
       "      <td>79.985000</td>\n",
       "      <td>10.895000</td>\n",
       "    </tr>\n",
       "    <tr>\n",
       "      <th>max</th>\n",
       "      <td>8.079926e+06</td>\n",
       "      <td>100.000000</td>\n",
       "      <td>1.658863e+09</td>\n",
       "      <td>99.000000</td>\n",
       "      <td>78.218600</td>\n",
       "      <td>179.316700</td>\n",
       "      <td>105.930000</td>\n",
       "      <td>30.270000</td>\n",
       "    </tr>\n",
       "  </tbody>\n",
       "</table>\n",
       "</div>"
      ],
      "text/plain": [
       "            City ID  Cloudiness          Date    Humidity    Latitude  \\\n",
       "count  5.710000e+02  571.000000  5.710000e+02  571.000000  571.000000   \n",
       "mean   2.658090e+06   53.915937  1.658863e+09   70.311734   20.057916   \n",
       "std    1.609369e+06   40.965796  1.530250e+02   21.841555   32.991736   \n",
       "min    5.700000e+04    0.000000  1.658863e+09    8.000000  -54.800000   \n",
       "25%    1.549127e+06    7.000000  1.658863e+09   59.000000   -7.695300   \n",
       "50%    2.167426e+06   60.000000  1.658863e+09   77.000000   24.800000   \n",
       "75%    3.531470e+06  100.000000  1.658863e+09   87.000000   46.656700   \n",
       "max    8.079926e+06  100.000000  1.658863e+09   99.000000   78.218600   \n",
       "\n",
       "        Longitude  Max Temperature  Wind Speed  \n",
       "count  571.000000       571.000000  571.000000  \n",
       "mean    21.308689        70.497443    7.965464  \n",
       "std     90.521047        14.064150    5.452758  \n",
       "min   -179.166700        33.310000    0.000000  \n",
       "25%    -56.856200        61.510000    3.815000  \n",
       "50%     25.993100        72.270000    6.820000  \n",
       "75%    106.308500        79.985000   10.895000  \n",
       "max    179.316700       105.930000   30.270000  "
      ]
     },
     "execution_count": 8,
     "metadata": {},
     "output_type": "execute_result"
    }
   ],
   "source": [
    "maxHumid = weatherDict.loc[weatherDict['Humidity'] != 100]\n",
    "maxHumid.describe()"
   ]
  },
  {
   "cell_type": "code",
   "execution_count": 9,
   "metadata": {},
   "outputs": [
    {
     "data": {
      "text/plain": [
       "City ID            571\n",
       "City Name          571\n",
       "Cloudiness         571\n",
       "Country            571\n",
       "Date               571\n",
       "Humidity           571\n",
       "Latitude           571\n",
       "Longitude          571\n",
       "Max Temperature    571\n",
       "Wind Speed         571\n",
       "dtype: int64"
      ]
     },
     "execution_count": 9,
     "metadata": {},
     "output_type": "execute_result"
    }
   ],
   "source": [
    "#  Get the indices of cities that have humidity over 100%.\n",
    "maxHumid.count()"
   ]
  },
  {
   "cell_type": "code",
   "execution_count": 10,
   "metadata": {},
   "outputs": [],
   "source": [
    "# Make a new DataFrame equal to the city data to drop all humidity outliers by index.\n",
    "# Passing \"inplace=False\" will make a copy of the city_data DataFrame, which we call \"clean_city_data\".\n"
   ]
  },
  {
   "cell_type": "code",
   "execution_count": 11,
   "metadata": {},
   "outputs": [
    {
     "data": {
      "text/html": [
       "<div>\n",
       "<style scoped>\n",
       "    .dataframe tbody tr th:only-of-type {\n",
       "        vertical-align: middle;\n",
       "    }\n",
       "\n",
       "    .dataframe tbody tr th {\n",
       "        vertical-align: top;\n",
       "    }\n",
       "\n",
       "    .dataframe thead th {\n",
       "        text-align: right;\n",
       "    }\n",
       "</style>\n",
       "<table border=\"1\" class=\"dataframe\">\n",
       "  <thead>\n",
       "    <tr style=\"text-align: right;\">\n",
       "      <th></th>\n",
       "      <th>City ID</th>\n",
       "      <th>City Name</th>\n",
       "      <th>Cloudiness</th>\n",
       "      <th>Country</th>\n",
       "      <th>Date</th>\n",
       "      <th>Humidity</th>\n",
       "      <th>Latitude</th>\n",
       "      <th>Longitude</th>\n",
       "      <th>Max Temperature</th>\n",
       "      <th>Wind Speed</th>\n",
       "    </tr>\n",
       "  </thead>\n",
       "  <tbody>\n",
       "    <tr>\n",
       "      <th>0</th>\n",
       "      <td>2163355</td>\n",
       "      <td>Hobart</td>\n",
       "      <td>54</td>\n",
       "      <td>AU</td>\n",
       "      <td>1658862971</td>\n",
       "      <td>95</td>\n",
       "      <td>-42.8794</td>\n",
       "      <td>147.3294</td>\n",
       "      <td>44.46</td>\n",
       "      <td>3.44</td>\n",
       "    </tr>\n",
       "    <tr>\n",
       "      <th>1</th>\n",
       "      <td>780687</td>\n",
       "      <td>Berlevåg</td>\n",
       "      <td>100</td>\n",
       "      <td>NO</td>\n",
       "      <td>1658862836</td>\n",
       "      <td>88</td>\n",
       "      <td>70.8578</td>\n",
       "      <td>29.0864</td>\n",
       "      <td>62.60</td>\n",
       "      <td>2.30</td>\n",
       "    </tr>\n",
       "    <tr>\n",
       "      <th>2</th>\n",
       "      <td>4032243</td>\n",
       "      <td>Vaini</td>\n",
       "      <td>20</td>\n",
       "      <td>TO</td>\n",
       "      <td>1658863132</td>\n",
       "      <td>88</td>\n",
       "      <td>-21.2000</td>\n",
       "      <td>-175.2000</td>\n",
       "      <td>71.76</td>\n",
       "      <td>5.75</td>\n",
       "    </tr>\n",
       "    <tr>\n",
       "      <th>3</th>\n",
       "      <td>110690</td>\n",
       "      <td>Faya</td>\n",
       "      <td>100</td>\n",
       "      <td>SA</td>\n",
       "      <td>1658862891</td>\n",
       "      <td>57</td>\n",
       "      <td>18.3851</td>\n",
       "      <td>42.4509</td>\n",
       "      <td>69.91</td>\n",
       "      <td>4.52</td>\n",
       "    </tr>\n",
       "    <tr>\n",
       "      <th>4</th>\n",
       "      <td>3833367</td>\n",
       "      <td>Ushuaia</td>\n",
       "      <td>20</td>\n",
       "      <td>AR</td>\n",
       "      <td>1658863131</td>\n",
       "      <td>60</td>\n",
       "      <td>-54.8000</td>\n",
       "      <td>-68.3000</td>\n",
       "      <td>38.82</td>\n",
       "      <td>9.22</td>\n",
       "    </tr>\n",
       "  </tbody>\n",
       "</table>\n",
       "</div>"
      ],
      "text/plain": [
       "   City ID City Name  Cloudiness Country        Date  Humidity  Latitude  \\\n",
       "0  2163355    Hobart          54      AU  1658862971        95  -42.8794   \n",
       "1   780687  Berlevåg         100      NO  1658862836        88   70.8578   \n",
       "2  4032243     Vaini          20      TO  1658863132        88  -21.2000   \n",
       "3   110690      Faya         100      SA  1658862891        57   18.3851   \n",
       "4  3833367   Ushuaia          20      AR  1658863131        60  -54.8000   \n",
       "\n",
       "   Longitude  Max Temperature  Wind Speed  \n",
       "0   147.3294            44.46        3.44  \n",
       "1    29.0864            62.60        2.30  \n",
       "2  -175.2000            71.76        5.75  \n",
       "3    42.4509            69.91        4.52  \n",
       "4   -68.3000            38.82        9.22  "
      ]
     },
     "execution_count": 11,
     "metadata": {},
     "output_type": "execute_result"
    }
   ],
   "source": [
    "maxHumid.head()"
   ]
  },
  {
   "cell_type": "markdown",
   "metadata": {},
   "source": [
    "## Plotting the Data\n",
    "* Use proper labeling of the plots using plot titles (including date of analysis) and axes labels.\n",
    "* Save the plotted figures as .pngs."
   ]
  },
  {
   "cell_type": "markdown",
   "metadata": {},
   "source": [
    "## Latitude vs. Temperature Plot"
   ]
  },
  {
   "cell_type": "code",
   "execution_count": 13,
   "metadata": {
    "scrolled": true
   },
   "outputs": [
    {
     "data": {
      "image/png": "[encoded data removed]",
      "text/plain": [
       "<Figure size 432x288 with 1 Axes>"
      ]
     },
     "metadata": {
      "needs_background": "light"
     },
     "output_type": "display_data"
    }
   ],
   "source": [
    "plt.scatter(maxHumid[\"Latitude\"], maxHumid[\"Max Temperature\"])\n",
    "plt.title(\"City Latitude vs Max Temperature (7/21/22)\")\n",
    "plt.xlabel(\"Latitude\")\n",
    "plt.ylabel(\"Max Temperature (F)\")\n",
    "plt.grid()\n",
    "plt.savefig(\"Images/temperature.png\")\n",
    "plt.show()"
   ]
  },
  {
   "cell_type": "markdown",
   "metadata": {},
   "source": [
    "## Latitude vs. Humidity Plot"
   ]
  },
  {
   "cell_type": "code",
   "execution_count": 14,
   "metadata": {},
   "outputs": [
    {
     "data": {
      "image/png": "[encoded data removed]",
      "text/plain": [
       "<Figure size 432x288 with 1 Axes>"
      ]
     },
     "metadata": {
      "needs_background": "light"
     },
     "output_type": "display_data"
    }
   ],
   "source": [
    "plt.scatter(maxHumid[\"Latitude\"], maxHumid[\"Humidity\"])\n",
    "plt.title(\"City Latitude vs Humidity (7/21/22)\")\n",
    "plt.xlabel(\"Latitude\")\n",
    "plt.ylabel(\"Humidity (%)\")\n",
    "plt.grid()\n",
    "plt.savefig(\"Images/humidity.png\")\n",
    "plt.show()"
   ]
  },
  {
   "cell_type": "markdown",
   "metadata": {},
   "source": [
    "## Latitude vs. Cloudiness Plot"
   ]
  },
  {
   "cell_type": "code",
   "execution_count": 15,
   "metadata": {},
   "outputs": [
    {
     "data": {
      "image/png": "[encoded data removed]",
      "text/plain": [
       "<Figure size 432x288 with 1 Axes>"
      ]
     },
     "metadata": {
      "needs_background": "light"
     },
     "output_type": "display_data"
    }
   ],
   "source": [
    "plt.scatter(maxHumid[\"Latitude\"], maxHumid[\"Cloudiness\"])\n",
    "plt.title(\"City Latitude vs Cloudiness (7/21/22)\")\n",
    "plt.xlabel(\"Latitude\")\n",
    "plt.ylabel(\"Cloudiness (%)\")\n",
    "plt.grid()\n",
    "plt.savefig(\"Images/cloudiness.png\")\n",
    "plt.show()"
   ]
  },
  {
   "cell_type": "markdown",
   "metadata": {},
   "source": [
    "## Latitude vs. Wind Speed Plot"
   ]
  },
  {
   "cell_type": "code",
   "execution_count": 16,
   "metadata": {},
   "outputs": [
    {
     "data": {
      "image/png": "[encoded data removed]",
      "text/plain": [
       "<Figure size 432x288 with 1 Axes>"
      ]
     },
     "metadata": {
      "needs_background": "light"
     },
     "output_type": "display_data"
    }
   ],
   "source": [
    "plt.scatter(maxHumid[\"Latitude\"], maxHumid[\"Wind Speed\"])\n",
    "plt.title(\"City Latitude vs Wind Speed (7/21/22)\")\n",
    "plt.xlabel(\"Latitude\")\n",
    "plt.ylabel(\"Wind Speed (mph)\")\n",
    "plt.ylim(0,45)\n",
    "plt.grid()\n",
    "plt.savefig(\"Images/wind_speed.png\")\n",
    "plt.show()"
   ]
  },
  {
   "cell_type": "markdown",
   "metadata": {},
   "source": [
    "## Linear Regression"
   ]
  },
  {
   "cell_type": "code",
   "execution_count": 17,
   "metadata": {},
   "outputs": [],
   "source": [
    "north = maxHumid['Latitude'] >= 0\n",
    "northernHem = maxHumid[north]\n",
    "southernHem = maxHumid[~north]"
   ]
  },
  {
   "cell_type": "markdown",
   "metadata": {},
   "source": [
    "####  Northern Hemisphere - Max Temp vs. Latitude Linear Regression"
   ]
  },
  {
   "cell_type": "code",
   "execution_count": 40,
   "metadata": {},
   "outputs": [
    {
     "name": "stdout",
     "output_type": "stream",
     "text": [
      "The r-value is 0.42387698895816944\n"
     ]
    },
    {
     "data": {
      "image/png": "[encoded data removed]",
      "text/plain": [
       "<Figure size 432x288 with 1 Axes>"
      ]
     },
     "metadata": {
      "needs_background": "light"
     },
     "output_type": "display_data"
    }
   ],
   "source": [
    "x_values = northernHem['Latitude']\n",
    "y_values = northernHem['Max Temperature']\n",
    "(slope, intercept, rvalue, pvalue, stderr) = linregress(x_values, y_values)\n",
    "regress_values = x_values * slope + intercept\n",
    "line_eq = \"y = \" + str(round(slope,2)) + \"x + \" + str(round(intercept,2))\n",
    "plt.scatter(x_values,y_values)\n",
    "plt.plot(x_values,regress_values,\"r-\")\n",
    "plt.xlabel('Latitude')\n",
    "plt.ylabel('Max Temp')\n",
    "print(f\"The r-value is {rvalue**2}\")\n",
    "plt.annotate(line_eq,(5,40),fontsize=15,color=\"red\")\n",
    "plt.savefig(\"Trendlines/north_temp_trend.png\")\n",
    "plt.show()\n"
   ]
  },
  {
   "cell_type": "markdown",
   "metadata": {},
   "source": [
    "There is a negative correlation between the latitude and the maximum temperature in the northern hemisphere. The farther we are from the equator, the colder the temperature seems to get."
   ]
  },
  {
   "cell_type": "markdown",
   "metadata": {},
   "source": [
    "####  Southern Hemisphere - Max Temp vs. Latitude Linear Regression"
   ]
  },
  {
   "cell_type": "code",
   "execution_count": 41,
   "metadata": {
    "scrolled": true
   },
   "outputs": [
    {
     "name": "stdout",
     "output_type": "stream",
     "text": [
      "The r-value is 0.5239943876975683\n"
     ]
    },
    {
     "data": {
      "image/png": "[encoded data removed]",
      "text/plain": [
       "<Figure size 432x288 with 1 Axes>"
      ]
     },
     "metadata": {
      "needs_background": "light"
     },
     "output_type": "display_data"
    }
   ],
   "source": [
    "x_values = southernHem['Latitude']\n",
    "y_values = southernHem['Max Temperature']\n",
    "(slope, intercept, rvalue, pvalue, stderr) = linregress(x_values, y_values)\n",
    "regress_values = x_values * slope + intercept\n",
    "line_eq = \"y = \" + str(round(slope,2)) + \"x + \" + str(round(intercept,2))\n",
    "plt.scatter(x_values,y_values)\n",
    "plt.plot(x_values,regress_values,\"r-\")\n",
    "plt.xlabel('Latitude')\n",
    "plt.ylabel('Max Temp')\n",
    "print(f\"The r-value is {rvalue**2}\")\n",
    "plt.annotate(line_eq,(-55,90),fontsize=15,color=\"red\")\n",
    "plt.savefig(\"Trendlines/south_temp_trend.png\")\n",
    "plt.show()"
   ]
  },
  {
   "cell_type": "markdown",
   "metadata": {},
   "source": [
    "There is a positive correlation between the latitude and the maximum temperature in the southern hemisphere. The closer we get to the equator, the warmer the temperature seems to get."
   ]
  },
  {
   "cell_type": "markdown",
   "metadata": {},
   "source": [
    "####  Northern Hemisphere - Humidity (%) vs. Latitude Linear Regression"
   ]
  },
  {
   "cell_type": "code",
   "execution_count": 42,
   "metadata": {},
   "outputs": [
    {
     "name": "stdout",
     "output_type": "stream",
     "text": [
      "The r-value is 0.0016000326044386534\n"
     ]
    },
    {
     "data": {
      "image/png": "[encoded data removed]",
      "text/plain": [
       "<Figure size 432x288 with 1 Axes>"
      ]
     },
     "metadata": {
      "needs_background": "light"
     },
     "output_type": "display_data"
    }
   ],
   "source": [
    "x_values = northernHem['Latitude']\n",
    "y_values = northernHem['Humidity']\n",
    "(slope, intercept, rvalue, pvalue, stderr) = linregress(x_values, y_values)\n",
    "regress_values = x_values * slope + intercept\n",
    "line_eq = \"y = \" + str(round(slope,2)) + \"x + \" + str(round(intercept,2))\n",
    "plt.scatter(x_values,y_values)\n",
    "plt.plot(x_values,regress_values,\"r-\")\n",
    "plt.xlabel('Latitude')\n",
    "plt.ylabel('Humidity')\n",
    "print(f\"The r-value is {rvalue**2}\")\n",
    "plt.annotate(line_eq,(45,10),fontsize=15,color=\"red\")\n",
    "plt.savefig(\"Trendlines/north_humid_trend.png\")\n",
    "plt.show()\n",
    "\n"
   ]
  },
  {
   "cell_type": "markdown",
   "metadata": {},
   "source": [
    "####  Southern Hemisphere - Humidity (%) vs. Latitude Linear Regression"
   ]
  },
  {
   "cell_type": "code",
   "execution_count": 43,
   "metadata": {},
   "outputs": [
    {
     "name": "stdout",
     "output_type": "stream",
     "text": [
      "The r-value is 0.02418185416500578\n"
     ]
    },
    {
     "data": {
      "image/png": "[encoded data removed]",
      "text/plain": [
       "<Figure size 432x288 with 1 Axes>"
      ]
     },
     "metadata": {
      "needs_background": "light"
     },
     "output_type": "display_data"
    }
   ],
   "source": [
    "x_values = southernHem['Latitude']\n",
    "y_values = southernHem['Humidity']\n",
    "(slope, intercept, rvalue, pvalue, stderr) = linregress(x_values, y_values)\n",
    "regress_values = x_values * slope + intercept\n",
    "line_eq = \"y = \" + str(round(slope,2)) + \"x + \" + str(round(intercept,2))\n",
    "plt.scatter(x_values,y_values)\n",
    "plt.plot(x_values,regress_values,\"r-\")\n",
    "plt.xlabel('Latitude')\n",
    "plt.ylabel('Humidity')\n",
    "print(f\"The r-value is {rvalue**2}\")\n",
    "plt.annotate(line_eq,(-55,20),fontsize=15,color=\"red\")\n",
    "plt.savefig(\"Trendlines/south_humid_trend.png\")\n",
    "plt.show()\n"
   ]
  },
  {
   "cell_type": "markdown",
   "metadata": {},
   "source": [
    "####  Northern Hemisphere - Cloudiness (%) vs. Latitude Linear Regression"
   ]
  },
  {
   "cell_type": "code",
   "execution_count": 44,
   "metadata": {
    "scrolled": true
   },
   "outputs": [
    {
     "name": "stdout",
     "output_type": "stream",
     "text": [
      "The r-value is 0.0013408083747547138\n"
     ]
    },
    {
     "data": {
      "image/png": "[encoded data removed]",
      "text/plain": [
       "<Figure size 432x288 with 1 Axes>"
      ]
     },
     "metadata": {
      "needs_background": "light"
     },
     "output_type": "display_data"
    }
   ],
   "source": [
    "x_values = northernHem['Latitude']\n",
    "y_values = northernHem['Cloudiness']\n",
    "(slope, intercept, rvalue, pvalue, stderr) = linregress(x_values, y_values)\n",
    "regress_values = x_values * slope + intercept\n",
    "line_eq = \"y = \" + str(round(slope,2)) + \"x + \" + str(round(intercept,2))\n",
    "plt.scatter(x_values,y_values)\n",
    "plt.plot(x_values,regress_values,\"r-\")\n",
    "plt.xlabel('Latitude')\n",
    "plt.ylabel('Cloudiness')\n",
    "print(f\"The r-value is {rvalue**2}\")\n",
    "plt.annotate(line_eq,(20,63),fontsize=15,color=\"red\")\n",
    "plt.savefig(\"Trendlines/north_cloud_trend.png\")\n",
    "plt.show()\n"
   ]
  },
  {
   "cell_type": "markdown",
   "metadata": {},
   "source": [
    "There is no correlation between the latitude and the cloudiness % in the northern hemisphere. As the latitude goes farther from the equator, the cloudiness data goes in various directions with no direct focal point"
   ]
  },
  {
   "cell_type": "markdown",
   "metadata": {},
   "source": [
    "####  Southern Hemisphere - Cloudiness (%) vs. Latitude Linear Regression"
   ]
  },
  {
   "cell_type": "code",
   "execution_count": 45,
   "metadata": {},
   "outputs": [
    {
     "name": "stdout",
     "output_type": "stream",
     "text": [
      "The r-value is 0.03833047327298348\n"
     ]
    },
    {
     "data": {
      "image/png": "[encoded data removed]",
      "text/plain": [
       "<Figure size 432x288 with 1 Axes>"
      ]
     },
     "metadata": {
      "needs_background": "light"
     },
     "output_type": "display_data"
    }
   ],
   "source": [
    "x_values = southernHem['Latitude']\n",
    "y_values = southernHem['Cloudiness']\n",
    "(slope, intercept, rvalue, pvalue, stderr) = linregress(x_values, y_values)\n",
    "regress_values = x_values * slope + intercept\n",
    "line_eq = \"y = \" + str(round(slope,2)) + \"x + \" + str(round(intercept,2))\n",
    "plt.scatter(x_values,y_values)\n",
    "plt.plot(x_values,regress_values,\"r-\")\n",
    "plt.xlabel('Latitude')\n",
    "plt.ylabel('Cloudiness')\n",
    "print(f\"The r-value is {rvalue**2}\")\n",
    "plt.annotate(line_eq,(-56,60),fontsize=15,color=\"red\")\n",
    "plt.savefig(\"Trendlines/south_cloud_trend.png\")\n",
    "plt.show()\n"
   ]
  },
  {
   "cell_type": "markdown",
   "metadata": {},
   "source": [
    "####  Northern Hemisphere - Wind Speed (mph) vs. Latitude Linear Regression"
   ]
  },
  {
   "cell_type": "code",
   "execution_count": 46,
   "metadata": {},
   "outputs": [
    {
     "name": "stdout",
     "output_type": "stream",
     "text": [
      "The r-value is 0.00984499186982279\n"
     ]
    },
    {
     "data": {
      "image/png": "[encoded data removed]",
      "text/plain": [
       "<Figure size 432x288 with 1 Axes>"
      ]
     },
     "metadata": {
      "needs_background": "light"
     },
     "output_type": "display_data"
    }
   ],
   "source": [
    "x_values = northernHem['Latitude']\n",
    "y_values = northernHem['Wind Speed']\n",
    "(slope, intercept, rvalue, pvalue, stderr) = linregress(x_values, y_values)\n",
    "regress_values = x_values * slope + intercept\n",
    "line_eq = \"y = \" + str(round(slope,2)) + \"x + \" + str(round(intercept,2))\n",
    "plt.scatter(x_values,y_values)\n",
    "plt.plot(x_values,regress_values,\"r-\")\n",
    "plt.xlabel('Latitude')\n",
    "plt.ylabel('Wind Speed')\n",
    "print(f\"The r-value is {rvalue**2}\")\n",
    "plt.annotate(line_eq,(40,27),fontsize=15,color=\"red\")\n",
    "plt.savefig(\"Trendlines/north_wind_trend.png\")\n",
    "plt.show()"
   ]
  },
  {
   "cell_type": "markdown",
   "metadata": {},
   "source": [
    "####  Southern Hemisphere - Wind Speed (mph) vs. Latitude Linear Regression"
   ]
  },
  {
   "cell_type": "code",
   "execution_count": 47,
   "metadata": {},
   "outputs": [
    {
     "name": "stdout",
     "output_type": "stream",
     "text": [
      "The r-value is 0.026152491408500667\n"
     ]
    },
    {
     "data": {
      "image/png": "[encoded data removed]",
      "text/plain": [
       "<Figure size 432x288 with 1 Axes>"
      ]
     },
     "metadata": {
      "needs_background": "light"
     },
     "output_type": "display_data"
    }
   ],
   "source": [
    "x_values = southernHem['Latitude']\n",
    "y_values = southernHem['Wind Speed']\n",
    "(slope, intercept, rvalue, pvalue, stderr) = linregress(x_values, y_values)\n",
    "regress_values = x_values * slope + intercept\n",
    "line_eq = \"y = \" + str(round(slope,2)) + \"x + \" + str(round(intercept,2))\n",
    "plt.scatter(x_values,y_values)\n",
    "plt.plot(x_values,regress_values,\"r-\")\n",
    "plt.xlabel('Latitude')\n",
    "plt.ylabel('Wind Speed')\n",
    "print(f\"The r-value is {rvalue**2}\")\n",
    "plt.annotate(line_eq,(-30,22),fontsize=15,color=\"red\")\n",
    "plt.savefig(\"Trendlines/south_wind_trend.png\")\n",
    "plt.show()"
   ]
  }
 ],
 "metadata": {
  "anaconda-cloud": {},
  "kernel_info": {
   "name": "python3"
  },
  "kernelspec": {
   "display_name": "Python 3 (ipykernel)",
   "language": "python",
   "name": "python3"
  },
  "language_info": {
   "codemirror_mode": {
    "name": "ipython",
    "version": 3
   },
   "file_extension": ".py",
   "mimetype": "text/x-python",
   "name": "python",
   "nbconvert_exporter": "python",
   "pygments_lexer": "ipython3",
   "version": "3.9.12"
  },
  "latex_envs": {
   "LaTeX_envs_menu_present": true,
   "autoclose": false,
   "autocomplete": true,
   "bibliofile": "biblio.bib",
   "cite_by": "apalike",
   "current_citInitial": 1,
   "eqLabelWithNumbers": true,
   "eqNumInitial": 1,
   "hotkeys": {
    "equation": "Ctrl-E",
    "itemize": "Ctrl-I"
   },
   "labels_anchors": false,
   "latex_user_defs": false,
   "report_style_numbering": false,
   "user_envs_cfg": false
  },
  "nteract": {
   "version": "0.12.3"
  }
 },
 "nbformat": 4,
 "nbformat_minor": 2
}
