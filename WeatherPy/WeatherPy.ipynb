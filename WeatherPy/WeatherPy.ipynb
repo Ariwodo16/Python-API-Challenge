{
 "cells": [
  {
   "cell_type": "markdown",
   "metadata": {},
   "source": [
    "# WeatherPy\n",
    "----\n",
    "\n",
    "#### Note\n",
    "* Instructions have been included for each segment. You do not have to follow them exactly, but they are included to help you think through the steps."
   ]
  },
  {
   "cell_type": "code",
   "execution_count": 1,
   "metadata": {
    "scrolled": true
   },
   "outputs": [],
   "source": [
    "# Dependencies and Setup\n",
    "import matplotlib.pyplot as plt\n",
    "import pandas as pd\n",
    "import numpy as np\n",
    "import requests\n",
    "import time\n",
    "from scipy.stats import linregress\n",
    "from pprint import pprint\n",
    "import json\n",
    "\n",
    "# Import API key\n",
    "from api_keys import weather_api_key\n",
    "\n",
    "# Incorporated citipy to determine city based on latitude and longitude\n",
    "from citipy import citipy\n",
    "\n",
    "# Output File (CSV)\n",
    "output_data_file = \"output_data/cities.csv\"\n",
    "\n",
    "# Range of latitudes and longitudes\n",
    "lat_range = (-90, 90)\n",
    "lng_range = (-180, 180)"
   ]
  },
  {
   "cell_type": "markdown",
   "metadata": {},
   "source": [
    "## Generate Cities List"
   ]
  },
  {
   "cell_type": "code",
   "execution_count": 2,
   "metadata": {},
   "outputs": [
    {
     "data": {
      "text/plain": [
       "636"
      ]
     },
     "execution_count": 2,
     "metadata": {},
     "output_type": "execute_result"
    }
   ],
   "source": [
    "# List for holding lat_lngs and cities\n",
    "lat_lngs = []\n",
    "cities = []\n",
    "\n",
    "# Create a set of random lat and lng combinations\n",
    "lats = np.random.uniform(lat_range[0], lat_range[1], size=1500)\n",
    "lngs = np.random.uniform(lng_range[0], lng_range[1], size=1500)\n",
    "lat_lngs = zip(lats, lngs)\n",
    "\n",
    "# Identify nearest city for each lat, lng combination\n",
    "for lat_lng in lat_lngs:\n",
    "    city = citipy.nearest_city(lat_lng[0], lat_lng[1]).city_name\n",
    "    \n",
    "    # If the city is unique, then add it to a our cities list\n",
    "    if city not in cities:\n",
    "        cities.append(city)\n",
    "\n",
    "# Print the city count to confirm sufficient count\n",
    "len(cities)"
   ]
  },
  {
   "cell_type": "markdown",
   "metadata": {},
   "source": [
    "### Perform API Calls\n",
    "* Perform a weather check on each city using a series of successive API calls.\n",
    "* Include a print log of each city as it'sbeing processed (with the city number and city name).\n"
   ]
  },
  {
   "cell_type": "code",
   "execution_count": 3,
   "metadata": {},
   "outputs": [],
   "source": [
    "# Save config information\n",
    "url = \"http://api.openweathermap.org/data/2.5/weather?\"\n",
    "units = \"imperial\"\n",
    "\n",
    "# Build query URL\n",
    "queryURL = f\"{url}appid={weather_api_key}&units={units}&q=\"\n",
    "\n",
    "response = requests.get(queryURL + city).json()"
   ]
  },
  {
   "cell_type": "code",
   "execution_count": 4,
   "metadata": {
    "scrolled": true
   },
   "outputs": [
    {
     "name": "stdout",
     "output_type": "stream",
     "text": [
      "Beginning Data Retrieval\n",
      "-------------------------\n",
      "Processing Record 2 of 1 | Mattru\n",
      "Processing Record 3 of 1 | Hilo\n",
      "Processing Record 4 of 1 | Albany\n",
      "Processing Record 5 of 1 | Rawson\n",
      "Processing Record 6 of 1 | Chokurdakh\n",
      "Processing Record 7 of 1 | Busselton\n",
      "Processing Record 8 of 1 | Punta Arenas\n",
      "city not found. Skipping ...\n",
      "Processing Record 9 of 1 | Chui\n",
      "Processing Record 10 of 1 | Rikitea\n",
      "Processing Record 11 of 1 | Arraial do Cabo\n",
      "Processing Record 12 of 1 | Airai\n",
      "Processing Record 13 of 1 | Anuradhapura\n",
      "Processing Record 14 of 1 | Avarua\n",
      "Processing Record 15 of 1 | New Norfolk\n",
      "Processing Record 16 of 1 | Kalugumalai\n",
      "Processing Record 17 of 1 | Weligama\n",
      "Processing Record 18 of 1 | Portland\n",
      "Processing Record 19 of 1 | Epe\n",
      "Processing Record 20 of 1 | Ushuaia\n",
      "city not found. Skipping ...\n",
      "city not found. Skipping ...\n",
      "Processing Record 21 of 1 | Mon\n",
      "Processing Record 22 of 1 | Faanui\n",
      "Processing Record 23 of 1 | Mataura\n",
      "Processing Record 24 of 1 | Ribeira Grande\n",
      "Processing Record 25 of 1 | Jumla\n",
      "Processing Record 26 of 1 | Bluff\n",
      "Processing Record 27 of 1 | Vanavara\n",
      "Processing Record 28 of 1 | Puerto Ayora\n",
      "city not found. Skipping ...\n",
      "Processing Record 29 of 1 | Camacha\n",
      "Processing Record 30 of 1 | Codrington\n",
      "Processing Record 31 of 1 | Kruisfontein\n",
      "city not found. Skipping ...\n",
      "city not found. Skipping ...\n",
      "Processing Record 32 of 1 | Henties Bay\n",
      "city not found. Skipping ...\n",
      "Processing Record 33 of 1 | Ilebo\n",
      "Processing Record 34 of 1 | Verkhnevilyuysk\n",
      "Processing Record 35 of 1 | Port Alfred\n",
      "Processing Record 36 of 1 | Bangui\n",
      "Processing Record 37 of 1 | Baruun-Urt\n",
      "Processing Record 38 of 1 | Dudinka\n",
      "Processing Record 39 of 1 | Hithadhoo\n",
      "Processing Record 40 of 1 | Springbok\n",
      "Processing Record 41 of 1 | Geraldton\n",
      "Processing Record 42 of 1 | Los Negros\n",
      "Processing Record 43 of 1 | Dikson\n",
      "Processing Record 44 of 1 | Kenai\n",
      "Processing Record 45 of 1 | Jardim\n",
      "Processing Record 46 of 1 | Elko\n",
      "Processing Record 47 of 1 | Kahului\n",
      "Processing Record 48 of 1 | Port Hardy\n",
      "Processing Record 49 of 1 | Huarmey\n",
      "Processing Record 50 of 1 | Lere\n",
      "Processing Record 0 of 2 | Saldanha\n",
      "Processing Record 1 of 2 | Ulladulla\n",
      "Processing Record 2 of 2 | Stephenville\n",
      "Processing Record 3 of 2 | Nikolskoye\n",
      "Processing Record 4 of 2 | Jamestown\n",
      "Processing Record 5 of 2 | Amapá\n",
      "Processing Record 6 of 2 | Şahbuz\n",
      "Processing Record 7 of 2 | Vila Franca do Campo\n",
      "Processing Record 8 of 2 | Mahébourg\n",
      "Processing Record 9 of 2 | Anloga\n",
      "Processing Record 10 of 2 | Lagoa\n",
      "Processing Record 11 of 2 | Tasiilaq\n",
      "city not found. Skipping ...\n",
      "Processing Record 12 of 2 | Kjøllefjord\n",
      "Processing Record 13 of 2 | Maniitsoq\n",
      "Processing Record 14 of 2 | Cape Town\n",
      "Processing Record 15 of 2 | Bac Lieu\n",
      "Processing Record 16 of 2 | Bagdarin\n",
      "city not found. Skipping ...\n",
      "Processing Record 17 of 2 | Nizhnekamsk\n",
      "Processing Record 18 of 2 | Talnakh\n",
      "Processing Record 19 of 2 | Okha\n",
      "Processing Record 20 of 2 | Pevek\n",
      "Processing Record 21 of 2 | Bredasdorp\n",
      "Processing Record 22 of 2 | Tarko-Sale\n",
      "Processing Record 23 of 2 | Tuktoyaktuk\n",
      "Processing Record 24 of 2 | Valdivia\n",
      "Processing Record 25 of 2 | Khor\n",
      "Processing Record 26 of 2 | Eureka\n",
      "Processing Record 27 of 2 | Garoowe\n",
      "Processing Record 28 of 2 | Tāybād\n",
      "Processing Record 29 of 2 | Atuona\n",
      "Processing Record 30 of 2 | Champerico\n",
      "Processing Record 31 of 2 | Inhambane\n",
      "Processing Record 32 of 2 | Barcelos\n",
      "Processing Record 33 of 2 | Qaanaaq\n",
      "Processing Record 34 of 2 | Hobart\n",
      "city not found. Skipping ...\n",
      "Processing Record 35 of 2 | Maun\n",
      "Processing Record 36 of 2 | Ostrovnoy\n",
      "Processing Record 37 of 2 | Kumul\n",
      "Processing Record 38 of 2 | Mumbwa\n",
      "Processing Record 39 of 2 | Alice Springs\n",
      "Processing Record 40 of 2 | Makakilo City\n",
      "Processing Record 41 of 2 | Charlestown\n",
      "Processing Record 42 of 2 | Touros\n",
      "Processing Record 43 of 2 | Akçaabat\n",
      "Processing Record 44 of 2 | Tavda\n",
      "Processing Record 45 of 2 | Zabul Province\n",
      "Processing Record 46 of 2 | La Rioja\n",
      "Processing Record 47 of 2 | Diffa\n",
      "Processing Record 48 of 2 | Dunedin\n",
      "Processing Record 49 of 2 | Saint-Philippe\n",
      "Processing Record 50 of 2 | Bethel\n",
      "Processing Record 0 of 3 | Tuatapere\n",
      "Processing Record 1 of 3 | Samarai\n",
      "Processing Record 2 of 3 | Sitka\n",
      "Processing Record 3 of 3 | Fukuechō\n",
      "Processing Record 4 of 3 | Saskylakh\n",
      "Processing Record 5 of 3 | George Town\n",
      "Processing Record 6 of 3 | Voloshka\n",
      "Processing Record 7 of 3 | Bastrop\n",
      "Processing Record 8 of 3 | Shīeli\n",
      "Processing Record 9 of 3 | Belyy Yar\n",
      "Processing Record 10 of 3 | Kayerkan\n",
      "Processing Record 11 of 3 | Khatanga\n",
      "Processing Record 12 of 3 | Narwar\n",
      "Processing Record 13 of 3 | Saint Paul Harbor\n",
      "Processing Record 14 of 3 | Catuday\n",
      "Processing Record 15 of 3 | Kiama\n",
      "Processing Record 16 of 3 | Butaritari\n",
      "Processing Record 17 of 3 | Bambous Virieux\n",
      "Processing Record 18 of 3 | Fort Morgan\n",
      "Processing Record 19 of 3 | Khani\n",
      "city not found. Skipping ...\n",
      "Processing Record 20 of 3 | Asău\n",
      "Processing Record 21 of 3 | Upernavik\n",
      "Processing Record 22 of 3 | Calderitas\n",
      "city not found. Skipping ...\n",
      "Processing Record 23 of 3 | Northam\n",
      "Processing Record 24 of 3 | Nerchinskiy Zavod\n",
      "Processing Record 25 of 3 | Yar-Sale\n",
      "Processing Record 26 of 3 | Tiksi\n",
      "Processing Record 27 of 3 | Waingapu\n",
      "Processing Record 28 of 3 | Lüderitz\n",
      "Processing Record 29 of 3 | Santa Rosa\n",
      "Processing Record 30 of 3 | Te Anau\n",
      "Processing Record 31 of 3 | Mvomero\n",
      "Processing Record 32 of 3 | Challans\n",
      "Processing Record 33 of 3 | São Filipe\n",
      "Processing Record 34 of 3 | Petauke\n",
      "Processing Record 35 of 3 | Thompson\n",
      "Processing Record 36 of 3 | Katsuura\n",
      "city not found. Skipping ...\n",
      "Processing Record 37 of 3 | Presidente Venceslau\n",
      "Processing Record 38 of 3 | Kapaa\n",
      "Processing Record 39 of 3 | Santo Antônio do Içá\n",
      "Processing Record 40 of 3 | Provideniya\n",
      "Processing Record 41 of 3 | Yellowknife\n",
      "Processing Record 42 of 3 | Lagos\n",
      "Processing Record 43 of 3 | Hermanus\n",
      "Processing Record 44 of 3 | Beringovskiy\n",
      "Processing Record 45 of 3 | Maceió\n",
      "Processing Record 46 of 3 | Safi\n",
      "Processing Record 47 of 3 | Levice\n",
      "city not found. Skipping ...\n",
      "Processing Record 48 of 3 | Leh\n",
      "Processing Record 49 of 3 | Beloha\n",
      "city not found. Skipping ...\n",
      "Processing Record 50 of 3 | Marawi\n",
      "Processing Record 0 of 4 | Cayenne\n",
      "city not found. Skipping ...\n",
      "city not found. Skipping ...\n",
      "Processing Record 1 of 4 | Ghanzi\n",
      "Processing Record 2 of 4 | Severo-Kuril'sk\n",
      "city not found. Skipping ...\n",
      "Processing Record 3 of 4 | Verkhoyansk\n",
      "city not found. Skipping ...\n",
      "Processing Record 4 of 4 | Zimmi\n",
      "Processing Record 5 of 4 | Raudeberg\n",
      "Processing Record 6 of 4 | Mackay\n",
      "city not found. Skipping ...\n",
      "Processing Record 7 of 4 | Sibu\n",
      "Processing Record 8 of 4 | Esperance\n",
      "Processing Record 9 of 4 | Carnarvon\n",
      "Processing Record 10 of 4 | Nishihara\n",
      "Processing Record 11 of 4 | Aachen\n",
      "Processing Record 12 of 4 | Bealanana\n",
      "Processing Record 13 of 4 | Kolvereid\n",
      "Processing Record 14 of 4 | Agadir\n",
      "Processing Record 15 of 4 | Kamenka\n",
      "Processing Record 16 of 4 | Oriximiná\n",
      "city not found. Skipping ...\n",
      "Processing Record 17 of 4 | Emerald\n",
      "Processing Record 18 of 4 | Port Elizabeth\n",
      "Processing Record 19 of 4 | Sayyan\n",
      "Processing Record 20 of 4 | Mayo\n",
      "Processing Record 21 of 4 | Pacific Grove\n",
      "Processing Record 22 of 4 | Novo Oriente\n",
      "Processing Record 23 of 4 | Burdur\n",
      "Processing Record 24 of 4 | Lakes Entrance\n",
      "Processing Record 25 of 4 | Olafsvik\n",
      "Processing Record 26 of 4 | Cherskiy\n",
      "Processing Record 27 of 4 | Coyhaique\n",
      "Processing Record 28 of 4 | Khandyga\n",
      "Processing Record 29 of 4 | Ponta do Sol\n",
      "city not found. Skipping ...\n",
      "Processing Record 30 of 4 | Narsaq\n",
      "Processing Record 31 of 4 | Derzhavīnsk\n",
      "Processing Record 32 of 4 | Cabedelo\n",
      "Processing Record 33 of 4 | La Romana\n",
      "Processing Record 34 of 4 | Vanino\n",
      "Processing Record 35 of 4 | Lebu\n",
      "Processing Record 36 of 4 | Brae\n",
      "Processing Record 37 of 4 | Egvekinot\n",
      "Processing Record 38 of 4 | Vestmannaeyjar\n",
      "Processing Record 39 of 4 | Mar del Plata\n",
      "Processing Record 40 of 4 | Pisco\n",
      "Processing Record 41 of 4 | Necochea\n",
      "Processing Record 42 of 4 | Novobirilyussy\n",
      "Processing Record 43 of 4 | Warman\n",
      "Processing Record 44 of 4 | Hasaki\n",
      "Processing Record 45 of 4 | Rameshki\n",
      "Processing Record 46 of 4 | Karratha\n",
      "Processing Record 47 of 4 | Susanville\n",
      "Processing Record 48 of 4 | Ust-Kuyga\n",
      "Processing Record 49 of 4 | Matagami\n",
      "Processing Record 50 of 4 | Pehowa\n",
      "Processing Record 0 of 5 | San Patricio\n"
     ]
    },
    {
     "name": "stdout",
     "output_type": "stream",
     "text": [
      "Processing Record 1 of 5 | San Andrés\n",
      "Processing Record 2 of 5 | Vaini\n",
      "Processing Record 3 of 5 | Zhangye\n",
      "Processing Record 4 of 5 | Boa Vista\n",
      "Processing Record 5 of 5 | Umm Kaddadah\n",
      "Processing Record 6 of 5 | Ancud\n",
      "Processing Record 7 of 5 | Hazorasp\n",
      "Processing Record 8 of 5 | Areia Branca\n",
      "Processing Record 9 of 5 | Rexburg\n",
      "Processing Record 10 of 5 | Marystown\n",
      "Processing Record 11 of 5 | Cidreira\n",
      "Processing Record 12 of 5 | Lorengau\n",
      "Processing Record 13 of 5 | Havelock\n",
      "city not found. Skipping ...\n",
      "Processing Record 14 of 5 | Newport\n",
      "Processing Record 15 of 5 | Sambava\n",
      "Processing Record 16 of 5 | Villazón\n",
      "city not found. Skipping ...\n",
      "Processing Record 17 of 5 | Kununurra\n",
      "Processing Record 18 of 5 | Karpathos\n",
      "Processing Record 19 of 5 | Uyuni\n",
      "Processing Record 20 of 5 | Fairbanks\n",
      "Processing Record 21 of 5 | Kholtoson\n",
      "Processing Record 22 of 5 | Teahupoo\n",
      "Processing Record 23 of 5 | Beyneu\n",
      "Processing Record 24 of 5 | Tanete\n",
      "Processing Record 25 of 5 | Cortez\n",
      "Processing Record 26 of 5 | Nemuro\n",
      "Processing Record 27 of 5 | Mount Isa\n",
      "Processing Record 28 of 5 | Souillac\n",
      "Processing Record 29 of 5 | Goderich\n",
      "city not found. Skipping ...\n",
      "Processing Record 30 of 5 | Leningradskiy\n",
      "Processing Record 31 of 5 | Urucará\n",
      "Processing Record 32 of 5 | Kalabo\n",
      "city not found. Skipping ...\n",
      "Processing Record 33 of 5 | Solnechnyy\n",
      "Processing Record 34 of 5 | Bengkulu\n",
      "Processing Record 35 of 5 | Leeton\n",
      "city not found. Skipping ...\n",
      "Processing Record 36 of 5 | Ventspils\n",
      "Processing Record 37 of 5 | Castro\n",
      "Processing Record 38 of 5 | Chiredzi\n",
      "Processing Record 39 of 5 | Richards Bay\n",
      "Processing Record 40 of 5 | Grindavik\n",
      "Processing Record 41 of 5 | São João da Barra\n",
      "Processing Record 42 of 5 | Khakhea\n",
      "Processing Record 43 of 5 | Longyearbyen\n",
      "Processing Record 44 of 5 | Lavrentiya\n",
      "city not found. Skipping ...\n",
      "Processing Record 45 of 5 | Broome\n",
      "Processing Record 46 of 5 | General Roca\n",
      "Processing Record 47 of 5 | Preobrazheniye\n",
      "Processing Record 48 of 5 | San Policarpo\n",
      "Processing Record 49 of 5 | Pochutla\n",
      "Processing Record 50 of 5 | Biloela\n",
      "Processing Record 0 of 6 | Aykhal\n",
      "Processing Record 1 of 6 | Limuru\n",
      "Processing Record 2 of 6 | East London\n",
      "Processing Record 3 of 6 | Tyumentsevo\n",
      "Processing Record 4 of 6 | Saint George\n",
      "Processing Record 5 of 6 | Inongo\n",
      "Processing Record 6 of 6 | Vallenar\n",
      "Processing Record 7 of 6 | Tobol\n",
      "Processing Record 8 of 6 | Meulaboh\n",
      "Processing Record 9 of 6 | Pozo Colorado\n",
      "city not found. Skipping ...\n",
      "Processing Record 10 of 6 | Lompoc\n",
      "Processing Record 11 of 6 | Haines Junction\n",
      "Processing Record 12 of 6 | Mount Gambier\n",
      "city not found. Skipping ...\n",
      "Processing Record 13 of 6 | Vao\n",
      "Processing Record 14 of 6 | Wunstorf\n",
      "Processing Record 15 of 6 | Santa Cruz de la Sierra\n",
      "Processing Record 16 of 6 | Esim\n",
      "Processing Record 17 of 6 | Constitución\n",
      "Processing Record 18 of 6 | Aitape\n",
      "Processing Record 19 of 6 | Dzilam González\n",
      "city not found. Skipping ...\n",
      "Processing Record 20 of 6 | Mwaya\n",
      "city not found. Skipping ...\n",
      "Processing Record 21 of 6 | Carballo\n",
      "Processing Record 22 of 6 | Tocopilla\n",
      "Processing Record 23 of 6 | Bonavista\n",
      "Processing Record 24 of 6 | Kumluca\n",
      "Processing Record 25 of 6 | Masasi\n",
      "Processing Record 26 of 6 | Koungou\n",
      "Processing Record 27 of 6 | Ndélé\n",
      "Processing Record 28 of 6 | Liberal\n",
      "Processing Record 29 of 6 | Deming\n",
      "Processing Record 30 of 6 | La Ronge\n",
      "Processing Record 31 of 6 | Mogadishu\n",
      "Processing Record 32 of 6 | Tynset\n",
      "Processing Record 33 of 6 | Norman Wells\n",
      "Processing Record 34 of 6 | Srednekolymsk\n",
      "Processing Record 35 of 6 | Sühbaatar\n",
      "Processing Record 36 of 6 | Saryozek\n",
      "Processing Record 37 of 6 | Comodoro Rivadavia\n",
      "Processing Record 38 of 6 | Kavieng\n",
      "Processing Record 39 of 6 | Luklukan\n",
      "Processing Record 40 of 6 | Kavaratti\n",
      "Processing Record 41 of 6 | Buchanan\n",
      "Processing Record 42 of 6 | Mwinilunga\n",
      "Processing Record 43 of 6 | Sarkand\n",
      "Processing Record 44 of 6 | Novo Aripuanã\n",
      "Processing Record 45 of 6 | Mānsa\n",
      "Processing Record 46 of 6 | Kiryat Gat\n",
      "Processing Record 47 of 6 | Port Hawkesbury\n",
      "Processing Record 48 of 6 | Sibolga\n",
      "Processing Record 49 of 6 | Sangar\n",
      "Processing Record 50 of 6 | Verkhniy Uslon\n",
      "Processing Record 0 of 7 | Ternate\n",
      "Processing Record 1 of 7 | Butajīra\n",
      "Processing Record 2 of 7 | Dingle\n",
      "Processing Record 3 of 7 | Caledonia\n",
      "Processing Record 4 of 7 | Atar\n",
      "Processing Record 5 of 7 | Tuy Hoa\n",
      "city not found. Skipping ...\n",
      "Processing Record 6 of 7 | Clyde River\n",
      "Processing Record 7 of 7 | Hamilton\n",
      "Processing Record 8 of 7 | Wanning\n",
      "Processing Record 9 of 7 | Mossamedes\n",
      "Processing Record 10 of 7 | Lavaca\n",
      "Processing Record 11 of 7 | Horadiz\n",
      "Processing Record 12 of 7 | San Cristobal\n",
      "Processing Record 13 of 7 | Höchst\n",
      "Processing Record 14 of 7 | Prince Rupert\n",
      "Processing Record 15 of 7 | Chicama\n",
      "Processing Record 16 of 7 | Havre-St-Pierre\n",
      "city not found. Skipping ...\n",
      "Processing Record 17 of 7 | Thinadhoo\n",
      "Processing Record 18 of 7 | Grants\n",
      "Processing Record 19 of 7 | Osmanabad\n",
      "city not found. Skipping ...\n",
      "Processing Record 20 of 7 | Baykit\n",
      "Processing Record 21 of 7 | Torbay\n",
      "Processing Record 22 of 7 | Barrow\n",
      "Processing Record 23 of 7 | Ambilobe\n",
      "Processing Record 24 of 7 | Laas\n",
      "Processing Record 25 of 7 | Pangody\n",
      "Processing Record 26 of 7 | Ségou\n",
      "Processing Record 27 of 7 | Stornoway\n",
      "city not found. Skipping ...\n",
      "Processing Record 28 of 7 | Gerāsh\n",
      "Processing Record 29 of 7 | Pimentel\n",
      "Processing Record 30 of 7 | Gamba\n",
      "Processing Record 31 of 7 | Voyvozh\n",
      "Processing Record 32 of 7 | Narasannapeta\n",
      "Processing Record 33 of 7 | Xunchang\n",
      "Processing Record 34 of 7 | Bakchar\n",
      "city not found. Skipping ...\n",
      "Processing Record 35 of 7 | Raymondville\n",
      "Processing Record 36 of 7 | Port Blair\n",
      "Processing Record 37 of 7 | Ilulissat\n",
      "Processing Record 38 of 7 | Rairangpur\n",
      "Processing Record 39 of 7 | Usogorsk\n",
      "Processing Record 40 of 7 | Saint-Joseph\n",
      "Processing Record 41 of 7 | Sola\n",
      "Processing Record 42 of 7 | Ola\n",
      "Processing Record 43 of 7 | Husavik\n",
      "Processing Record 44 of 7 | Banjar\n",
      "Processing Record 45 of 7 | Bodden Town\n",
      "Processing Record 46 of 7 | Neryungri\n",
      "Processing Record 47 of 7 | Quatre Cocos\n",
      "Processing Record 48 of 7 | Sol'-Iletsk\n",
      "Processing Record 49 of 7 | Korla\n",
      "Processing Record 50 of 7 | Nanortalik\n",
      "Processing Record 0 of 8 | Fortuna\n",
      "Processing Record 1 of 8 | Acapulco de Juárez\n",
      "Processing Record 2 of 8 | Athabasca\n",
      "Processing Record 3 of 8 | Almeirim\n",
      "Processing Record 4 of 8 | Sarakhs\n",
      "Processing Record 5 of 8 | Salinas\n",
      "Processing Record 6 of 8 | Kiunga\n",
      "Processing Record 7 of 8 | Ndjolé\n",
      "Processing Record 8 of 8 | Batagay-Alyta\n",
      "Processing Record 9 of 8 | Ürümqi\n",
      "Processing Record 10 of 8 | Jinchang\n",
      "Processing Record 11 of 8 | Guerrero Negro\n",
      "Processing Record 12 of 8 | Aksha\n",
      "Processing Record 13 of 8 | Montluçon\n",
      "Processing Record 14 of 8 | Evensk\n",
      "Processing Record 15 of 8 | Tambun\n",
      "Processing Record 16 of 8 | Ammon\n",
      "Processing Record 17 of 8 | Dormidontovka\n",
      "Processing Record 18 of 8 | Naze\n",
      "Processing Record 19 of 8 | Chacabuco\n",
      "Processing Record 20 of 8 | Hualmay\n",
      "Processing Record 21 of 8 | Skibbereen\n",
      "Processing Record 22 of 8 | Umm Hājar\n",
      "Processing Record 23 of 8 | Nanchong\n",
      "Processing Record 24 of 8 | Klaksvík\n",
      "Processing Record 25 of 8 | Biak\n",
      "Processing Record 26 of 8 | Pinawa\n",
      "Processing Record 27 of 8 | Beisfjord\n",
      "Processing Record 28 of 8 | Ordu\n",
      "Processing Record 29 of 8 | Kaitangata\n",
      "Processing Record 30 of 8 | Kars\n",
      "Processing Record 31 of 8 | Yuncheng\n",
      "Processing Record 32 of 8 | Warrington\n",
      "city not found. Skipping ...\n",
      "Processing Record 33 of 8 | Mwingi\n",
      "Processing Record 34 of 8 | Puerto Escondido\n",
      "Processing Record 35 of 8 | Bandarbeyla\n",
      "Processing Record 36 of 8 | Praia\n",
      "Processing Record 37 of 8 | Hobyo\n",
      "Processing Record 38 of 8 | Piaçabuçu\n",
      "Processing Record 39 of 8 | Dobrinka\n",
      "Processing Record 40 of 8 | Barkhan\n",
      "Processing Record 41 of 8 | Pandan\n",
      "Processing Record 42 of 8 | San Quintín\n",
      "Processing Record 43 of 8 | Kovalevskoye\n",
      "Processing Record 44 of 8 | Buala\n",
      "Processing Record 45 of 8 | Province of Mantua\n",
      "Processing Record 46 of 8 | Romano di Lombardia\n",
      "city not found. Skipping ...\n",
      "Processing Record 47 of 8 | Kropotkin\n",
      "Processing Record 48 of 8 | Key Largo\n",
      "Processing Record 49 of 8 | Soure\n",
      "Processing Record 50 of 8 | Lubbock\n",
      "Processing Record 0 of 9 | Ludvika\n",
      "Processing Record 1 of 9 | Olinda\n",
      "Processing Record 2 of 9 | Ailigandí\n",
      "Processing Record 3 of 9 | Manokwari\n"
     ]
    },
    {
     "name": "stdout",
     "output_type": "stream",
     "text": [
      "Processing Record 4 of 9 | Sabha\n",
      "city not found. Skipping ...\n",
      "city not found. Skipping ...\n",
      "Processing Record 5 of 9 | Ridgecrest\n",
      "Processing Record 6 of 9 | Tricase\n",
      "Processing Record 7 of 9 | Laguna\n",
      "Processing Record 8 of 9 | Nahrin\n",
      "city not found. Skipping ...\n",
      "Processing Record 9 of 9 | Cap Malheureux\n",
      "Processing Record 10 of 9 | Walvis Bay\n",
      "Processing Record 11 of 9 | Zaraza\n",
      "Processing Record 12 of 9 | Strezhevoy\n",
      "Processing Record 13 of 9 | Puerto Cabezas\n",
      "Processing Record 14 of 9 | Alofi\n",
      "Processing Record 15 of 9 | Masallātah\n",
      "Processing Record 16 of 9 | Hede\n",
      "Processing Record 17 of 9 | Maţāy\n",
      "Processing Record 18 of 9 | Wewak\n",
      "Processing Record 19 of 9 | Paraná\n",
      "Processing Record 20 of 9 | Troitskoye\n",
      "city not found. Skipping ...\n",
      "Processing Record 21 of 9 | Tilichiki\n",
      "Processing Record 22 of 9 | Kirakira\n",
      "Processing Record 23 of 9 | Musiri\n",
      "Processing Record 24 of 9 | Alūksne\n",
      "Processing Record 25 of 9 | Kieta\n",
      "city not found. Skipping ...\n",
      "Processing Record 26 of 9 | Zonguldak\n",
      "Processing Record 27 of 9 | Florianópolis\n",
      "Processing Record 28 of 9 | Khāsh\n",
      "Processing Record 29 of 9 | Chemal\n",
      "Processing Record 30 of 9 | Hong Kong\n",
      "Processing Record 31 of 9 | Westport\n",
      "Processing Record 32 of 9 | Nome\n",
      "Processing Record 33 of 9 | Viedma\n",
      "Processing Record 34 of 9 | Los Llanos de Aridane\n",
      "Processing Record 35 of 9 | Murray Bridge\n",
      "Processing Record 36 of 9 | Puerto Rondón\n",
      "Processing Record 37 of 9 | Merauke\n",
      "Processing Record 38 of 9 | Xixiang\n",
      "Processing Record 39 of 9 | Shahr-e Bābak\n",
      "Processing Record 40 of 9 | Mendoza\n",
      "Processing Record 41 of 9 | Salalah\n",
      "Processing Record 42 of 9 | Farafangana\n",
      "Processing Record 43 of 9 | Coroico\n",
      "Processing Record 44 of 9 | Carutapera\n",
      "Processing Record 45 of 9 | Na Wa\n",
      "Processing Record 46 of 9 | Sovetskiy\n",
      "Processing Record 47 of 9 | Nuuk\n",
      "Processing Record 48 of 9 | Flinders\n",
      "Processing Record 49 of 9 | Vardø\n",
      "Processing Record 50 of 9 | Xinzhi\n",
      "Processing Record 0 of 10 | Menzelinsk\n",
      "Processing Record 1 of 10 | Wajir\n",
      "Processing Record 2 of 10 | Kampene\n",
      "Processing Record 3 of 10 | Isla Mujeres\n",
      "Processing Record 4 of 10 | Cabo San Lucas\n",
      "city not found. Skipping ...\n",
      "Processing Record 5 of 10 | Jinxi\n",
      "Processing Record 6 of 10 | Morondava\n",
      "Processing Record 7 of 10 | Acarí\n",
      "Processing Record 8 of 10 | Kloulklubed\n",
      "Processing Record 9 of 10 | Porto Torres\n",
      "Processing Record 10 of 10 | Perth\n",
      "Processing Record 11 of 10 | Ajdabiya\n",
      "Processing Record 12 of 10 | Hervey Bay\n",
      "Processing Record 13 of 10 | Isangel\n",
      "Processing Record 14 of 10 | Saint-Pierre\n",
      "Processing Record 15 of 10 | Cavalcante\n",
      "Processing Record 16 of 10 | Palmer\n",
      "Processing Record 17 of 10 | Wamba\n",
      "Processing Record 18 of 10 | Hue\n",
      "Processing Record 19 of 10 | Rome\n",
      "Processing Record 20 of 10 | Verkhnyaya Inta\n",
      "city not found. Skipping ...\n",
      "Processing Record 21 of 10 | Gorontalo\n",
      "Processing Record 22 of 10 | Moose Factory\n",
      "Processing Record 23 of 10 | Sur\n",
      "Processing Record 24 of 10 | Tezu\n",
      "Processing Record 25 of 10 | Briançon\n",
      "Processing Record 26 of 10 | Shwebo\n",
      "city not found. Skipping ...\n",
      "city not found. Skipping ...\n",
      "Processing Record 27 of 10 | Mil'kovo\n",
      "Processing Record 28 of 10 | Manali\n",
      "Processing Record 29 of 10 | Plettenberg Bay\n",
      "Processing Record 30 of 10 | Turukhansk\n",
      "Processing Record 31 of 10 | Pahrump\n",
      "Processing Record 32 of 10 | Kalmunai\n",
      "Processing Record 33 of 10 | San Juan\n",
      "Processing Record 34 of 10 | Wilmington\n",
      "Processing Record 35 of 10 | Pindiga\n",
      "city not found. Skipping ...\n",
      "Processing Record 36 of 10 | North Bend\n",
      "Processing Record 37 of 10 | Calama\n",
      "Processing Record 38 of 10 | La Asuncion\n",
      "Processing Record 39 of 10 | College\n",
      "Processing Record 40 of 10 | Erice\n",
      "Processing Record 41 of 10 | Guaratuba\n",
      "city not found. Skipping ...\n",
      "Processing Record 42 of 10 | Magrath\n",
      "Processing Record 43 of 10 | Margate\n",
      "Processing Record 44 of 10 | Kemijärvi\n",
      "Processing Record 45 of 10 | Cairns\n",
      "Processing Record 46 of 10 | Treinta y Tres\n",
      "Processing Record 47 of 10 | Devils Lake\n",
      "Processing Record 48 of 10 | Fonte Boa\n",
      "Processing Record 49 of 10 | Vung Tau\n",
      "Processing Record 50 of 10 | Abnūb\n",
      "city not found. Skipping ...\n",
      "Processing Record 0 of 11 | Jacareacanga\n",
      "Processing Record 1 of 11 | Muli\n",
      "Processing Record 2 of 11 | Bukama\n",
      "Processing Record 3 of 11 | Phan Thiet\n",
      "Processing Record 4 of 11 | Elliot\n",
      "Processing Record 5 of 11 | Sittwe\n",
      "Processing Record 6 of 11 | Yangi Marg`ilon\n",
      "Processing Record 7 of 11 | Noumea\n",
      "Processing Record 8 of 11 | Puqi\n",
      "Processing Record 9 of 11 | Ust-Nera\n",
      "Processing Record 10 of 11 | Pangnirtung\n",
      "Processing Record 11 of 11 | Pingdingshan\n",
      "Processing Record 12 of 11 | Avola\n",
      "Processing Record 13 of 11 | Kyaikkami\n",
      "Processing Record 14 of 11 | Bay City\n",
      "Processing Record 15 of 11 | Don Luan\n",
      "Processing Record 16 of 11 | Ambikāpur\n",
      "Processing Record 17 of 11 | Léo\n",
      "city not found. Skipping ...\n",
      "Processing Record 18 of 11 | Glendive\n",
      "Processing Record 19 of 11 | Kakuda\n",
      "Processing Record 20 of 11 | Menongue\n",
      "Processing Record 21 of 11 | Emba\n",
      "Processing Record 22 of 11 | Bariloche\n",
      "Processing Record 23 of 11 | Berlevåg\n",
      "Processing Record 24 of 11 | Caravelas\n",
      "Processing Record 25 of 11 | New Amsterdam\n",
      "Processing Record 26 of 11 | Magadan\n",
      "Processing Record 27 of 11 | Torrelavega\n",
      "Processing Record 28 of 11 | Batticaloa\n",
      "Processing Record 29 of 11 | Araouane\n",
      "Processing Record 30 of 11 | Mackenzie\n",
      "Processing Record 31 of 11 | Turtas\n",
      "Processing Record 32 of 11 | Saint-Leu\n",
      "Processing Record 33 of 11 | Morgan City\n",
      "Processing Record 34 of 11 | Tashara\n",
      "Processing Record 35 of 11 | Ankazoabo\n",
      "Processing Record 36 of 11 | Dehui\n",
      "Processing Record 37 of 11 | Moree\n",
      "Processing Record 38 of 11 | Balkanabat\n",
      "Processing Record 39 of 11 | Pindi Gheb\n",
      "Processing Record 40 of 11 | Tarakan\n",
      "Processing Record 41 of 11 | Ol'ga\n",
      "Processing Record 42 of 11 | Maragogi\n",
      "Processing Record 43 of 11 | Houston\n",
      "Processing Record 44 of 11 | Tomatlán\n",
      "Processing Record 45 of 11 | São Miguel do Araguaia\n",
      "Processing Record 46 of 11 | Santa Fe\n",
      "Processing Record 47 of 11 | Krasnosel'kup\n",
      "city not found. Skipping ...\n",
      "Processing Record 48 of 11 | Yuancheng\n",
      "Processing Record 49 of 11 | Metlika\n",
      "city not found. Skipping ...\n",
      "Processing Record 50 of 11 | Lethem\n",
      "Processing Record 0 of 12 | Karangampel\n",
      "Processing Record 1 of 12 | Seoul\n",
      "Processing Record 2 of 12 | Faya\n",
      "Processing Record 3 of 12 | Mehamn\n",
      "Processing Record 4 of 12 | Zhigalovo\n",
      "Processing Record 5 of 12 | Rio Grande\n",
      "Processing Record 6 of 12 | Agirish\n",
      "Processing Record 7 of 12 | Ibrā’\n",
      "Processing Record 8 of 12 | Alta Floresta\n",
      "Processing Record 9 of 12 | Kilrush\n",
      "Processing Record 10 of 12 | Nicoya\n",
      "Processing Record 11 of 12 | Pombas\n",
      "Processing Record 12 of 12 | Mandalgovi\n",
      "Processing Record 13 of 12 | Deputatsky\n",
      "Processing Record 14 of 12 | Zhicheng\n",
      "Processing Record 15 of 12 | Severnyy\n",
      "Processing Record 16 of 12 | Hailey\n",
      "Processing Record 17 of 12 | Terrace\n",
      "Processing Record 18 of 12 | São José da Coroa Grande\n",
      "Processing Record 19 of 12 | Daru\n",
      "Processing Record 20 of 12 | Poretskoye\n",
      "Processing Record 21 of 12 | Road Town\n",
      "Processing Record 22 of 12 | Abu Dhabi\n",
      "-------------------------\n",
      "Data Retrieval Complete\n",
      "-------------------------\n"
     ]
    }
   ],
   "source": [
    "# set up empty lists for needed characters\n",
    "city_id = []\n",
    "city_name = []\n",
    "cloudiness = []\n",
    "country = []\n",
    "date = []\n",
    "humidity = []\n",
    "lat = []\n",
    "lng = []\n",
    "max_temp = []\n",
    "wind_speed = []\n",
    "processingRecord = 0\n",
    "setNumber = 1\n",
    "\n",
    "#start processing record at 1\n",
    "processingRecord = 1\n",
    "setNumber = 1\n",
    "\n",
    "print(\"Beginning Data Retrieval\")\n",
    "print(\"-------------------------\")\n",
    "\n",
    "# loop through each city\n",
    "for city in cities:\n",
    "    \n",
    "#Exception handling\n",
    "    try:\n",
    "        response = requests.get(queryURL + city).json()\n",
    "        city_id.append(response['id'])\n",
    "        city_name.append(response['name']) \n",
    "        cloudiness.append(response['clouds']['all'])\n",
    "        country.append(response['sys']['country'])\n",
    "        date.append(response['dt'])\n",
    "        humidity.append(response['main']['humidity']) \n",
    "        lat.append(response['coord']['lat'])\n",
    "        lng.append(response['coord']['lon'])\n",
    "        max_temp.append(response['main']['temp_max']) \n",
    "        wind_speed.append(response['wind']['speed'])\n",
    "        cityResponse = response['name']   \n",
    "        if processingRecord > 49:\n",
    "            processingRecord = 0\n",
    "            setNumber = setNumber + 1\n",
    "    \n",
    "        else:\n",
    "            processingRecord = processingRecord + 1\n",
    "\n",
    "        print(f\"Processing Record {processingRecord} of {setNumber} | {cityResponse}\")\n",
    "        \n",
    "    except:\n",
    "        print(\"city not found. Skipping ...\")\n",
    "    continue\n",
    "    \n",
    "print(\"-------------------------\")\n",
    "print(\"Data Retrieval Complete\")\n",
    "print(\"-------------------------\")"
   ]
  },
  {
   "cell_type": "markdown",
   "metadata": {},
   "source": [
    "### Convert Raw Data to DataFrame\n",
    "* Export the city data into a .csv.\n",
    "* Display the DataFrame"
   ]
  },
  {
   "cell_type": "code",
   "execution_count": 26,
   "metadata": {},
   "outputs": [
    {
     "data": {
      "text/html": [
       "<div>\n",
       "<style scoped>\n",
       "    .dataframe tbody tr th:only-of-type {\n",
       "        vertical-align: middle;\n",
       "    }\n",
       "\n",
       "    .dataframe tbody tr th {\n",
       "        vertical-align: top;\n",
       "    }\n",
       "\n",
       "    .dataframe thead th {\n",
       "        text-align: right;\n",
       "    }\n",
       "</style>\n",
       "<table border=\"1\" class=\"dataframe\">\n",
       "  <thead>\n",
       "    <tr style=\"text-align: right;\">\n",
       "      <th></th>\n",
       "      <th>City ID</th>\n",
       "      <th>City Name</th>\n",
       "      <th>Cloudiness</th>\n",
       "      <th>Country</th>\n",
       "      <th>Date</th>\n",
       "      <th>Humidity</th>\n",
       "      <th>Latitude</th>\n",
       "      <th>Longitude</th>\n",
       "      <th>Max Temperature</th>\n",
       "      <th>Wind Speed</th>\n",
       "    </tr>\n",
       "  </thead>\n",
       "  <tbody>\n",
       "    <tr>\n",
       "      <th>0</th>\n",
       "      <td>2409215</td>\n",
       "      <td>Mattru</td>\n",
       "      <td>100</td>\n",
       "      <td>SL</td>\n",
       "      <td>1658688852</td>\n",
       "      <td>97</td>\n",
       "      <td>7.6244</td>\n",
       "      <td>-11.8332</td>\n",
       "      <td>72.21</td>\n",
       "      <td>3.44</td>\n",
       "    </tr>\n",
       "    <tr>\n",
       "      <th>1</th>\n",
       "      <td>5855927</td>\n",
       "      <td>Hilo</td>\n",
       "      <td>75</td>\n",
       "      <td>US</td>\n",
       "      <td>1658688608</td>\n",
       "      <td>70</td>\n",
       "      <td>19.7297</td>\n",
       "      <td>-155.0900</td>\n",
       "      <td>81.28</td>\n",
       "      <td>1.01</td>\n",
       "    </tr>\n",
       "    <tr>\n",
       "      <th>2</th>\n",
       "      <td>5106841</td>\n",
       "      <td>Albany</td>\n",
       "      <td>33</td>\n",
       "      <td>US</td>\n",
       "      <td>1658688483</td>\n",
       "      <td>39</td>\n",
       "      <td>42.6001</td>\n",
       "      <td>-73.9662</td>\n",
       "      <td>98.17</td>\n",
       "      <td>10.83</td>\n",
       "    </tr>\n",
       "    <tr>\n",
       "      <th>3</th>\n",
       "      <td>3839307</td>\n",
       "      <td>Rawson</td>\n",
       "      <td>100</td>\n",
       "      <td>AR</td>\n",
       "      <td>1658688852</td>\n",
       "      <td>71</td>\n",
       "      <td>-43.3002</td>\n",
       "      <td>-65.1023</td>\n",
       "      <td>44.06</td>\n",
       "      <td>12.37</td>\n",
       "    </tr>\n",
       "    <tr>\n",
       "      <th>4</th>\n",
       "      <td>2126123</td>\n",
       "      <td>Chokurdakh</td>\n",
       "      <td>97</td>\n",
       "      <td>RU</td>\n",
       "      <td>1658688853</td>\n",
       "      <td>57</td>\n",
       "      <td>70.6333</td>\n",
       "      <td>147.9167</td>\n",
       "      <td>55.20</td>\n",
       "      <td>5.82</td>\n",
       "    </tr>\n",
       "  </tbody>\n",
       "</table>\n",
       "</div>"
      ],
      "text/plain": [
       "   City ID   City Name  Cloudiness Country        Date  Humidity  Latitude  \\\n",
       "0  2409215      Mattru         100      SL  1658688852        97    7.6244   \n",
       "1  5855927        Hilo          75      US  1658688608        70   19.7297   \n",
       "2  5106841      Albany          33      US  1658688483        39   42.6001   \n",
       "3  3839307      Rawson         100      AR  1658688852        71  -43.3002   \n",
       "4  2126123  Chokurdakh          97      RU  1658688853        57   70.6333   \n",
       "\n",
       "   Longitude  Max Temperature  Wind Speed  \n",
       "0   -11.8332            72.21        3.44  \n",
       "1  -155.0900            81.28        1.01  \n",
       "2   -73.9662            98.17       10.83  \n",
       "3   -65.1023            44.06       12.37  \n",
       "4   147.9167            55.20        5.82  "
      ]
     },
     "execution_count": 26,
     "metadata": {},
     "output_type": "execute_result"
    }
   ],
   "source": [
    "weatherDict = {\n",
    "    \"City ID\":city_id, \n",
    "    \"City Name\":city_name, \n",
    "    \"Cloudiness\":cloudiness,\n",
    "    \"Country\":country, \n",
    "    \"Date\":date, \n",
    "    \"Humidity\":humidity,\n",
    "    \"Latitude\":lat,\n",
    "    \"Longitude\":lng, \n",
    "    \"Max Temperature\":max_temp,\n",
    "    \"Wind Speed\":wind_speed\n",
    "}\n",
    "weatherDict = pd.DataFrame(weatherDict)\n",
    "weatherDict.head()"
   ]
  },
  {
   "cell_type": "code",
   "execution_count": 27,
   "metadata": {},
   "outputs": [
    {
     "data": {
      "text/plain": [
       "City ID            582\n",
       "City Name          582\n",
       "Cloudiness         582\n",
       "Country            582\n",
       "Date               582\n",
       "Humidity           582\n",
       "Latitude           582\n",
       "Longitude          582\n",
       "Max Temperature    582\n",
       "Wind Speed         582\n",
       "dtype: int64"
      ]
     },
     "execution_count": 27,
     "metadata": {},
     "output_type": "execute_result"
    }
   ],
   "source": [
    "weatherDict.count()"
   ]
  },
  {
   "cell_type": "code",
   "execution_count": 28,
   "metadata": {},
   "outputs": [],
   "source": [
    "weatherDict.to_csv(\"output_data/weatherDict.csv\")"
   ]
  },
  {
   "cell_type": "markdown",
   "metadata": {},
   "source": [
    "## Inspect the data and remove the cities where the humidity > 100%.\n",
    "----\n",
    "Skip this step if there are no cities that have humidity > 100%. "
   ]
  },
  {
   "cell_type": "code",
   "execution_count": 29,
   "metadata": {},
   "outputs": [
    {
     "data": {
      "text/html": [
       "<div>\n",
       "<style scoped>\n",
       "    .dataframe tbody tr th:only-of-type {\n",
       "        vertical-align: middle;\n",
       "    }\n",
       "\n",
       "    .dataframe tbody tr th {\n",
       "        vertical-align: top;\n",
       "    }\n",
       "\n",
       "    .dataframe thead th {\n",
       "        text-align: right;\n",
       "    }\n",
       "</style>\n",
       "<table border=\"1\" class=\"dataframe\">\n",
       "  <thead>\n",
       "    <tr style=\"text-align: right;\">\n",
       "      <th></th>\n",
       "      <th>City ID</th>\n",
       "      <th>Cloudiness</th>\n",
       "      <th>Date</th>\n",
       "      <th>Humidity</th>\n",
       "      <th>Latitude</th>\n",
       "      <th>Longitude</th>\n",
       "      <th>Max Temperature</th>\n",
       "      <th>Wind Speed</th>\n",
       "    </tr>\n",
       "  </thead>\n",
       "  <tbody>\n",
       "    <tr>\n",
       "      <th>count</th>\n",
       "      <td>5.790000e+02</td>\n",
       "      <td>579.000000</td>\n",
       "      <td>5.790000e+02</td>\n",
       "      <td>579.000000</td>\n",
       "      <td>579.000000</td>\n",
       "      <td>579.000000</td>\n",
       "      <td>579.000000</td>\n",
       "      <td>579.000000</td>\n",
       "    </tr>\n",
       "    <tr>\n",
       "      <th>mean</th>\n",
       "      <td>2.681081e+06</td>\n",
       "      <td>54.962003</td>\n",
       "      <td>1.658689e+09</td>\n",
       "      <td>70.585492</td>\n",
       "      <td>19.824604</td>\n",
       "      <td>19.769498</td>\n",
       "      <td>70.550069</td>\n",
       "      <td>7.458342</td>\n",
       "    </tr>\n",
       "    <tr>\n",
       "      <th>std</th>\n",
       "      <td>1.655119e+06</td>\n",
       "      <td>40.454322</td>\n",
       "      <td>1.071123e+02</td>\n",
       "      <td>21.539074</td>\n",
       "      <td>33.333928</td>\n",
       "      <td>89.328876</td>\n",
       "      <td>14.818315</td>\n",
       "      <td>5.018350</td>\n",
       "    </tr>\n",
       "    <tr>\n",
       "      <th>min</th>\n",
       "      <td>5.365400e+04</td>\n",
       "      <td>0.000000</td>\n",
       "      <td>1.658688e+09</td>\n",
       "      <td>6.000000</td>\n",
       "      <td>-54.800000</td>\n",
       "      <td>-179.166700</td>\n",
       "      <td>33.150000</td>\n",
       "      <td>0.000000</td>\n",
       "    </tr>\n",
       "    <tr>\n",
       "      <th>25%</th>\n",
       "      <td>1.504594e+06</td>\n",
       "      <td>11.000000</td>\n",
       "      <td>1.658689e+09</td>\n",
       "      <td>59.000000</td>\n",
       "      <td>-8.328350</td>\n",
       "      <td>-60.088250</td>\n",
       "      <td>59.370000</td>\n",
       "      <td>3.760000</td>\n",
       "    </tr>\n",
       "    <tr>\n",
       "      <th>50%</th>\n",
       "      <td>2.161515e+06</td>\n",
       "      <td>63.000000</td>\n",
       "      <td>1.658689e+09</td>\n",
       "      <td>76.000000</td>\n",
       "      <td>23.116700</td>\n",
       "      <td>26.891000</td>\n",
       "      <td>72.210000</td>\n",
       "      <td>6.150000</td>\n",
       "    </tr>\n",
       "    <tr>\n",
       "      <th>75%</th>\n",
       "      <td>3.619935e+06</td>\n",
       "      <td>100.000000</td>\n",
       "      <td>1.658689e+09</td>\n",
       "      <td>87.000000</td>\n",
       "      <td>47.562950</td>\n",
       "      <td>96.147600</td>\n",
       "      <td>81.290000</td>\n",
       "      <td>10.225000</td>\n",
       "    </tr>\n",
       "    <tr>\n",
       "      <th>max</th>\n",
       "      <td>7.671223e+06</td>\n",
       "      <td>100.000000</td>\n",
       "      <td>1.658689e+09</td>\n",
       "      <td>99.000000</td>\n",
       "      <td>78.218600</td>\n",
       "      <td>179.316700</td>\n",
       "      <td>111.250000</td>\n",
       "      <td>31.180000</td>\n",
       "    </tr>\n",
       "  </tbody>\n",
       "</table>\n",
       "</div>"
      ],
      "text/plain": [
       "            City ID  Cloudiness          Date    Humidity    Latitude  \\\n",
       "count  5.790000e+02  579.000000  5.790000e+02  579.000000  579.000000   \n",
       "mean   2.681081e+06   54.962003  1.658689e+09   70.585492   19.824604   \n",
       "std    1.655119e+06   40.454322  1.071123e+02   21.539074   33.333928   \n",
       "min    5.365400e+04    0.000000  1.658688e+09    6.000000  -54.800000   \n",
       "25%    1.504594e+06   11.000000  1.658689e+09   59.000000   -8.328350   \n",
       "50%    2.161515e+06   63.000000  1.658689e+09   76.000000   23.116700   \n",
       "75%    3.619935e+06  100.000000  1.658689e+09   87.000000   47.562950   \n",
       "max    7.671223e+06  100.000000  1.658689e+09   99.000000   78.218600   \n",
       "\n",
       "        Longitude  Max Temperature  Wind Speed  \n",
       "count  579.000000       579.000000  579.000000  \n",
       "mean    19.769498        70.550069    7.458342  \n",
       "std     89.328876        14.818315    5.018350  \n",
       "min   -179.166700        33.150000    0.000000  \n",
       "25%    -60.088250        59.370000    3.760000  \n",
       "50%     26.891000        72.210000    6.150000  \n",
       "75%     96.147600        81.290000   10.225000  \n",
       "max    179.316700       111.250000   31.180000  "
      ]
     },
     "execution_count": 29,
     "metadata": {},
     "output_type": "execute_result"
    }
   ],
   "source": [
    "maxHumid = weatherDict.loc[weatherDict['Humidity'] != 100]\n",
    "maxHumid.describe()"
   ]
  },
  {
   "cell_type": "code",
   "execution_count": 30,
   "metadata": {},
   "outputs": [
    {
     "data": {
      "text/plain": [
       "City ID            579\n",
       "City Name          579\n",
       "Cloudiness         579\n",
       "Country            579\n",
       "Date               579\n",
       "Humidity           579\n",
       "Latitude           579\n",
       "Longitude          579\n",
       "Max Temperature    579\n",
       "Wind Speed         579\n",
       "dtype: int64"
      ]
     },
     "execution_count": 30,
     "metadata": {},
     "output_type": "execute_result"
    }
   ],
   "source": [
    "#  Get the indices of cities that have humidity over 100%.\n",
    "maxHumid.count()"
   ]
  },
  {
   "cell_type": "code",
   "execution_count": 31,
   "metadata": {},
   "outputs": [],
   "source": [
    "# Make a new DataFrame equal to the city data to drop all humidity outliers by index.\n",
    "# Passing \"inplace=False\" will make a copy of the city_data DataFrame, which we call \"clean_city_data\".\n"
   ]
  },
  {
   "cell_type": "code",
   "execution_count": 32,
   "metadata": {},
   "outputs": [
    {
     "data": {
      "text/html": [
       "<div>\n",
       "<style scoped>\n",
       "    .dataframe tbody tr th:only-of-type {\n",
       "        vertical-align: middle;\n",
       "    }\n",
       "\n",
       "    .dataframe tbody tr th {\n",
       "        vertical-align: top;\n",
       "    }\n",
       "\n",
       "    .dataframe thead th {\n",
       "        text-align: right;\n",
       "    }\n",
       "</style>\n",
       "<table border=\"1\" class=\"dataframe\">\n",
       "  <thead>\n",
       "    <tr style=\"text-align: right;\">\n",
       "      <th></th>\n",
       "      <th>City ID</th>\n",
       "      <th>City Name</th>\n",
       "      <th>Cloudiness</th>\n",
       "      <th>Country</th>\n",
       "      <th>Date</th>\n",
       "      <th>Humidity</th>\n",
       "      <th>Latitude</th>\n",
       "      <th>Longitude</th>\n",
       "      <th>Max Temperature</th>\n",
       "      <th>Wind Speed</th>\n",
       "    </tr>\n",
       "  </thead>\n",
       "  <tbody>\n",
       "    <tr>\n",
       "      <th>0</th>\n",
       "      <td>2409215</td>\n",
       "      <td>Mattru</td>\n",
       "      <td>100</td>\n",
       "      <td>SL</td>\n",
       "      <td>1658688852</td>\n",
       "      <td>97</td>\n",
       "      <td>7.6244</td>\n",
       "      <td>-11.8332</td>\n",
       "      <td>72.21</td>\n",
       "      <td>3.44</td>\n",
       "    </tr>\n",
       "    <tr>\n",
       "      <th>1</th>\n",
       "      <td>5855927</td>\n",
       "      <td>Hilo</td>\n",
       "      <td>75</td>\n",
       "      <td>US</td>\n",
       "      <td>1658688608</td>\n",
       "      <td>70</td>\n",
       "      <td>19.7297</td>\n",
       "      <td>-155.0900</td>\n",
       "      <td>81.28</td>\n",
       "      <td>1.01</td>\n",
       "    </tr>\n",
       "    <tr>\n",
       "      <th>2</th>\n",
       "      <td>5106841</td>\n",
       "      <td>Albany</td>\n",
       "      <td>33</td>\n",
       "      <td>US</td>\n",
       "      <td>1658688483</td>\n",
       "      <td>39</td>\n",
       "      <td>42.6001</td>\n",
       "      <td>-73.9662</td>\n",
       "      <td>98.17</td>\n",
       "      <td>10.83</td>\n",
       "    </tr>\n",
       "    <tr>\n",
       "      <th>3</th>\n",
       "      <td>3839307</td>\n",
       "      <td>Rawson</td>\n",
       "      <td>100</td>\n",
       "      <td>AR</td>\n",
       "      <td>1658688852</td>\n",
       "      <td>71</td>\n",
       "      <td>-43.3002</td>\n",
       "      <td>-65.1023</td>\n",
       "      <td>44.06</td>\n",
       "      <td>12.37</td>\n",
       "    </tr>\n",
       "    <tr>\n",
       "      <th>4</th>\n",
       "      <td>2126123</td>\n",
       "      <td>Chokurdakh</td>\n",
       "      <td>97</td>\n",
       "      <td>RU</td>\n",
       "      <td>1658688853</td>\n",
       "      <td>57</td>\n",
       "      <td>70.6333</td>\n",
       "      <td>147.9167</td>\n",
       "      <td>55.20</td>\n",
       "      <td>5.82</td>\n",
       "    </tr>\n",
       "  </tbody>\n",
       "</table>\n",
       "</div>"
      ],
      "text/plain": [
       "   City ID   City Name  Cloudiness Country        Date  Humidity  Latitude  \\\n",
       "0  2409215      Mattru         100      SL  1658688852        97    7.6244   \n",
       "1  5855927        Hilo          75      US  1658688608        70   19.7297   \n",
       "2  5106841      Albany          33      US  1658688483        39   42.6001   \n",
       "3  3839307      Rawson         100      AR  1658688852        71  -43.3002   \n",
       "4  2126123  Chokurdakh          97      RU  1658688853        57   70.6333   \n",
       "\n",
       "   Longitude  Max Temperature  Wind Speed  \n",
       "0   -11.8332            72.21        3.44  \n",
       "1  -155.0900            81.28        1.01  \n",
       "2   -73.9662            98.17       10.83  \n",
       "3   -65.1023            44.06       12.37  \n",
       "4   147.9167            55.20        5.82  "
      ]
     },
     "execution_count": 32,
     "metadata": {},
     "output_type": "execute_result"
    }
   ],
   "source": [
    "maxHumid.head()"
   ]
  },
  {
   "cell_type": "markdown",
   "metadata": {},
   "source": [
    "## Plotting the Data\n",
    "* Use proper labeling of the plots using plot titles (including date of analysis) and axes labels.\n",
    "* Save the plotted figures as .pngs."
   ]
  },
  {
   "cell_type": "markdown",
   "metadata": {},
   "source": [
    "## Latitude vs. Temperature Plot"
   ]
  },
  {
   "cell_type": "code",
   "execution_count": 33,
   "metadata": {
    "scrolled": true
   },
   "outputs": [
    {
     "data": {
      "image/png": "[encoded data removed]",
      "text/plain": [
       "<Figure size 432x288 with 1 Axes>"
      ]
     },
     "metadata": {
      "needs_background": "light"
     },
     "output_type": "display_data"
    }
   ],
   "source": [
    "plt.scatter(maxHumid[\"Latitude\"], maxHumid[\"Max Temperature\"])\n",
    "plt.title(\"City Latitude vs Max Temperature (7/21/22)\")\n",
    "plt.xlabel(\"Latitude\")\n",
    "plt.ylabel(\"Max Temperature (F)\")\n",
    "plt.grid()\n",
    "plt.show()"
   ]
  },
  {
   "cell_type": "markdown",
   "metadata": {},
   "source": [
    "## Latitude vs. Humidity Plot"
   ]
  },
  {
   "cell_type": "code",
   "execution_count": 34,
   "metadata": {},
   "outputs": [
    {
     "data": {
      "image/png": "[encoded data removed]",
      "text/plain": [
       "<Figure size 432x288 with 1 Axes>"
      ]
     },
     "metadata": {
      "needs_background": "light"
     },
     "output_type": "display_data"
    }
   ],
   "source": [
    "plt.scatter(maxHumid[\"Latitude\"], maxHumid[\"Humidity\"])\n",
    "plt.title(\"City Latitude vs Humidity (7/21/22)\")\n",
    "plt.xlabel(\"Latitude\")\n",
    "plt.ylabel(\"Humidity (%)\")\n",
    "plt.grid()\n",
    "plt.show()"
   ]
  },
  {
   "cell_type": "markdown",
   "metadata": {},
   "source": [
    "## Latitude vs. Cloudiness Plot"
   ]
  },
  {
   "cell_type": "code",
   "execution_count": 35,
   "metadata": {},
   "outputs": [
    {
     "data": {
      "image/png": "[encoded data removed]",
      "text/plain": [
       "<Figure size 432x288 with 1 Axes>"
      ]
     },
     "metadata": {
      "needs_background": "light"
     },
     "output_type": "display_data"
    }
   ],
   "source": [
    "plt.scatter(maxHumid[\"Latitude\"], maxHumid[\"Cloudiness\"])\n",
    "plt.title(\"City Latitude vs Cloudiness (7/21/22)\")\n",
    "plt.xlabel(\"Latitude\")\n",
    "plt.ylabel(\"Cloudiness (%)\")\n",
    "plt.grid()\n",
    "plt.show()"
   ]
  },
  {
   "cell_type": "markdown",
   "metadata": {},
   "source": [
    "## Latitude vs. Wind Speed Plot"
   ]
  },
  {
   "cell_type": "code",
   "execution_count": 36,
   "metadata": {},
   "outputs": [
    {
     "data": {
      "image/png": "[encoded data removed]",
      "text/plain": [
       "<Figure size 432x288 with 1 Axes>"
      ]
     },
     "metadata": {
      "needs_background": "light"
     },
     "output_type": "display_data"
    }
   ],
   "source": [
    "plt.scatter(maxHumid[\"Latitude\"], maxHumid[\"Wind Speed\"])\n",
    "plt.title(\"City Latitude vs Wind Speed (7/21/22)\")\n",
    "plt.xlabel(\"Latitude\")\n",
    "plt.ylabel(\"Wind Speed (mph)\")\n",
    "plt.ylim(0,45)\n",
    "plt.grid()\n",
    "plt.show()"
   ]
  },
  {
   "cell_type": "markdown",
   "metadata": {},
   "source": [
    "## Linear Regression"
   ]
  },
  {
   "cell_type": "code",
   "execution_count": 37,
   "metadata": {},
   "outputs": [],
   "source": [
    "north = maxHumid['Latitude'] >= 0\n",
    "northernHem = maxHumid[north]\n",
    "southernHem = maxHumid[~north]"
   ]
  },
  {
   "cell_type": "markdown",
   "metadata": {},
   "source": [
    "####  Northern Hemisphere - Max Temp vs. Latitude Linear Regression"
   ]
  },
  {
   "cell_type": "code",
   "execution_count": 38,
   "metadata": {},
   "outputs": [
    {
     "name": "stdout",
     "output_type": "stream",
     "text": [
      "The r-value is 0.4436441519920463\n"
     ]
    },
    {
     "data": {
      "image/png": "[encoded data removed]",
      "text/plain": [
       "<Figure size 432x288 with 1 Axes>"
      ]
     },
     "metadata": {
      "needs_background": "light"
     },
     "output_type": "display_data"
    }
   ],
   "source": [
    "x_values = northernHem['Latitude']\n",
    "y_values = northernHem['Max Temperature']\n",
    "(slope, intercept, rvalue, pvalue, stderr) = linregress(x_values, y_values)\n",
    "regress_values = x_values * slope + intercept\n",
    "line_eq = \"y = \" + str(round(slope,2)) + \"x + \" + str(round(intercept,2))\n",
    "plt.scatter(x_values,y_values)\n",
    "plt.plot(x_values,regress_values,\"r-\")\n",
    "plt.xlabel('Latitude')\n",
    "plt.ylabel('Max Temp')\n",
    "print(f\"The r-value is {rvalue**2}\")\n",
    "plt.annotate(line_eq,(10,40),fontsize=15,color=\"red\")\n",
    "plt.show()\n"
   ]
  },
  {
   "cell_type": "markdown",
   "metadata": {},
   "source": [
    "####  Southern Hemisphere - Max Temp vs. Latitude Linear Regression"
   ]
  },
  {
   "cell_type": "code",
   "execution_count": 39,
   "metadata": {},
   "outputs": [
    {
     "name": "stdout",
     "output_type": "stream",
     "text": [
      "The r-value is 0.570152051164593\n"
     ]
    },
    {
     "data": {
      "image/png": "[encoded data removed]",
      "text/plain": [
       "<Figure size 432x288 with 1 Axes>"
      ]
     },
     "metadata": {
      "needs_background": "light"
     },
     "output_type": "display_data"
    }
   ],
   "source": [
    "x_values = southernHem['Latitude']\n",
    "y_values = southernHem['Max Temperature']\n",
    "(slope, intercept, rvalue, pvalue, stderr) = linregress(x_values, y_values)\n",
    "regress_values = x_values * slope + intercept\n",
    "line_eq = \"y = \" + str(round(slope,2)) + \"x + \" + str(round(intercept,2))\n",
    "plt.scatter(x_values,y_values)\n",
    "plt.plot(x_values,regress_values,\"r-\")\n",
    "plt.xlabel('Latitude')\n",
    "plt.ylabel('Max Temp')\n",
    "print(f\"The r-value is {rvalue**2}\")\n",
    "plt.annotate(line_eq,(-50,80),fontsize=15,color=\"red\")\n",
    "plt.show()"
   ]
  },
  {
   "cell_type": "markdown",
   "metadata": {},
   "source": [
    "####  Northern Hemisphere - Humidity (%) vs. Latitude Linear Regression"
   ]
  },
  {
   "cell_type": "code",
   "execution_count": 40,
   "metadata": {},
   "outputs": [
    {
     "name": "stdout",
     "output_type": "stream",
     "text": [
      "The r-value is 0.009653516394166199\n"
     ]
    },
    {
     "data": {
      "image/png": "[encoded data removed]",
      "text/plain": [
       "<Figure size 432x288 with 1 Axes>"
      ]
     },
     "metadata": {
      "needs_background": "light"
     },
     "output_type": "display_data"
    }
   ],
   "source": [
    "x_values = northernHem['Latitude']\n",
    "y_values = northernHem['Humidity']\n",
    "(slope, intercept, rvalue, pvalue, stderr) = linregress(x_values, y_values)\n",
    "regress_values = x_values * slope + intercept\n",
    "line_eq = \"y = \" + str(round(slope,2)) + \"x + \" + str(round(intercept,2))\n",
    "plt.scatter(x_values,y_values)\n",
    "plt.plot(x_values,regress_values,\"r-\")\n",
    "plt.xlabel('Latitude')\n",
    "plt.ylabel('Humidity')\n",
    "print(f\"The r-value is {rvalue**2}\")\n",
    "plt.annotate(line_eq,(40,10),fontsize=15,color=\"red\")\n",
    "plt.show()"
   ]
  },
  {
   "cell_type": "markdown",
   "metadata": {},
   "source": [
    "####  Southern Hemisphere - Humidity (%) vs. Latitude Linear Regression"
   ]
  },
  {
   "cell_type": "code",
   "execution_count": 41,
   "metadata": {},
   "outputs": [
    {
     "name": "stdout",
     "output_type": "stream",
     "text": [
      "The r-value is 0.03223077577645941\n"
     ]
    },
    {
     "data": {
      "image/png": "[encoded data removed]",
      "text/plain": [
       "<Figure size 432x288 with 1 Axes>"
      ]
     },
     "metadata": {
      "needs_background": "light"
     },
     "output_type": "display_data"
    }
   ],
   "source": [
    "x_values = southernHem['Latitude']\n",
    "y_values = southernHem['Humidity']\n",
    "(slope, intercept, rvalue, pvalue, stderr) = linregress(x_values, y_values)\n",
    "regress_values = x_values * slope + intercept\n",
    "line_eq = \"y = \" + str(round(slope,2)) + \"x + \" + str(round(intercept,2))\n",
    "plt.scatter(x_values,y_values)\n",
    "plt.plot(x_values,regress_values,\"r-\")\n",
    "plt.xlabel('Latitude')\n",
    "plt.ylabel('Humidity')\n",
    "print(f\"The r-value is {rvalue**2}\")\n",
    "plt.annotate(line_eq,(-50,20),fontsize=15,color=\"red\")\n",
    "plt.show()"
   ]
  },
  {
   "cell_type": "markdown",
   "metadata": {},
   "source": [
    "####  Northern Hemisphere - Cloudiness (%) vs. Latitude Linear Regression"
   ]
  },
  {
   "cell_type": "code",
   "execution_count": 42,
   "metadata": {},
   "outputs": [
    {
     "name": "stdout",
     "output_type": "stream",
     "text": [
      "The r-value is 0.00042802500250277133\n"
     ]
    },
    {
     "data": {
      "image/png": "[encoded data removed]",
      "text/plain": [
       "<Figure size 432x288 with 1 Axes>"
      ]
     },
     "metadata": {
      "needs_background": "light"
     },
     "output_type": "display_data"
    }
   ],
   "source": [
    "x_values = northernHem['Latitude']\n",
    "y_values = northernHem['Cloudiness']\n",
    "(slope, intercept, rvalue, pvalue, stderr) = linregress(x_values, y_values)\n",
    "regress_values = x_values * slope + intercept\n",
    "line_eq = \"y = \" + str(round(slope,2)) + \"x + \" + str(round(intercept,2))\n",
    "plt.scatter(x_values,y_values)\n",
    "plt.plot(x_values,regress_values,\"r-\")\n",
    "plt.xlabel('Latitude')\n",
    "plt.ylabel('Cloudiness')\n",
    "print(f\"The r-value is {rvalue**2}\")\n",
    "plt.annotate(line_eq,(40,10),fontsize=15,color=\"red\")\n",
    "plt.show()"
   ]
  },
  {
   "cell_type": "markdown",
   "metadata": {},
   "source": [
    "####  Southern Hemisphere - Cloudiness (%) vs. Latitude Linear Regression"
   ]
  },
  {
   "cell_type": "code",
   "execution_count": 43,
   "metadata": {},
   "outputs": [
    {
     "name": "stdout",
     "output_type": "stream",
     "text": [
      "The r-value is 0.00022200913916472153\n"
     ]
    },
    {
     "data": {
      "image/png": "[encoded data removed]",
      "text/plain": [
       "<Figure size 432x288 with 1 Axes>"
      ]
     },
     "metadata": {
      "needs_background": "light"
     },
     "output_type": "display_data"
    }
   ],
   "source": [
    "x_values = southernHem['Latitude']\n",
    "y_values = southernHem['Cloudiness']\n",
    "(slope, intercept, rvalue, pvalue, stderr) = linregress(x_values, y_values)\n",
    "regress_values = x_values * slope + intercept\n",
    "line_eq = \"y = \" + str(round(slope,2)) + \"x + \" + str(round(intercept,2))\n",
    "plt.scatter(x_values,y_values)\n",
    "plt.plot(x_values,regress_values,\"r-\")\n",
    "plt.xlabel('Latitude')\n",
    "plt.ylabel('Cloudiness')\n",
    "print(f\"The r-value is {rvalue**2}\")\n",
    "plt.annotate(line_eq,(-50,80),fontsize=15,color=\"red\")\n",
    "plt.show()"
   ]
  },
  {
   "cell_type": "markdown",
   "metadata": {},
   "source": [
    "####  Northern Hemisphere - Wind Speed (mph) vs. Latitude Linear Regression"
   ]
  },
  {
   "cell_type": "code",
   "execution_count": 44,
   "metadata": {},
   "outputs": [
    {
     "name": "stdout",
     "output_type": "stream",
     "text": [
      "The r-value is 0.0005284629588878616\n"
     ]
    },
    {
     "data": {
      "image/png": "[encoded data removed]",
      "text/plain": [
       "<Figure size 432x288 with 1 Axes>"
      ]
     },
     "metadata": {
      "needs_background": "light"
     },
     "output_type": "display_data"
    }
   ],
   "source": [
    "x_values = northernHem['Latitude']\n",
    "y_values = northernHem['Wind Speed']\n",
    "(slope, intercept, rvalue, pvalue, stderr) = linregress(x_values, y_values)\n",
    "regress_values = x_values * slope + intercept\n",
    "line_eq = \"y = \" + str(round(slope,2)) + \"x + \" + str(round(intercept,2))\n",
    "plt.scatter(x_values,y_values)\n",
    "plt.plot(x_values,regress_values,\"r-\")\n",
    "plt.xlabel('Latitude')\n",
    "plt.ylabel('Wind Speed')\n",
    "print(f\"The r-value is {rvalue**2}\")\n",
    "plt.annotate(line_eq,(40,30),fontsize=15,color=\"red\")\n",
    "plt.show()"
   ]
  },
  {
   "cell_type": "markdown",
   "metadata": {},
   "source": [
    "####  Southern Hemisphere - Wind Speed (mph) vs. Latitude Linear Regression"
   ]
  },
  {
   "cell_type": "code",
   "execution_count": 45,
   "metadata": {},
   "outputs": [
    {
     "name": "stdout",
     "output_type": "stream",
     "text": [
      "The r-value is 0.00019757117210575351\n"
     ]
    },
    {
     "data": {
      "image/png": "[encoded data removed]",
      "text/plain": [
       "<Figure size 432x288 with 1 Axes>"
      ]
     },
     "metadata": {
      "needs_background": "light"
     },
     "output_type": "display_data"
    }
   ],
   "source": [
    "x_values = southernHem['Latitude']\n",
    "y_values = southernHem['Wind Speed']\n",
    "(slope, intercept, rvalue, pvalue, stderr) = linregress(x_values, y_values)\n",
    "regress_values = x_values * slope + intercept\n",
    "line_eq = \"y = \" + str(round(slope,2)) + \"x + \" + str(round(intercept,2))\n",
    "plt.scatter(x_values,y_values)\n",
    "plt.plot(x_values,regress_values,\"r-\")\n",
    "plt.xlabel('Latitude')\n",
    "plt.ylabel('Wind Speed')\n",
    "print(f\"The r-value is {rvalue**2}\")\n",
    "plt.annotate(line_eq,(-30,25),fontsize=15,color=\"red\")\n",
    "plt.show()"
   ]
  }
 ],
 "metadata": {
  "anaconda-cloud": {},
  "kernel_info": {
   "name": "python3"
  },
  "kernelspec": {
   "display_name": "Python 3 (ipykernel)",
   "language": "python",
   "name": "python3"
  },
  "language_info": {
   "codemirror_mode": {
    "name": "ipython",
    "version": 3
   },
   "file_extension": ".py",
   "mimetype": "text/x-python",
   "name": "python",
   "nbconvert_exporter": "python",
   "pygments_lexer": "ipython3",
   "version": "3.9.12"
  },
  "latex_envs": {
   "LaTeX_envs_menu_present": true,
   "autoclose": false,
   "autocomplete": true,
   "bibliofile": "biblio.bib",
   "cite_by": "apalike",
   "current_citInitial": 1,
   "eqLabelWithNumbers": true,
   "eqNumInitial": 1,
   "hotkeys": {
    "equation": "Ctrl-E",
    "itemize": "Ctrl-I"
   },
   "labels_anchors": false,
   "latex_user_defs": false,
   "report_style_numbering": false,
   "user_envs_cfg": false
  },
  "nteract": {
   "version": "0.12.3"
  }
 },
 "nbformat": 4,
 "nbformat_minor": 2
}
