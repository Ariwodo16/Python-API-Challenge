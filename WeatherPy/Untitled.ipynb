{
 "cells": [
  {
   "cell_type": "code",
   "execution_count": null,
   "id": "d04cb023",
   "metadata": {},
   "outputs": [],
   "source": [
    "# set up empty lists for needed characters\n",
    "city_id = []\n",
    "city_name = []\n",
    "cloudiness = []\n",
    "country = []\n",
    "date = []\n",
    "humidity = []\n",
    "lat = []\n",
    "lng = []\n",
    "max_temp = []\n",
    "wind_speed = []\n",
    "processingRecord = 0\n",
    "setNumber = 1\n",
    "\n",
    "#start processing record at 1\n",
    "processingRecord = 1\n",
    "setNumber = 1\n",
    "\n",
    "print(\"Beginning Data Retrieval\")\n",
    "print(\"-------------------------\")\n",
    "\n",
    "# loop through each city\n",
    "for city in cities:\n",
    "    \n",
    "#Exception handling\n",
    "    try:\n",
    "        response = requests.get(queryURL + city).json()\n",
    "        city_id.append(response['id'])\n",
    "        city_name.append(response['name']) \n",
    "        cloudiness.append(response['clouds']['all'])\n",
    "        country.append(response['sys']['country'])\n",
    "        date.append(response['dt'])\n",
    "        humidity.append(response['main']['humidity']) \n",
    "        lat.append(response['coord']['lat'])\n",
    "        lng.append(response['coord']['lon'])\n",
    "        max_temp.append(response['main']['temp_max']) \n",
    "        wind_speed.append(response['wind']['speed'])\n",
    "        cityResponse = response['name']   \n",
    "        if processingRecord > 49:\n",
    "            processingRecord = 0\n",
    "            setNumber = setNumber + 1\n",
    "    \n",
    "        else:\n",
    "            processingRecord = processingRecord + 1\n",
    "\n",
    "        print(f\"Processing Record {processingRecord} of {setNumber} | {cityResponse}\")\n",
    "        \n",
    "    except:\n",
    "        print(\"city not found. Skipping ...\")\n",
    "    continue\n",
    "    \n",
    "print(\"-------------------------\")\n",
    "print(\"Data Retrieval Complete\")\n",
    "print(\"-------------------------\")"
   ]
  }
 ],
 "metadata": {
  "kernelspec": {
   "display_name": "Python 3 (ipykernel)",
   "language": "python",
   "name": "python3"
  },
  "language_info": {
   "codemirror_mode": {
    "name": "ipython",
    "version": 3
   },
   "file_extension": ".py",
   "mimetype": "text/x-python",
   "name": "python",
   "nbconvert_exporter": "python",
   "pygments_lexer": "ipython3",
   "version": "3.9.12"
  }
 },
 "nbformat": 4,
 "nbformat_minor": 5
}
